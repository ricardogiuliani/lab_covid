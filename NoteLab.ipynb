{
 "cells": [
  {
   "cell_type": "code",
   "execution_count": 43,
   "metadata": {},
   "outputs": [],
   "source": [
    "import requests\n",
    "import pandas as pd\n",
    "import numpy as np\n",
    "from datetime import date\n",
    "import import_ipynb\n",
    "import covid_dict as cd"
   ]
  },
  {
   "cell_type": "markdown",
   "metadata": {},
   "source": [
    "1) [Remover colunas dos atributos desconsiderados](#remove_column)  \n",
    "2) [Arrumando os dados](#data_fix)  \n",
    "3) [Gerando a matrix binária](#binary_matrix)  \n",
    "3.1) [Matriz: Óbitos](#binary_matrix_obito)   \n",
    "3.2) [Matriz: Recuperados](#binary_matrix_rec)  \n",
    "3.3) [Matriz: Assintomáticos](#binary_matrix_assin)  \n",
    "3.4) [Matriz: Sintomáticos](#binary_matrix_sin)  \n",
    "\n",
    "[Panda](Panda_dataset.ipynb)\n",
    "\n",
    "[Dicionário de dados](covid_dict.ipynb)"
   ]
  },
  {
   "cell_type": "code",
   "execution_count": 2,
   "metadata": {},
   "outputs": [],
   "source": [
    "# csv_url = \"https://ti.saude.rs.gov.br/covid19/download\"\n",
    "#today = date.today()\n",
    "# dataset = f'dataset-{today}.csv'\n",
    "\n",
    "# req = requests.get(csv_url)\n",
    "# url_content = req.content\n",
    "# csv_file = open(dataset, 'wb')\n",
    "\n",
    "# csv_file.write(url_content)\n",
    "# csv_file.close()"
   ]
  },
  {
   "cell_type": "code",
   "execution_count": 3,
   "metadata": {
    "scrolled": true
   },
   "outputs": [],
   "source": [
    "df = pd.read_csv('20201030.csv', sep=';')  #nrows=1000"
   ]
  },
  {
   "cell_type": "markdown",
   "metadata": {},
   "source": [
    "Atributos desconsiderados:\n",
    "* COD_IBGE\n",
    "* COD_REGIAO_COVID\n",
    "* REGIAO_COVID\n",
    "* DATA_SINTOMAS\n",
    "* DATA_EVOLUCAO\n",
    "* DATA_INCLUSAO_OBITO\n",
    "* DATA_EVOLUCAO_ESTIMADA\n",
    "* ETNIA_INDIGENA\n",
    "* FONTE_INFORMACAO\n",
    "* PAIS_NASCIMENTO\n",
    "* BAIRRO\n",
    "\n",
    "#### 1) Remover colunas dos atributos desconsiderados <a name=\"remove_column\"></a>"
   ]
  },
  {
   "cell_type": "code",
   "execution_count": 4,
   "metadata": {},
   "outputs": [],
   "source": [
    "for e in cd.attr_removed:\n",
    "    del df[e]"
   ]
  },
  {
   "cell_type": "markdown",
   "metadata": {},
   "source": [
    "#### 2) Removendo registros EVOLUCAO == 'EM ACOMPANHAMENTO'"
   ]
  },
  {
   "cell_type": "code",
   "execution_count": 5,
   "metadata": {},
   "outputs": [],
   "source": [
    "df = df[~df.eq('EM ACOMPANHAMENTO').any(axis=1)]"
   ]
  },
  {
   "cell_type": "markdown",
   "metadata": {},
   "source": [
    "#### 3) Arrumando os dados - FAIXAETARIA, DATA_CONFIRMACAO, CONDICOES <a name=\"data_fix\"></a>\n",
    "\n",
    "Faixa Etária\n",
    "* < 1: Bebê\n",
    "* (01,09): Criança\n",
    "* (10, 19): Jovem\n",
    "* (20, 59): Adulto\n",
    "* (60, 79): Idoso 1\n",
    "* (80 +): Idoso 2\n",
    "       "
   ]
  },
  {
   "cell_type": "code",
   "execution_count": 6,
   "metadata": {
    "scrolled": true
   },
   "outputs": [],
   "source": [
    "for index, row in df.iterrows():\n",
    "    if row['FAIXAETARIA'] == '<1':\n",
    "        row['FAIXAETARIA'] = 'Bebê'\n",
    "    elif row['FAIXAETARIA'] == '01 a 04' or row['FAIXAETARIA'] == '05 a 09':\n",
    "        row['FAIXAETARIA'] = 'Criança'\n",
    "    elif row['FAIXAETARIA'] == '10 a 14' or row['FAIXAETARIA'] == '15 a 19':\n",
    "        row['FAIXAETARIA'] = 'Jovem'\n",
    "    elif row['FAIXAETARIA'] == '20 a 29' or row['FAIXAETARIA'] == '30 a 39' or row['FAIXAETARIA'] == '40 a 49' or row['FAIXAETARIA'] == '50 a 59':\n",
    "        row['FAIXAETARIA'] = 'Adulto'\n",
    "    elif row['FAIXAETARIA'] == '60 a 69' or row['FAIXAETARIA'] == '70 a 79':\n",
    "        row['FAIXAETARIA'] = 'Idoso_1'\n",
    "    else:\n",
    "        row['FAIXAETARIA'] = 'Idoso_2'"
   ]
  },
  {
   "cell_type": "markdown",
   "metadata": {},
   "source": [
    "Data de Confirmação"
   ]
  },
  {
   "cell_type": "code",
   "execution_count": 7,
   "metadata": {
    "scrolled": false
   },
   "outputs": [],
   "source": [
    "for index, row in df.iterrows():\n",
    "    mes = row['DATA_CONFIRMACAO'].split('/')\n",
    "    if mes[1] == '02':\n",
    "        row['DATA_CONFIRMACAO'] = 'Fevereiro'\n",
    "    elif mes[1] == '03':\n",
    "        row['DATA_CONFIRMACAO'] = 'Março'\n",
    "    elif mes[1] == '04':\n",
    "        row['DATA_CONFIRMACAO'] = 'Abril'\n",
    "    elif mes[1] == '05':\n",
    "        row['DATA_CONFIRMACAO'] = 'Maio'    \n",
    "    elif mes[1] == '06':\n",
    "        row['DATA_CONFIRMACAO'] = 'Junho'\n",
    "    elif mes[1] == '07':\n",
    "        row['DATA_CONFIRMACAO'] = 'Julho'\n",
    "    elif mes[1] == '08':\n",
    "        row['DATA_CONFIRMACAO'] = 'Agosto'\n",
    "    elif mes[1] == '09':\n",
    "        row['DATA_CONFIRMACAO'] = 'Setembro'\n",
    "    else:\n",
    "        row['DATA_CONFIRMACAO'] = 'Outubro'"
   ]
  },
  {
   "cell_type": "markdown",
   "metadata": {},
   "source": [
    "Condições (Comorbidades)"
   ]
  },
  {
   "cell_type": "code",
   "execution_count": 8,
   "metadata": {
    "scrolled": true
   },
   "outputs": [],
   "source": [
    "for e in cd.comorbidades:\n",
    "    df[e] = str(np.nan)\n",
    "    \n",
    "for index, row in df.iterrows():\n",
    "    if 'asma' in str(row['CONDICOES']).lower():\n",
    "        row['asma'] = 'SIM'\n",
    "    else:\n",
    "        row['asma'] = 'NAO'\n",
    "    if 'respirató' in str(row['CONDICOES']).lower():\n",
    "        row['d_respiratoria'] = 'SIM'\n",
    "    else:\n",
    "        row['d_respiratoria'] = 'NAO'\n",
    "    if 'outro' in str(row['CONDICOES']).lower():\n",
    "        row['outras_comorbidades'] = 'SIM'\n",
    "    else:\n",
    "        row['outras_comorbidades'] = 'NAO'\n",
    "    if 'outro' in str(row['CONDICOES']).lower():\n",
    "        row['outras_comorbidades'] = 'SIM'\n",
    "    else:\n",
    "        row['outras_comorbidades'] = 'NAO'\n",
    "    if 'cromossômicas' in str(row['CONDICOES']).lower():\n",
    "        row['d_cromossomica'] = 'SIM'\n",
    "    else:\n",
    "        row['d_cromossomica'] = 'NAO'\n",
    "    if 'neuro' in str(row['CONDICOES']).lower():\n",
    "        row['d_neurologica'] = 'SIM'\n",
    "    else:\n",
    "        row['d_neurologica'] = 'NAO'\n",
    "    if 'diabe' in str(row['CONDICOES']).lower():\n",
    "        row['diabetes'] = 'SIM'\n",
    "    else:\n",
    "        row['diabetes'] = 'NAO'\n",
    "    if 'imuno' in str(row['CONDICOES']).lower():\n",
    "        row['imunodeficiencia'] = 'SIM'\n",
    "    else:\n",
    "        row['imunodeficiencia'] = 'NAO'\n",
    "    if 'rena' in str(row['CONDICOES']).lower():\n",
    "        row['d_renal'] = 'SIM'\n",
    "    else:\n",
    "        row['d_renal'] = 'NAO'\n",
    "    if 'hepát' in str(row['CONDICOES']).lower():\n",
    "        row['d_hepatica'] = 'SIM'\n",
    "    else:\n",
    "        row['d_hepatica'] = 'NAO'\n",
    "    if 'hemato' in str(row['CONDICOES']).lower():\n",
    "        row['d_hematologica'] = 'SIM'\n",
    "    else:\n",
    "        row['d_hematologica'] = 'NAO'\n",
    "    if 'card' in str(row['CONDICOES']).lower():\n",
    "        row['d_cardiaca'] = 'SIM'\n",
    "    else:\n",
    "        row['d_cardiaca'] = 'NAO'\n",
    "    if 'obes' in str(row['CONDICOES']).lower():\n",
    "        row['obesidade'] = 'SIM'\n",
    "    else:\n",
    "        row['obesidade'] = 'NAO'\n",
    "    if 'down' in str(row['CONDICOES']).lower():\n",
    "        row['sindrome_down'] = 'SIM'\n",
    "    else:\n",
    "        row['sindrome_down'] = 'NAO'\n",
    "del df['CONDICOES']"
   ]
  },
  {
   "cell_type": "markdown",
   "metadata": {},
   "source": [
    "### Gerando a matrix binária <a name=\"binary_matrix\"></a>"
   ]
  },
  {
   "cell_type": "code",
   "execution_count": 9,
   "metadata": {},
   "outputs": [],
   "source": [
    "for e in cd.municipio:\n",
    "    df[e] = df.apply(lambda row: 1 if row.MUNICIPIO == e else 0, axis=1)\n",
    "    \n",
    "for e in cd.faixa_etaria:\n",
    "    df[e] = df.apply(lambda row: 1 if row.FAIXAETARIA == e else 0, axis=1)\n",
    "    \n",
    "for e in cd.testagem: \n",
    "    df[e] = df.apply(lambda row: 1 if row.CRITERIO == e else 0, axis=1)\n",
    "\n",
    "for e in cd.meses:\n",
    "    df[e] = df.apply(lambda row: 1 if row.DATA_CONFIRMACAO == e else 0, axis=1)\n",
    "    \n",
    "for e in cd.evolucao:\n",
    "    df[e] = df.apply(lambda row: 1 if row.EVOLUCAO == e else 0, axis=1)\n",
    "    \n",
    "for e in cd.etnia:\n",
    "    df[e] = df.apply(lambda row: 1 if row.RACA_COR == e else 0, axis=1)"
   ]
  },
  {
   "cell_type": "code",
   "execution_count": 10,
   "metadata": {},
   "outputs": [],
   "source": [
    "df['SexF'] = df.apply(lambda row: 1 if row.SEXO == 'Feminino' else 0, axis=1)\n",
    "df['SexM'] = df.apply(lambda row: 1 if row.SEXO == 'Masculino' else 0, axis=1)\n",
    "df['Hospitalizado'] = df.apply(lambda row: 1 if row.HOSPITALIZADO == 'SIM' else 0, axis=1)\n",
    "df['Hosp_SRAG'] = df.apply(lambda row: 1 if row.HOSPITALIZACAO_SRAG == 'SIM' else 0, axis=1)\n",
    "df['Prof_Saude'] = df.apply(lambda row: 1 if row.PROFISSIONAL_SAUDE == 'SIM' else 0, axis=1)\n",
    "df['Febre'] = df.apply(lambda row: 1 if row.FEBRE == 'SIM' else 0, axis=1)\n",
    "df['Tosse'] = df.apply(lambda row: 1 if row.TOSSE == 'SIM' else 0, axis=1)\n",
    "df['Garganta'] = df.apply(lambda row: 1 if row.GARGANTA == 'SIM' else 0, axis=1)\n",
    "df['Dispneia'] = df.apply(lambda row: 1 if row.DISPNEIA == 'SIM' else 0, axis=1)\n",
    "df['Outros_Sint'] = df.apply(lambda row: 1 if row.OUTROS == 'SIM' else 0, axis=1)\n",
    "df['Gestante'] = df.apply(lambda row: 1 if row.GESTANTE == 'SIM' else 0, axis=1)\n",
    "df['Presidiario'] = df.apply(lambda row: 1 if row.PES_PRIV_LIBERDADE == 'SIM' else 0, axis=1)\n",
    "df['Asma'] = df.apply(lambda row: 1 if row.asma == 'SIM' else 0, axis=1)\n",
    "df['DRespiratoria'] = df.apply(lambda row: 1 if row.d_respiratoria == 'SIM' else 0, axis=1)\n",
    "df['DNeurologica'] = df.apply(lambda row: 1 if row.d_neurologica == 'SIM' else 0, axis=1)\n",
    "df['Diabetes'] = df.apply(lambda row: 1 if row.diabetes == 'SIM' else 0, axis=1)\n",
    "df['Imunodef'] = df.apply(lambda row: 1 if row.imunodeficiencia == 'SIM' else 0, axis=1)\n",
    "df['DRenal'] = df.apply(lambda row: 1 if row.d_renal == 'SIM' else 0, axis=1)\n",
    "df['DHepatica'] = df.apply(lambda row: 1 if row.d_hepatica == 'SIM' else 0, axis=1)\n",
    "df['DCardiaca'] = df.apply(lambda row: 1 if row.d_cardiaca == 'SIM' else 0, axis=1)\n",
    "df['Obesidade'] = df.apply(lambda row: 1 if row.obesidade == 'SIM' else 0, axis=1)\n",
    "df['Outras_Comorbidades'] = df.apply(lambda row: 1 if row.outras_comorbidades == 'SIM' else 0, axis=1)\n",
    "df['DCromossomica'] = df.apply(lambda row: 1 if row.d_cromossomica == 'SIM' else 0, axis=1)\n",
    "df['DHematologica'] = df.apply(lambda row: 1 if row.d_hematologica == 'SIM' else 0, axis=1)\n",
    "df['Sindrome_down'] = df.apply(lambda row: 1 if row.sindrome_down == 'SIM' else 0, axis=1)"
   ]
  },
  {
   "cell_type": "code",
   "execution_count": 11,
   "metadata": {},
   "outputs": [],
   "source": [
    "obitos = df.copy()\n",
    "rec = df.copy()\n",
    "sin = df.copy()\n",
    "assin = df.copy()"
   ]
  },
  {
   "cell_type": "code",
   "execution_count": 38,
   "metadata": {
    "scrolled": true
   },
   "outputs": [
    {
     "data": {
      "text/html": [
       "<div>\n",
       "<style scoped>\n",
       "    .dataframe tbody tr th:only-of-type {\n",
       "        vertical-align: middle;\n",
       "    }\n",
       "\n",
       "    .dataframe tbody tr th {\n",
       "        vertical-align: top;\n",
       "    }\n",
       "\n",
       "    .dataframe thead th {\n",
       "        text-align: right;\n",
       "    }\n",
       "</style>\n",
       "<table border=\"1\" class=\"dataframe\">\n",
       "  <thead>\n",
       "    <tr style=\"text-align: right;\">\n",
       "      <th></th>\n",
       "      <th>ACEGUÁ</th>\n",
       "      <th>ÁGUA SANTA</th>\n",
       "      <th>AGUDO</th>\n",
       "      <th>AJURICABA</th>\n",
       "      <th>ALECRIM</th>\n",
       "      <th>ALEGRETE</th>\n",
       "      <th>ALEGRIA</th>\n",
       "      <th>ALMIRANTE TAMANDARÉ DO SUL</th>\n",
       "      <th>ALPESTRE</th>\n",
       "      <th>ALTO ALEGRE</th>\n",
       "      <th>...</th>\n",
       "      <th>Diabetes</th>\n",
       "      <th>Imunodef</th>\n",
       "      <th>DRenal</th>\n",
       "      <th>DHepatica</th>\n",
       "      <th>DCardiaca</th>\n",
       "      <th>Obesidade</th>\n",
       "      <th>Outras_Comorbidades</th>\n",
       "      <th>DCromossomica</th>\n",
       "      <th>DHematologica</th>\n",
       "      <th>Sindrome_down</th>\n",
       "    </tr>\n",
       "  </thead>\n",
       "  <tbody>\n",
       "    <tr>\n",
       "      <th>0</th>\n",
       "      <td>1</td>\n",
       "      <td>0</td>\n",
       "      <td>0</td>\n",
       "      <td>0</td>\n",
       "      <td>0</td>\n",
       "      <td>0</td>\n",
       "      <td>0</td>\n",
       "      <td>0</td>\n",
       "      <td>0</td>\n",
       "      <td>0</td>\n",
       "      <td>...</td>\n",
       "      <td>0</td>\n",
       "      <td>0</td>\n",
       "      <td>0</td>\n",
       "      <td>0</td>\n",
       "      <td>0</td>\n",
       "      <td>0</td>\n",
       "      <td>0</td>\n",
       "      <td>0</td>\n",
       "      <td>0</td>\n",
       "      <td>0</td>\n",
       "    </tr>\n",
       "    <tr>\n",
       "      <th>1</th>\n",
       "      <td>1</td>\n",
       "      <td>0</td>\n",
       "      <td>0</td>\n",
       "      <td>0</td>\n",
       "      <td>0</td>\n",
       "      <td>0</td>\n",
       "      <td>0</td>\n",
       "      <td>0</td>\n",
       "      <td>0</td>\n",
       "      <td>0</td>\n",
       "      <td>...</td>\n",
       "      <td>0</td>\n",
       "      <td>0</td>\n",
       "      <td>0</td>\n",
       "      <td>0</td>\n",
       "      <td>0</td>\n",
       "      <td>0</td>\n",
       "      <td>0</td>\n",
       "      <td>0</td>\n",
       "      <td>0</td>\n",
       "      <td>0</td>\n",
       "    </tr>\n",
       "    <tr>\n",
       "      <th>2</th>\n",
       "      <td>1</td>\n",
       "      <td>0</td>\n",
       "      <td>0</td>\n",
       "      <td>0</td>\n",
       "      <td>0</td>\n",
       "      <td>0</td>\n",
       "      <td>0</td>\n",
       "      <td>0</td>\n",
       "      <td>0</td>\n",
       "      <td>0</td>\n",
       "      <td>...</td>\n",
       "      <td>0</td>\n",
       "      <td>0</td>\n",
       "      <td>0</td>\n",
       "      <td>0</td>\n",
       "      <td>0</td>\n",
       "      <td>0</td>\n",
       "      <td>0</td>\n",
       "      <td>0</td>\n",
       "      <td>0</td>\n",
       "      <td>0</td>\n",
       "    </tr>\n",
       "    <tr>\n",
       "      <th>3</th>\n",
       "      <td>1</td>\n",
       "      <td>0</td>\n",
       "      <td>0</td>\n",
       "      <td>0</td>\n",
       "      <td>0</td>\n",
       "      <td>0</td>\n",
       "      <td>0</td>\n",
       "      <td>0</td>\n",
       "      <td>0</td>\n",
       "      <td>0</td>\n",
       "      <td>...</td>\n",
       "      <td>0</td>\n",
       "      <td>0</td>\n",
       "      <td>0</td>\n",
       "      <td>0</td>\n",
       "      <td>0</td>\n",
       "      <td>0</td>\n",
       "      <td>0</td>\n",
       "      <td>0</td>\n",
       "      <td>0</td>\n",
       "      <td>0</td>\n",
       "    </tr>\n",
       "    <tr>\n",
       "      <th>4</th>\n",
       "      <td>0</td>\n",
       "      <td>1</td>\n",
       "      <td>0</td>\n",
       "      <td>0</td>\n",
       "      <td>0</td>\n",
       "      <td>0</td>\n",
       "      <td>0</td>\n",
       "      <td>0</td>\n",
       "      <td>0</td>\n",
       "      <td>0</td>\n",
       "      <td>...</td>\n",
       "      <td>0</td>\n",
       "      <td>1</td>\n",
       "      <td>0</td>\n",
       "      <td>0</td>\n",
       "      <td>0</td>\n",
       "      <td>0</td>\n",
       "      <td>0</td>\n",
       "      <td>1</td>\n",
       "      <td>0</td>\n",
       "      <td>0</td>\n",
       "    </tr>\n",
       "  </tbody>\n",
       "</table>\n",
       "<p>5 rows × 549 columns</p>\n",
       "</div>"
      ],
      "text/plain": [
       "   ACEGUÁ  ÁGUA SANTA  AGUDO  AJURICABA  ALECRIM  ALEGRETE  ALEGRIA  \\\n",
       "0       1           0      0          0        0         0        0   \n",
       "1       1           0      0          0        0         0        0   \n",
       "2       1           0      0          0        0         0        0   \n",
       "3       1           0      0          0        0         0        0   \n",
       "4       0           1      0          0        0         0        0   \n",
       "\n",
       "   ALMIRANTE TAMANDARÉ DO SUL  ALPESTRE  ALTO ALEGRE  ...  Diabetes  Imunodef  \\\n",
       "0                           0         0            0  ...         0         0   \n",
       "1                           0         0            0  ...         0         0   \n",
       "2                           0         0            0  ...         0         0   \n",
       "3                           0         0            0  ...         0         0   \n",
       "4                           0         0            0  ...         0         1   \n",
       "\n",
       "   DRenal  DHepatica  DCardiaca  Obesidade  Outras_Comorbidades  \\\n",
       "0       0          0          0          0                    0   \n",
       "1       0          0          0          0                    0   \n",
       "2       0          0          0          0                    0   \n",
       "3       0          0          0          0                    0   \n",
       "4       0          0          0          0                    0   \n",
       "\n",
       "   DCromossomica  DHematologica  Sindrome_down  \n",
       "0              0              0              0  \n",
       "1              0              0              0  \n",
       "2              0              0              0  \n",
       "3              0              0              0  \n",
       "4              1              0              0  \n",
       "\n",
       "[5 rows x 549 columns]"
      ]
     },
     "execution_count": 38,
     "metadata": {},
     "output_type": "execute_result"
    }
   ],
   "source": [
    "for e in cd.old_columns:\n",
    "    del df[e]"
   ]
  },
  {
   "cell_type": "code",
   "execution_count": 39,
   "metadata": {},
   "outputs": [],
   "source": [
    "df.to_csv(\"20201030_binary_matrix.csv\", header=None, index=False)"
   ]
  },
  {
   "cell_type": "code",
   "execution_count": 40,
   "metadata": {},
   "outputs": [],
   "source": [
    "nome_atributos = df.columns.values.tolist()\n",
    "df_dict = {i : nome_atributos[i] for i in range(0, len(nome_atributos))}"
   ]
  },
  {
   "cell_type": "code",
   "execution_count": 41,
   "metadata": {},
   "outputs": [],
   "source": [
    "df.to_csv(\"20201030_binary_matrix(header).csv\", index=False)"
   ]
  },
  {
   "cell_type": "markdown",
   "metadata": {},
   "source": [
    "#### Matriz: Óbitos  <a name=\"binary_matrix_obito\"></a>"
   ]
  },
  {
   "cell_type": "code",
   "execution_count": 59,
   "metadata": {
    "scrolled": true
   },
   "outputs": [],
   "source": [
    "obitos = obitos.loc[obitos['OBITO'] == 1]\n",
    "\n",
    "for e in cd.old_columns:\n",
    "    del obitos[e]\n",
    "\n",
    "obitos.to_csv(\"20201030_death_matrix.csv\", header=None, index=False)"
   ]
  },
  {
   "cell_type": "markdown",
   "metadata": {},
   "source": [
    "#### Matriz: Recuperados  <a name=\"binary_matrix_rec\"></a>"
   ]
  },
  {
   "cell_type": "code",
   "execution_count": 49,
   "metadata": {
    "scrolled": true
   },
   "outputs": [],
   "source": [
    "rec = rec.loc[rec['OBITO'] == 0]\n",
    "\n",
    "for e in cd.old_columns:\n",
    "    del rec[e]\n",
    "\n",
    "rec.to_csv(\"20201030_rec_matrix.csv\", header=None, index=False)"
   ]
  },
  {
   "cell_type": "markdown",
   "metadata": {},
   "source": [
    "#### Matriz: Assintomáticos  <a name=\"binary_matrix_assin\"></a>"
   ]
  },
  {
   "cell_type": "code",
   "execution_count": 50,
   "metadata": {},
   "outputs": [],
   "source": [
    "assin = assin.loc[assin['Febre'] == 0]\n",
    "assin = assin.loc[assin['Tosse'] == 0]\n",
    "assin = assin.loc[assin['Garganta'] == 0]\n",
    "assin = assin.loc[assin['Dispneia'] == 0]\n",
    "assin = assin.loc[assin['Outros_Sint'] == 0]"
   ]
  },
  {
   "cell_type": "code",
   "execution_count": 51,
   "metadata": {
    "scrolled": true
   },
   "outputs": [],
   "source": [
    "for e in cd.old_columns:\n",
    "    del assin[e]\n",
    "\n",
    "assin.to_csv(\"20201030_assin_matrix.csv\", header=None, index=False)"
   ]
  },
  {
   "cell_type": "markdown",
   "metadata": {},
   "source": [
    "#### Matriz: Sintomáticos  <a name=\"binary_matrix_sin\"></a>"
   ]
  },
  {
   "cell_type": "code",
   "execution_count": 52,
   "metadata": {},
   "outputs": [],
   "source": [
    "for index, row in sin.iterrows():\n",
    "    if row['FEBRE'] == 'NAO' and row['TOSSE'] == 'NAO' and row['GARGANTA'] == 'NAO' and row['DISPNEIA'] == 'NAO' and row['OUTROS'] == 'NAO':\n",
    "        sin.drop(index, inplace=True)"
   ]
  },
  {
   "cell_type": "code",
   "execution_count": 53,
   "metadata": {},
   "outputs": [],
   "source": [
    "for e in cd.old_columns:\n",
    "    del sin[e]\n",
    "\n",
    "sin.to_csv(\"20201030_sin_matrix.csv\", header=None, index=False)"
   ]
  }
 ],
 "metadata": {
  "kernelspec": {
   "display_name": "Python 3.8.1 64-bit",
   "language": "python",
   "name": "python38164bit1a47b14ccaa04f8588568034af662766"
  },
  "language_info": {
   "codemirror_mode": {
    "name": "ipython",
    "version": 3
   },
   "file_extension": ".py",
   "mimetype": "text/x-python",
   "name": "python",
   "nbconvert_exporter": "python",
   "pygments_lexer": "ipython3",
   "version": "3.8.1"
  }
 },
 "nbformat": 4,
 "nbformat_minor": 4
}
