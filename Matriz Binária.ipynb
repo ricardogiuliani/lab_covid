{
 "cells": [
  {
   "cell_type": "code",
   "execution_count": 1,
   "metadata": {},
   "outputs": [
    {
     "name": "stdout",
     "output_type": "stream",
     "text": [
      "importing Jupyter notebook from covid_dict.ipynb\n"
     ]
    }
   ],
   "source": [
    "import requests\n",
    "import pandas as pd\n",
    "import numpy as np\n",
    "from datetime import date\n",
    "import import_ipynb\n",
    "import covid_dict as cd"
   ]
  },
  {
   "cell_type": "code",
   "execution_count": 2,
   "metadata": {},
   "outputs": [],
   "source": [
    "df = pd.read_csv('pp_dataset/covid_sc_20201207.csv', sep=';')"
   ]
  },
  {
   "cell_type": "code",
   "execution_count": 13,
   "metadata": {},
   "outputs": [],
   "source": [
    "for e in cd.regiao_sc:\n",
    "    df[e] = df.apply(lambda row: 1 if row.regional_saude == e else 0, axis=1)\n",
    "    \n",
    "for e in cd.faixa_etaria2:\n",
    "    df[e] = df.apply(lambda row: 1 if row.idade == e else 0, axis=1)\n",
    "    \n",
    "for e in cd.testagem_2: \n",
    "    df[e] = df.apply(lambda row: 1 if row.tipo_teste == e else 0, axis=1)\n",
    "\n",
    "for e in cd.meses:\n",
    "    df[e] = df.apply(lambda row: 1 if row.data_resultado == e else 0, axis=1)\n",
    "    \n",
    "for e in cd.meses_obito:\n",
    "    df[e] = df.apply(lambda row: 1 if row.data_obito == e else 0, axis=1)\n",
    "        \n",
    "for e in cd.etnia:\n",
    "    df[e] = df.apply(lambda row: 1 if row.raca == e else 0, axis=1)"
   ]
  },
  {
   "cell_type": "code",
   "execution_count": 14,
   "metadata": {},
   "outputs": [],
   "source": [
    "df['SexF'] = df.apply(lambda row: 1 if row.sexo == 'Feminino' else 0, axis=1)\n",
    "df['SexM'] = df.apply(lambda row: 1 if row.sexo == 'Masculino' else 0, axis=1)\n",
    "df['Hospitalizado'] = df.apply(lambda row: 1 if row.internacao == 'SIM' else 0, axis=1)\n",
    "df['Hosp_SRAG'] = df.apply(lambda row: 1 if row.internacao_uti == 'SIM' else 0, axis=1)\n",
    "df['Febre'] = df.apply(lambda row: 1 if row.FEBRE == 'SIM' else 0, axis=1)\n",
    "df['Tosse'] = df.apply(lambda row: 1 if row.TOSSE == 'SIM' else 0, axis=1)\n",
    "df['Garganta'] = df.apply(lambda row: 1 if row.GARGANTA == 'SIM' else 0, axis=1)\n",
    "df['Dispneia'] = df.apply(lambda row: 1 if row.DISPNEIA == 'SIM' else 0, axis=1)\n",
    "df['Outros_Sintomas'] = df.apply(lambda row: 1 if row.Outros == 'SIM' else 0, axis=1)\n",
    "df['Gestante'] = df.apply(lambda row: 1 if row.gestante == 'SIM' else 0, axis=1)\n",
    "df['Asma'] = df.apply(lambda row: 1 if row.asma == 'SIM' else 0, axis=1)\n",
    "df['DRespiratoria'] = df.apply(lambda row: 1 if row.d_respiratoria == 'SIM' else 0, axis=1)\n",
    "df['DNeurologica'] = df.apply(lambda row: 1 if row.d_neurologica == 'SIM' else 0, axis=1)\n",
    "df['Diabetes'] = df.apply(lambda row: 1 if row.diabete == 'SIM' else 0, axis=1)\n",
    "df['Imunodef'] = df.apply(lambda row: 1 if row.imunodeficiencia == 'SIM' else 0, axis=1)\n",
    "df['DRenal'] = df.apply(lambda row: 1 if row.d_renal == 'SIM' else 0, axis=1)\n",
    "df['DHepatica'] = df.apply(lambda row: 1 if row.d_hepatica == 'SIM' else 0, axis=1)\n",
    "df['DCardiaca'] = df.apply(lambda row: 1 if row.d_cardiaca == 'SIM' else 0, axis=1)\n",
    "df['Obesidade'] = df.apply(lambda row: 1 if row.obesidade == 'SIM' else 0, axis=1)\n",
    "df['Outras_Comorbidades'] = df.apply(lambda row: 1 if row.outras_comorbidades == 'SIM' else 0, axis=1)\n",
    "df['DHematologica'] = df.apply(lambda row: 1 if row.d_hematologica == 'SIM' else 0, axis=1)\n",
    "df['Sindrome_down'] = df.apply(lambda row: 1 if row.sindrome_down == 'SIM' else 0, axis=1)"
   ]
  },
  {
   "cell_type": "code",
   "execution_count": 15,
   "metadata": {},
   "outputs": [],
   "source": [
    "for e in cd.internacao:\n",
    "    df[e] = df.apply(lambda row: 1 if row.INTERNACAO == e else 0, axis=1)"
   ]
  },
  {
   "cell_type": "code",
   "execution_count": 16,
   "metadata": {},
   "outputs": [],
   "source": [
    "internacao = [\n",
    "    '0-4', '5-14', '15-24', '25-34', '35-44', '45-54', '55-64', \n",
    "    '65-74', '75-84', '85-94', '95-104', '105-114', '115-124', '125-134', '135-144',\n",
    "    '145-154', '155-164', '165-174', '175-184', '185-194',\n",
    "    '195-204', '205-214', '215-224'\n",
    "]"
   ]
  },
  {
   "cell_type": "code",
   "execution_count": 17,
   "metadata": {},
   "outputs": [
    {
     "data": {
      "text/plain": [
       "Index(['gestante', 'internacao', 'internacao_uti', 'sexo', 'obito',\n",
       "       'data_obito', 'idade', 'raca', 'data_resultado', 'tipo_teste',\n",
       "       ...\n",
       "       '125-134', '135-144', '145-154', '155-164', '165-174', '175-184',\n",
       "       '185-194', '195-204', '205-214', '215-224'],\n",
       "      dtype='object', length=127)"
      ]
     },
     "execution_count": 17,
     "metadata": {},
     "output_type": "execute_result"
    }
   ],
   "source": [
    "for e in cd.internacao:\n",
    "    df[e] = str(np.nan)\n",
    "df.columns"
   ]
  },
  {
   "cell_type": "code",
   "execution_count": 18,
   "metadata": {},
   "outputs": [],
   "source": [
    "for idx, row in df.iterrows():\n",
    "    if  df.loc[idx,'INTERNACAO'] == '0':\n",
    "        df.loc[idx,'0-4'] = 1\n",
    "    else:\n",
    "        df.loc[idx,'0-4'] = 0\n",
    "\n",
    "for idx, row in df.iterrows():\n",
    "    if  df.loc[idx,'INTERNACAO'] == '10':\n",
    "        df.loc[idx,'5-14'] = 1\n",
    "    else:\n",
    "        df.loc[idx,'5-14'] = 0\n",
    "\n",
    "for idx, row in df.iterrows():\n",
    "    if  df.loc[idx,'INTERNACAO'] == '20':\n",
    "        df.loc[idx,'15-24'] = 1\n",
    "    else:\n",
    "        df.loc[idx,'15-24'] = 0\n",
    "        \n",
    "for idx, row in df.iterrows():\n",
    "    if  df.loc[idx,'INTERNACAO'] == '30':\n",
    "        df.loc[idx,'25-34'] = 1\n",
    "    else:\n",
    "        df.loc[idx,'25-34'] = 0\n",
    "        \n",
    "for idx, row in df.iterrows():\n",
    "    if  df.loc[idx,'INTERNACAO'] == '40':\n",
    "        df.loc[idx,'35-44'] = 1\n",
    "    else:\n",
    "        df.loc[idx,'35-44'] = 0\n",
    "\n",
    "for idx, row in df.iterrows():\n",
    "    if  df.loc[idx,'INTERNACAO'] == '50':\n",
    "        df.loc[idx,'45-54'] = 1\n",
    "    else:\n",
    "        df.loc[idx,'45-54'] = 0\n",
    "        \n",
    "for idx, row in df.iterrows():\n",
    "    if  df.loc[idx,'INTERNACAO'] == '60':\n",
    "        df.loc[idx,'55-64'] = 1\n",
    "    else:\n",
    "        df.loc[idx,'55-64'] = 0\n",
    "        \n",
    "for idx, row in df.iterrows():\n",
    "    if  df.loc[idx,'INTERNACAO'] == '70':\n",
    "        df.loc[idx,'65-74'] = 1\n",
    "    else:\n",
    "        df.loc[idx,'65-74'] = 0\n",
    "        \n",
    "for idx, row in df.iterrows():\n",
    "    if  df.loc[idx,'INTERNACAO'] == '80':\n",
    "        df.loc[idx,'75-84'] = 1\n",
    "    else:\n",
    "        df.loc[idx,'75-84'] = 0\n",
    "        \n",
    "for idx, row in df.iterrows():\n",
    "    if  df.loc[idx,'INTERNACAO'] == '90':\n",
    "        df.loc[idx,'85-94'] = 1\n",
    "    else:\n",
    "        df.loc[idx,'85-94'] = 0\n",
    "        \n",
    "for idx, row in df.iterrows():\n",
    "    if  df.loc[idx,'INTERNACAO'] == '100':\n",
    "        df.loc[idx,'95-104'] = 1\n",
    "    else:\n",
    "        df.loc[idx,'95-104'] = 0\n",
    "        \n",
    "for idx, row in df.iterrows():\n",
    "    if  df.loc[idx,'INTERNACAO'] == '110':\n",
    "        df.loc[idx,'105-114'] = 1\n",
    "    else:\n",
    "        df.loc[idx,'105-114'] = 0\n",
    "        \n",
    "for idx, row in df.iterrows():\n",
    "    if  df.loc[idx,'INTERNACAO'] == '120':\n",
    "        df.loc[idx,'115-124'] = 1\n",
    "    else:\n",
    "        df.loc[idx,'115-124'] = 0\n",
    "\n",
    "for idx, row in df.iterrows():\n",
    "    if  df.loc[idx,'INTERNACAO'] == '130':\n",
    "        df.loc[idx,'125-134'] = 1\n",
    "    else:\n",
    "        df.loc[idx,'125-134'] = 0\n",
    "        \n",
    "for idx, row in df.iterrows():\n",
    "    if  df.loc[idx,'INTERNACAO'] == '140':\n",
    "        df.loc[idx,'135-144'] = 1\n",
    "    else:\n",
    "        df.loc[idx,'135-144'] = 0\n",
    "        \n",
    "for idx, row in df.iterrows():\n",
    "    if  df.loc[idx,'INTERNACAO'] == '150':\n",
    "        df.loc[idx,'145-154'] = 1\n",
    "    else:\n",
    "        df.loc[idx,'145-154'] = 0\n",
    "    \n",
    "for idx, row in df.iterrows():\n",
    "    if  df.loc[idx,'INTERNACAO'] == '160':\n",
    "        df.loc[idx,'155-164'] = 1\n",
    "    else:\n",
    "        df.loc[idx,'155-164'] = 0\n",
    "        \n",
    "for idx, row in df.iterrows():\n",
    "    if  df.loc[idx,'INTERNACAO'] == '170':\n",
    "        df.loc[idx,'165-174'] = 1\n",
    "    else:\n",
    "        df.loc[idx,'165-174'] = 0\n",
    "        \n",
    "for idx, row in df.iterrows():\n",
    "    if  df.loc[idx,'INTERNACAO'] == '180':\n",
    "        df.loc[idx,'175-184'] = 1\n",
    "    else:\n",
    "        df.loc[idx,'175-184'] = 0\n",
    "        \n",
    "for idx, row in df.iterrows():\n",
    "    if  df.loc[idx,'INTERNACAO'] == '190':\n",
    "        df.loc[idx,'185-194'] = 1\n",
    "    else:\n",
    "        df.loc[idx,'185-194'] = 0\n",
    "        \n",
    "for idx, row in df.iterrows():\n",
    "    if  df.loc[idx,'INTERNACAO'] == '200':\n",
    "        df.loc[idx,'195-204'] = 1\n",
    "    else:\n",
    "        df.loc[idx,'195-204'] = 0\n",
    "        \n",
    "for idx, row in df.iterrows():\n",
    "    if  df.loc[idx,'INTERNACAO'] == '210':\n",
    "        df.loc[idx,'205-214'] = 1\n",
    "    else:\n",
    "        df.loc[idx,'205-214'] = 0\n",
    "        \n",
    "for idx, row in df.iterrows():\n",
    "    if  df.loc[idx,'INTERNACAO'] == '220':\n",
    "        df.loc[idx,'215-224'] = 1\n",
    "    else:\n",
    "        df.loc[idx,'215-224'] = 0\n",
    "\n",
    "for idx, row in df.iterrows():\n",
    "    if  df.loc[idx,'INTERNACAO'] == 'NAO DISPONIVEL':\n",
    "        df.loc[idx,'215-224'] = 1\n",
    "    else:\n",
    "        df.loc[idx,'215-224'] = 0"
   ]
  },
  {
   "cell_type": "code",
   "execution_count": 19,
   "metadata": {},
   "outputs": [],
   "source": [
    "lista = ['gestante', 'internacao', 'internacao_uti', 'sexo', 'obito',\n",
    "       'data_obito', 'idade', 'raca', 'data_resultado', 'tipo_teste',\n",
    "       'regional_saude', 'FEBRE', 'TOSSE', 'GARGANTA', 'DISPNEIA', 'Outros',\n",
    "       'asma', 'd_respiratoria', 'outras_comorbidades', 'd_neurologica',\n",
    "       'diabete', 'imunodeficiencia', 'd_renal', 'd_hepatica',\n",
    "       'd_hematologica', 'd_cardiaca', 'obesidade', 'sindrome_down',\n",
    "       'INTERNACAO']\n",
    "\n",
    "for e in lista:\n",
    "    del df[e]"
   ]
  },
  {
   "cell_type": "code",
   "execution_count": 20,
   "metadata": {},
   "outputs": [],
   "source": [
    "df.to_csv('pp_dataset/sc_ready.csv', index=None)"
   ]
  },
  {
   "cell_type": "code",
   "execution_count": 4,
   "metadata": {},
   "outputs": [
    {
     "data": {
      "text/plain": [
       "Index(['gestante', 'internacao', 'internacao_uti', 'sexo', 'obito',\n",
       "       'data_obito', 'idade', 'raca', 'data_resultado', 'tipo_teste',\n",
       "       'regional_saude', 'FEBRE', 'TOSSE', 'GARGANTA', 'DISPNEIA', 'Outros',\n",
       "       'asma', 'd_respiratoria', 'outras_comorbidades', 'd_neurologica',\n",
       "       'diabete', 'imunodeficiencia', 'd_renal', 'd_hepatica',\n",
       "       'd_hematologica', 'd_cardiaca', 'obesidade', 'sindrome_down',\n",
       "       'INTERNACAO'],\n",
       "      dtype='object')"
      ]
     },
     "execution_count": 4,
     "metadata": {},
     "output_type": "execute_result"
    }
   ],
   "source": [
    "df.columns"
   ]
  },
  {
   "cell_type": "code",
   "execution_count": 12,
   "metadata": {},
   "outputs": [
    {
     "data": {
      "text/plain": [
       "<bound method Series.unique of 0                    0\n",
       "1                    0\n",
       "2                    0\n",
       "3                    0\n",
       "4                    0\n",
       "             ...      \n",
       "4006    NAO DISPONIVEL\n",
       "4007    NAO DISPONIVEL\n",
       "4008    NAO DISPONIVEL\n",
       "4009    NAO DISPONIVEL\n",
       "4010    NAO DISPONIVEL\n",
       "Name: INTERNACAO, Length: 4011, dtype: object>"
      ]
     },
     "execution_count": 12,
     "metadata": {},
     "output_type": "execute_result"
    }
   ],
   "source": [
    "df.INTERNACAO.unique"
   ]
  },
  {
   "cell_type": "code",
   "execution_count": 8,
   "metadata": {},
   "outputs": [],
   "source": [
    "# for idx, row in df.iterrows():\n",
    "#     if  df.loc[idx,'data_obito'] == 'Março':\n",
    "#         df.loc[idx,'data_obito'] = 'Obito_Março'\n",
    "#     elif df.loc[idx,'data_obito'] == 'Abril':\n",
    "#         df.loc[idx,'data_obito'] = 'Obito_Abril'\n",
    "#     elif df.loc[idx,'data_obito'] == 'Maio':\n",
    "#         df.loc[idx,'data_obito'] = 'Obito_Maio'\n",
    "#     elif df.loc[idx,'data_obito'] == 'Junho':\n",
    "#         df.loc[idx,'data_obito'] = 'Obito_Junho'\n",
    "#     elif df.loc[idx,'data_obito'] == 'Julho':\n",
    "#         df.loc[idx,'data_obito'] = 'Obito_Julho'\n",
    "#     elif df.loc[idx,'data_obito'] == 'Agosto':\n",
    "#         df.loc[idx,'data_obito'] = 'Obito_Agosto'\n",
    "#     elif df.loc[idx,'data_obito'] == 'Setembro':\n",
    "#         df.loc[idx,'data_obito'] = 'Obito_Setembro'\n",
    "#     elif df.loc[idx,'data_obito'] == 'Outubro':\n",
    "#         df.loc[idx,'data_obito'] = 'Obito_Outubro'\n",
    "#     elif df.loc[idx,'data_obito'] == 'Novembro':\n",
    "#         df.loc[idx,'data_obito'] = 'Obito_Novembro'\n",
    "#     else: \n",
    "#         df.loc[idx,'data_obito'] = 'Obito_Dezembro'"
   ]
  },
  {
   "cell_type": "code",
   "execution_count": null,
   "metadata": {},
   "outputs": [],
   "source": []
  }
 ],
 "metadata": {
  "kernelspec": {
   "display_name": "Python 3.8.1 64-bit",
   "language": "python",
   "name": "python38164bit1a47b14ccaa04f8588568034af662766"
  },
  "language_info": {
   "codemirror_mode": {
    "name": "ipython",
    "version": 3
   },
   "file_extension": ".py",
   "mimetype": "text/x-python",
   "name": "python",
   "nbconvert_exporter": "python",
   "pygments_lexer": "ipython3",
   "version": "3.8.1"
  }
 },
 "nbformat": 4,
 "nbformat_minor": 4
}
