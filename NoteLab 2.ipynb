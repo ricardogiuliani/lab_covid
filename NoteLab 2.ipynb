{
 "cells": [
  {
   "cell_type": "code",
   "execution_count": 1,
   "metadata": {},
   "outputs": [
    {
     "name": "stdout",
     "output_type": "stream",
     "text": [
      "importing Jupyter notebook from covid_dict.ipynb\n"
     ]
    }
   ],
   "source": [
    "import requests\n",
    "import pandas as pd\n",
    "import numpy as np\n",
    "from datetime import date\n",
    "import import_ipynb\n",
    "import covid_dict as cd"
   ]
  },
  {
   "cell_type": "markdown",
   "metadata": {},
   "source": [
    "1) [Remover colunas dos atributos desconsiderados](#remove_column)  \n",
    "2) [Arrumando os dados](#data_fix)  \n",
    "3) [Gerando a matrix binária](#binary_matrix)  \n",
    "3.1) [Matriz: Óbitos](#binary_matrix_obito)   \n",
    "3.2) [Matriz: Recuperados](#binary_matrix_rec)  \n",
    "3.3) [Matriz: Assintomáticos](#binary_matrix_assin)  \n",
    "3.4) [Matriz: Sintomáticos](#binary_matrix_sin)  \n",
    "\n",
    "[Panda](Panda_dataset.ipynb)\n",
    "\n",
    "[Dicionário de dados](covid_dict.ipynb)"
   ]
  },
  {
   "cell_type": "code",
   "execution_count": null,
   "metadata": {},
   "outputs": [],
   "source": [
    "# csv_url = \"https://ti.saude.rs.gov.br/covid19/download\"\n",
    "#today = date.today()\n",
    "# dataset = f'dataset-{today}.csv'\n",
    "\n",
    "# req = requests.get(csv_url)\n",
    "# url_content = req.content\n",
    "# csv_file = open(dataset, 'wb')\n",
    "\n",
    "# csv_file.write(url_content)\n",
    "# csv_file.close()"
   ]
  },
  {
   "cell_type": "code",
   "execution_count": 2,
   "metadata": {
    "scrolled": true
   },
   "outputs": [],
   "source": [
    "df = pd.read_csv('pp_dataset/covid_rs_20210101_1.csv', sep=';')  #nrows=1000"
   ]
  },
  {
   "cell_type": "markdown",
   "metadata": {},
   "source": [
    "Atributos desconsiderados:\n",
    "* COD_IBGE\n",
    "* MUNICIPIO\n",
    "* COD_REGIAO_COVID\n",
    "* DATA_SINTOMAS\n",
    "* DATA_EVOLUCAO\n",
    "* DATA_INCLUSAO_OBITO\n",
    "* DATA_EVOLUCAO_ESTIMADA\n",
    "* ETNIA_INDIGENA\n",
    "* FONTE_INFORMACAO\n",
    "* PAIS_NASCIMENTO\n",
    "* BAIRRO\n",
    "\n",
    "#### 1) Remover colunas dos atributos desconsiderados <a name=\"remove_column\"></a>"
   ]
  },
  {
   "cell_type": "code",
   "execution_count": null,
   "metadata": {
    "scrolled": true
   },
   "outputs": [],
   "source": [
    "for e in cd.attr_removed3:\n",
    "    del df[e]"
   ]
  },
  {
   "cell_type": "code",
   "execution_count": null,
   "metadata": {},
   "outputs": [],
   "source": [
    "del df['DATA_EVOLUCAO']"
   ]
  },
  {
   "cell_type": "markdown",
   "metadata": {},
   "source": [
    "#### 2) Filtrando registros -- EVOLUCAO == OBITO"
   ]
  },
  {
   "cell_type": "code",
   "execution_count": null,
   "metadata": {
    "scrolled": false
   },
   "outputs": [],
   "source": [
    "df.head(10)"
   ]
  },
  {
   "cell_type": "code",
   "execution_count": null,
   "metadata": {},
   "outputs": [],
   "source": [
    "df = df[df.eq('OBITO').any(axis=1)]"
   ]
  },
  {
   "cell_type": "markdown",
   "metadata": {},
   "source": [
    "#### 3) Arrumando os dados - FAIXAETARIA, DATA_CONFIRMACAO, CONDICOES <a name=\"data_fix\"></a>\n",
    "\n",
    "Faixa Etária\n",
    "* < 1: Bebê\n",
    "* (01,09): Criança\n",
    "* (10, 19): Jovem\n",
    "* (20, 39): Adulto 1\n",
    "* (40, 49): Adulto 2\n",
    "* (50, 59): Adulto 3\n",
    "* (60, 69): Idoso 1\n",
    "* (70, 79): Idoso 2\n",
    "* (80 +): Idoso 3\n",
    "       "
   ]
  },
  {
   "cell_type": "code",
   "execution_count": null,
   "metadata": {
    "scrolled": false
   },
   "outputs": [],
   "source": [
    "for index, row in df.iterrows():\n",
    "    if row['FAIXAETARIA'] == '<1':\n",
    "        row['FAIXAETARIA'] = 'Bebê'\n",
    "    elif row['FAIXAETARIA'] == '01 a 04' or row['FAIXAETARIA'] == '05 a 09':\n",
    "        row['FAIXAETARIA'] = 'Criança'\n",
    "    elif row['FAIXAETARIA'] == '10 a 14' or row['FAIXAETARIA'] == '15 a 19':\n",
    "        row['FAIXAETARIA'] = 'Jovem'\n",
    "    elif row['FAIXAETARIA'] == '20 a 29' or row['FAIXAETARIA'] == '30 a 39':\n",
    "        row['FAIXAETARIA'] = 'Adulto_1'\n",
    "    elif row['FAIXAETARIA'] == '40 a 49':\n",
    "        row['FAIXAETARIA'] = 'Adulto_2'\n",
    "    elif row['FAIXAETARIA'] == '50 a 59':\n",
    "        row['FAIXAETARIA'] = 'Adulto_3'\n",
    "    elif row['FAIXAETARIA'] == '60 a 69':\n",
    "        row['FAIXAETARIA'] = 'Idoso_1'\n",
    "    elif row['FAIXAETARIA'] == '70 a 79':\n",
    "        row['FAIXAETARIA'] = 'Idoso_2'\n",
    "    else:\n",
    "        row['FAIXAETARIA'] = 'Idoso_3'"
   ]
  },
  {
   "cell_type": "markdown",
   "metadata": {},
   "source": [
    "Intervalo entre confirmação da Covid e confirmação do Óbito"
   ]
  },
  {
   "cell_type": "code",
   "execution_count": null,
   "metadata": {},
   "outputs": [],
   "source": [
    "# df['dt_conf'] = df['DATA_CONFIRMACAO']\n",
    "# df['dt_obito'] = df['DATA_INCLUSAO_OBITO']\n",
    "dt_conf = pd.to_datetime(df['dt_conf'],dayfirst=True)\n",
    "dt_obito = pd.to_datetime(df['dt_obito'],dayfirst=True)\n",
    "df['INTERNACAO'] = round(((dt_obito - dt_conf).dt.days),-1)\n",
    "del df['dt_conf']\n",
    "del df['dt_obito']"
   ]
  },
  {
   "cell_type": "markdown",
   "metadata": {},
   "source": [
    "Data de Confirmação Covid-19"
   ]
  },
  {
   "cell_type": "code",
   "execution_count": null,
   "metadata": {
    "scrolled": false
   },
   "outputs": [],
   "source": [
    "for index, row in df.iterrows():\n",
    "    mes = row['DATA_CONFIRMACAO'].split('/')\n",
    "    if mes[1] == '02':\n",
    "        row['DATA_CONFIRMACAO'] = 'Fevereiro'\n",
    "    elif mes[1] == '03':\n",
    "        row['DATA_CONFIRMACAO'] = 'Março'\n",
    "    elif mes[1] == '04':\n",
    "        row['DATA_CONFIRMACAO'] = 'Abril'\n",
    "    elif mes[1] == '05':\n",
    "        row['DATA_CONFIRMACAO'] = 'Maio'    \n",
    "    elif mes[1] == '06':\n",
    "        row['DATA_CONFIRMACAO'] = 'Junho'\n",
    "    elif mes[1] == '07':\n",
    "        row['DATA_CONFIRMACAO'] = 'Julho'\n",
    "    elif mes[1] == '08':\n",
    "        row['DATA_CONFIRMACAO'] = 'Agosto'\n",
    "    elif mes[1] == '09':\n",
    "        row['DATA_CONFIRMACAO'] = 'Setembro'\n",
    "    elif mes[1] == '10':\n",
    "        row['DATA_CONFIRMACAO'] = 'Outubro'\n",
    "    elif mes[1] == '11':\n",
    "        row['DATA_CONFIRMACAO'] = 'Novembro'\n",
    "    elif mes[1] == '12':\n",
    "        row['DATA_CONFIRMACAO'] = 'Dezembro'\n",
    "    else:\n",
    "        row['DATA_CONFIRMACAO'] = 'APAGAR'"
   ]
  },
  {
   "cell_type": "markdown",
   "metadata": {},
   "source": [
    "Data de confirmação óbito"
   ]
  },
  {
   "cell_type": "code",
   "execution_count": null,
   "metadata": {},
   "outputs": [],
   "source": [
    "for index, row in df.iterrows():\n",
    "    mes = row['DATA_INCLUSAO_OBITO'].split('/')\n",
    "    if mes[1] == '02':\n",
    "        row['DATA_INCLUSAO_OBITO'] = 'Obito_Fevereiro'\n",
    "    elif mes[1] == '03':\n",
    "        row['DATA_INCLUSAO_OBITO'] = 'Obito_Março'\n",
    "    elif mes[1] == '04':\n",
    "        row['DATA_INCLUSAO_OBITO'] = 'Obito_Abril'\n",
    "    elif mes[1] == '05':\n",
    "        row['DATA_INCLUSAO_OBITO'] = 'Obito_Maio'    \n",
    "    elif mes[1] == '06':\n",
    "        row['DATA_INCLUSAO_OBITO'] = 'Obito_Junho'\n",
    "    elif mes[1] == '07':\n",
    "        row['DATA_INCLUSAO_OBITO'] = 'Obito_Julho'\n",
    "    elif mes[1] == '08':\n",
    "        row['DATA_INCLUSAO_OBITO'] = 'Obito_Agosto'\n",
    "    elif mes[1] == '09':\n",
    "        row['DATA_INCLUSAO_OBITO'] = 'Obito_Setembro'\n",
    "    elif mes[1] == '10':\n",
    "        row['DATA_INCLUSAO_OBITO'] = 'Obito_Outubro'\n",
    "    elif mes[1] == '11':\n",
    "        row['DATA_INCLUSAO_OBITO'] = 'Obito_Novembro'\n",
    "    elif mes[1] == '12':\n",
    "        row['DATA_INCLUSAO_OBITO'] = 'Obito_Dezembro'\n",
    "    else:\n",
    "        row['DATA_INCLUSAO_OBITO'] = 'APAGAR'\n",
    "        \n",
    "        "
   ]
  },
  {
   "cell_type": "markdown",
   "metadata": {},
   "source": [
    "Condições (Comorbidades)"
   ]
  },
  {
   "cell_type": "code",
   "execution_count": null,
   "metadata": {
    "scrolled": true
   },
   "outputs": [],
   "source": [
    "for e in cd.comorbidades:\n",
    "    df[e] = str(np.nan)\n",
    "    \n",
    "for index, row in df.iterrows():\n",
    "    if 'asma' in str(row['CONDICOES']).lower():\n",
    "        row['asma'] = 'SIM'\n",
    "    else:\n",
    "        row['asma'] = 'NAO'\n",
    "    if 'pneu' in str(row['CONDICOES']).lower():\n",
    "        row['d_respiratoria'] = 'SIM'\n",
    "    else:\n",
    "        row['d_respiratoria'] = 'NAO'\n",
    "    if 'outro' in str(row['CONDICOES']).lower():\n",
    "        row['outras_comorbidades'] = 'SIM'\n",
    "    else:\n",
    "        row['outras_comorbidades'] = 'NAO'\n",
    "    if 'neuro' in str(row['CONDICOES']).lower():\n",
    "        row['d_neurologica'] = 'SIM'\n",
    "    else:\n",
    "        row['d_neurologica'] = 'NAO'\n",
    "    if 'diabe' in str(row['CONDICOES']).lower():\n",
    "        row['diabetes'] = 'SIM'\n",
    "    else:\n",
    "        row['diabetes'] = 'NAO'\n",
    "    if 'imuno' in str(row['CONDICOES']).lower():\n",
    "        row['imunodeficiencia'] = 'SIM'\n",
    "    else:\n",
    "        row['imunodeficiencia'] = 'NAO'\n",
    "    if 'rena' in str(row['CONDICOES']).lower():\n",
    "        row['d_renal'] = 'SIM'\n",
    "    else:\n",
    "        row['d_renal'] = 'NAO'\n",
    "    if 'hepát' in str(row['CONDICOES']).lower():\n",
    "        row['d_hepatica'] = 'SIM'\n",
    "    else:\n",
    "        row['d_hepatica'] = 'NAO'\n",
    "    if 'hemato' in str(row['CONDICOES']).lower():\n",
    "        row['d_hematologica'] = 'SIM'\n",
    "    else:\n",
    "        row['d_hematologica'] = 'NAO'\n",
    "    if 'card' in str(row['CONDICOES']).lower():\n",
    "        row['d_cardiaca'] = 'SIM'\n",
    "    else:\n",
    "        row['d_cardiaca'] = 'NAO'\n",
    "    if 'obes' in str(row['CONDICOES']).lower():\n",
    "        row['obesidade'] = 'SIM'\n",
    "    else:\n",
    "        row['obesidade'] = 'NAO'\n",
    "    if 'down' in str(row['CONDICOES']).lower():\n",
    "        row['sindrome_down'] = 'SIM'\n",
    "    else:\n",
    "        row['sindrome_down'] = 'NAO'\n",
    "# del df['CONDICOES']\n",
    "# del df['EVOLUCAO']"
   ]
  },
  {
   "cell_type": "code",
   "execution_count": null,
   "metadata": {
    "scrolled": true
   },
   "outputs": [],
   "source": [
    "# del df['CONDICOES']\n",
    "# del df['EVOLUCAO']\n",
    "df.head()"
   ]
  },
  {
   "cell_type": "code",
   "execution_count": null,
   "metadata": {},
   "outputs": [],
   "source": [
    "for idx, row in df.iterrows():\n",
    "    if  df.loc[idx,'CRITERIO'] == 'Clínico-Imagem' or df.loc[idx,'CRITERIO'] == 'Clínico Epidemiológico' or df.loc[idx,'CRITERIO'] == 'Outros testes' or df.loc[idx,'CRITERIO'] == 'Outros Testes' or df.loc[idx,'CRITERIO'] == 'Clínico' or df.loc[idx,'CRITERIO'] == 'Ignorado':\n",
    "        df.loc[idx,'CRITERIO'] = 'Outros'"
   ]
  },
  {
   "cell_type": "markdown",
   "metadata": {},
   "source": [
    "### Gerando a matrix binária <a name=\"binary_matrix\"></a>"
   ]
  },
  {
   "cell_type": "code",
   "execution_count": 3,
   "metadata": {},
   "outputs": [],
   "source": [
    "# for e in cd.municipio:\n",
    "#     df[e] = df.apply(lambda row: 1 if row.MUNICIPIO == e else 0, axis=1)\n",
    "\n",
    "for e in cd.regiao_covid:\n",
    "    df[e] = df.apply(lambda row: 1 if row.REGIAO_COVID == e else 0, axis=1)\n",
    "    \n",
    "for e in cd.faixa_etaria2:\n",
    "    df[e] = df.apply(lambda row: 1 if row.FAIXAETARIA == e else 0, axis=1)\n",
    "    \n",
    "for e in cd.testagem: \n",
    "    df[e] = df.apply(lambda row: 1 if row.CRITERIO == e else 0, axis=1)\n",
    "\n",
    "for e in cd.meses:\n",
    "    df[e] = df.apply(lambda row: 1 if row.DATA_CONFIRMACAO == e else 0, axis=1)\n",
    "    \n",
    "for e in cd.meses_obito:\n",
    "    df[e] = df.apply(lambda row: 1 if row.DATA_INCLUSAO_OBITO == e else 0, axis=1)\n",
    "        \n",
    "for e in cd.etnia:\n",
    "    df[e] = df.apply(lambda row: 1 if row.RACA_COR == e else 0, axis=1)"
   ]
  },
  {
   "cell_type": "code",
   "execution_count": 4,
   "metadata": {},
   "outputs": [],
   "source": [
    "df['SexF'] = df.apply(lambda row: 1 if row.SEXO == 'Feminino' else 0, axis=1)\n",
    "df['SexM'] = df.apply(lambda row: 1 if row.SEXO == 'Masculino' else 0, axis=1)\n",
    "df['Hospitalizado'] = df.apply(lambda row: 1 if row.HOSPITALIZADO == 'SIM' else 0, axis=1)\n",
    "df['Hosp_SRAG'] = df.apply(lambda row: 1 if row.HOSPITALIZACAO_SRAG == 'SIM' else 0, axis=1)\n",
    "df['Febre'] = df.apply(lambda row: 1 if row.FEBRE == 'SIM' else 0, axis=1)\n",
    "df['Tosse'] = df.apply(lambda row: 1 if row.TOSSE == 'SIM' else 0, axis=1)\n",
    "df['Garganta'] = df.apply(lambda row: 1 if row.GARGANTA == 'SIM' else 0, axis=1)\n",
    "df['Dispneia'] = df.apply(lambda row: 1 if row.DISPNEIA == 'SIM' else 0, axis=1)\n",
    "df['Outros_Sint'] = df.apply(lambda row: 1 if row.OUTROS == 'SIM' else 0, axis=1)\n",
    "df['Gestante'] = df.apply(lambda row: 1 if row.GESTANTE == 'SIM' else 0, axis=1)\n",
    "df['Asma'] = df.apply(lambda row: 1 if row.asma == 'SIM' else 0, axis=1)\n",
    "df['DRespiratoria'] = df.apply(lambda row: 1 if row.d_respiratoria == 'SIM' else 0, axis=1)\n",
    "df['DNeurologica'] = df.apply(lambda row: 1 if row.d_neurologica == 'SIM' else 0, axis=1)\n",
    "df['Diabetes'] = df.apply(lambda row: 1 if row.diabetes == 'SIM' else 0, axis=1)\n",
    "df['Imunodef'] = df.apply(lambda row: 1 if row.imunodeficiencia == 'SIM' else 0, axis=1)\n",
    "df['DRenal'] = df.apply(lambda row: 1 if row.d_renal == 'SIM' else 0, axis=1)\n",
    "df['DHepatica'] = df.apply(lambda row: 1 if row.d_hepatica == 'SIM' else 0, axis=1)\n",
    "df['DCardiaca'] = df.apply(lambda row: 1 if row.d_cardiaca == 'SIM' else 0, axis=1)\n",
    "df['Obesidade'] = df.apply(lambda row: 1 if row.obesidade == 'SIM' else 0, axis=1)\n",
    "df['Outras_Comorbidades'] = df.apply(lambda row: 1 if row.outras_comorbidades == 'SIM' else 0, axis=1)\n",
    "df['DHematologica'] = df.apply(lambda row: 1 if row.d_hematologica == 'SIM' else 0, axis=1)\n",
    "df['Sindrome_down'] = df.apply(lambda row: 1 if row.sindrome_down == 'SIM' else 0, axis=1)"
   ]
  },
  {
   "cell_type": "code",
   "execution_count": 5,
   "metadata": {
    "scrolled": true
   },
   "outputs": [],
   "source": [
    "for e in cd.old_columns3:\n",
    "    del df[e]"
   ]
  },
  {
   "cell_type": "code",
   "execution_count": 7,
   "metadata": {},
   "outputs": [],
   "source": [
    "del df['CONDICOES']"
   ]
  },
  {
   "cell_type": "code",
   "execution_count": 8,
   "metadata": {},
   "outputs": [],
   "source": [
    "df.to_csv(\"pp_dataset/covid_rs_20210101_2.csv\", sep=';', index=False)"
   ]
  },
  {
   "cell_type": "code",
   "execution_count": null,
   "metadata": {},
   "outputs": [],
   "source": [
    "nome_atributos = df.columns.values.tolist()\n",
    "df_dict = {i : nome_atributos[i] for i in range(0, len(nome_atributos))}"
   ]
  },
  {
   "cell_type": "code",
   "execution_count": null,
   "metadata": {},
   "outputs": [],
   "source": [
    "df.to_csv(\"20201030_data_visualisation.csv\", index=False)"
   ]
  },
  {
   "cell_type": "code",
   "execution_count": null,
   "metadata": {},
   "outputs": [],
   "source": [
    "del df['d_cromossomica']"
   ]
  },
  {
   "cell_type": "code",
   "execution_count": null,
   "metadata": {},
   "outputs": [],
   "source": []
  },
  {
   "cell_type": "code",
   "execution_count": null,
   "metadata": {},
   "outputs": [],
   "source": [
    "df = df[df.DATA_INCLUSAO_OBITO != 'APAGAR']"
   ]
  },
  {
   "cell_type": "code",
   "execution_count": null,
   "metadata": {},
   "outputs": [],
   "source": [
    "for i in df.columns:\n",
    "    print(i)"
   ]
  },
  {
   "cell_type": "code",
   "execution_count": null,
   "metadata": {},
   "outputs": [],
   "source": []
  }
 ],
 "metadata": {
  "kernelspec": {
   "display_name": "Python 3.8.1 64-bit",
   "language": "python",
   "name": "python38164bit1a47b14ccaa04f8588568034af662766"
  },
  "language_info": {
   "codemirror_mode": {
    "name": "ipython",
    "version": 3
   },
   "file_extension": ".py",
   "mimetype": "text/x-python",
   "name": "python",
   "nbconvert_exporter": "python",
   "pygments_lexer": "ipython3",
   "version": "3.8.1"
  }
 },
 "nbformat": 4,
 "nbformat_minor": 4
}
