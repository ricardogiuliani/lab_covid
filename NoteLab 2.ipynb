{
 "cells": [
  {
   "cell_type": "code",
   "execution_count": 1,
   "metadata": {},
   "outputs": [
    {
     "name": "stdout",
     "output_type": "stream",
     "text": [
      "importing Jupyter notebook from covid_dict.ipynb\n"
     ]
    }
   ],
   "source": [
    "import requests\n",
    "import pandas as pd\n",
    "import numpy as np\n",
    "from datetime import date\n",
    "import import_ipynb\n",
    "import covid_dict as cd"
   ]
  },
  {
   "cell_type": "markdown",
   "metadata": {},
   "source": [
    "1) [Remover colunas dos atributos desconsiderados](#remove_column)  \n",
    "2) [Arrumando os dados](#data_fix)  \n",
    "3) [Gerando a matrix binária](#binary_matrix)  \n",
    "3.1) [Matriz: Óbitos](#binary_matrix_obito)   \n",
    "3.2) [Matriz: Recuperados](#binary_matrix_rec)  \n",
    "3.3) [Matriz: Assintomáticos](#binary_matrix_assin)  \n",
    "3.4) [Matriz: Sintomáticos](#binary_matrix_sin)  \n",
    "\n",
    "[Panda](Panda_dataset.ipynb)\n",
    "\n",
    "[Dicionário de dados](covid_dict.ipynb)"
   ]
  },
  {
   "cell_type": "code",
   "execution_count": null,
   "metadata": {},
   "outputs": [],
   "source": [
    "# csv_url = \"https://ti.saude.rs.gov.br/covid19/download\"\n",
    "#today = date.today()\n",
    "# dataset = f'dataset-{today}.csv'\n",
    "\n",
    "# req = requests.get(csv_url)\n",
    "# url_content = req.content\n",
    "# csv_file = open(dataset, 'wb')\n",
    "\n",
    "# csv_file.write(url_content)\n",
    "# csv_file.close()"
   ]
  },
  {
   "cell_type": "code",
   "execution_count": 2,
   "metadata": {
    "scrolled": true
   },
   "outputs": [],
   "source": [
    "df = pd.read_csv('20201030.csv', sep=';')  #nrows=1000"
   ]
  },
  {
   "cell_type": "markdown",
   "metadata": {},
   "source": [
    "Atributos desconsiderados:\n",
    "* COD_IBGE\n",
    "* MUNICIPIO\n",
    "* COD_REGIAO_COVID\n",
    "* DATA_SINTOMAS\n",
    "* DATA_EVOLUCAO\n",
    "* DATA_INCLUSAO_OBITO\n",
    "* DATA_EVOLUCAO_ESTIMADA\n",
    "* ETNIA_INDIGENA\n",
    "* FONTE_INFORMACAO\n",
    "* PAIS_NASCIMENTO\n",
    "* BAIRRO\n",
    "\n",
    "#### 1) Remover colunas dos atributos desconsiderados <a name=\"remove_column\"></a>"
   ]
  },
  {
   "cell_type": "code",
   "execution_count": 10,
   "metadata": {
    "scrolled": true
   },
   "outputs": [],
   "source": [
    "for e in cd.attr_removed2:\n",
    "    del df[e]"
   ]
  },
  {
   "cell_type": "markdown",
   "metadata": {},
   "source": [
    "#### 2) Filtrando registros -- EVOLUCAO == OBITO"
   ]
  },
  {
   "cell_type": "code",
   "execution_count": 11,
   "metadata": {},
   "outputs": [],
   "source": [
    "df = df[df.eq('OBITO').any(axis=1)]"
   ]
  },
  {
   "cell_type": "markdown",
   "metadata": {},
   "source": [
    "#### 3) Arrumando os dados - FAIXAETARIA, DATA_CONFIRMACAO, CONDICOES <a name=\"data_fix\"></a>\n",
    "\n",
    "Faixa Etária\n",
    "* < 1: Bebê\n",
    "* (01,09): Criança\n",
    "* (10, 19): Jovem\n",
    "* (20, 39): Adulto 1\n",
    "* (40, 49): Adulto 2\n",
    "* (50, 59): Adulto 3\n",
    "* (60, 69): Idoso 1\n",
    "* (70, 79): Idoso 2\n",
    "* (80 +): Idoso 3\n",
    "       "
   ]
  },
  {
   "cell_type": "code",
   "execution_count": 15,
   "metadata": {
    "scrolled": false
   },
   "outputs": [],
   "source": [
    "for index, row in df.iterrows():\n",
    "    if row['FAIXAETARIA'] == '<1':\n",
    "        row['FAIXAETARIA'] = 'Bebê'\n",
    "    elif row['FAIXAETARIA'] == '01 a 04' or row['FAIXAETARIA'] == '05 a 09':\n",
    "        row['FAIXAETARIA'] = 'Criança'\n",
    "    elif row['FAIXAETARIA'] == '10 a 14' or row['FAIXAETARIA'] == '15 a 19':\n",
    "        row['FAIXAETARIA'] = 'Jovem'\n",
    "    elif row['FAIXAETARIA'] == '20 a 29' or row['FAIXAETARIA'] == '30 a 39':\n",
    "        row['FAIXAETARIA'] = 'Adulto_1'\n",
    "    elif row['FAIXAETARIA'] == '40 a 49':\n",
    "        row['FAIXAETRIA'] = 'Adulto_2'\n",
    "    elif row['FAIXAETARIA'] == '50 a 59':\n",
    "        row['FAIXAETARIA'] = 'Adulto_3'\n",
    "    elif row['FAIXAETARIA'] == '60 a 69':\n",
    "        row['FAIXAETARIA'] = 'Idoso_1'\n",
    "    elif row['FAIXAETARIA'] == '70 a 79':\n",
    "        row['FAIXAETARIA'] = 'Idoso_2'\n",
    "    else:\n",
    "        row['FAIXAETARIA'] = 'Idoso_3'"
   ]
  },
  {
   "cell_type": "markdown",
   "metadata": {},
   "source": [
    "Data de Confirmação"
   ]
  },
  {
   "cell_type": "code",
   "execution_count": 16,
   "metadata": {
    "scrolled": false
   },
   "outputs": [],
   "source": [
    "for index, row in df.iterrows():\n",
    "    mes = row['DATA_CONFIRMACAO'].split('/')\n",
    "    if mes[1] == '02':\n",
    "        row['DATA_CONFIRMACAO'] = 'Fevereiro'\n",
    "    elif mes[1] == '03':\n",
    "        row['DATA_CONFIRMACAO'] = 'Março'\n",
    "    elif mes[1] == '04':\n",
    "        row['DATA_CONFIRMACAO'] = 'Abril'\n",
    "    elif mes[1] == '05':\n",
    "        row['DATA_CONFIRMACAO'] = 'Maio'    \n",
    "    elif mes[1] == '06':\n",
    "        row['DATA_CONFIRMACAO'] = 'Junho'\n",
    "    elif mes[1] == '07':\n",
    "        row['DATA_CONFIRMACAO'] = 'Julho'\n",
    "    elif mes[1] == '08':\n",
    "        row['DATA_CONFIRMACAO'] = 'Agosto'\n",
    "    elif mes[1] == '09':\n",
    "        row['DATA_CONFIRMACAO'] = 'Setembro'\n",
    "    else:\n",
    "        row['DATA_CONFIRMACAO'] = 'Outubro'"
   ]
  },
  {
   "cell_type": "markdown",
   "metadata": {},
   "source": [
    "Condições (Comorbidades)"
   ]
  },
  {
   "cell_type": "code",
   "execution_count": 17,
   "metadata": {
    "scrolled": true
   },
   "outputs": [],
   "source": [
    "for e in cd.comorbidades:\n",
    "    df[e] = str(np.nan)\n",
    "    \n",
    "for index, row in df.iterrows():\n",
    "    if 'asma' in str(row['CONDICOES']).lower():\n",
    "        row['asma'] = 'SIM'\n",
    "    else:\n",
    "        row['asma'] = 'NAO'\n",
    "    if 'respirató' in str(row['CONDICOES']).lower():\n",
    "        row['d_respiratoria'] = 'SIM'\n",
    "    else:\n",
    "        row['d_respiratoria'] = 'NAO'\n",
    "    if 'outro' in str(row['CONDICOES']).lower():\n",
    "        row['outras_comorbidades'] = 'SIM'\n",
    "    else:\n",
    "        row['outras_comorbidades'] = 'NAO'\n",
    "    if 'outro' in str(row['CONDICOES']).lower():\n",
    "        row['outras_comorbidades'] = 'SIM'\n",
    "    else:\n",
    "        row['outras_comorbidades'] = 'NAO'\n",
    "    if 'cromossômicas' in str(row['CONDICOES']).lower():\n",
    "        row['d_cromossomica'] = 'SIM'\n",
    "    else:\n",
    "        row['d_cromossomica'] = 'NAO'\n",
    "    if 'neuro' in str(row['CONDICOES']).lower():\n",
    "        row['d_neurologica'] = 'SIM'\n",
    "    else:\n",
    "        row['d_neurologica'] = 'NAO'\n",
    "    if 'diabe' in str(row['CONDICOES']).lower():\n",
    "        row['diabetes'] = 'SIM'\n",
    "    else:\n",
    "        row['diabetes'] = 'NAO'\n",
    "    if 'imuno' in str(row['CONDICOES']).lower():\n",
    "        row['imunodeficiencia'] = 'SIM'\n",
    "    else:\n",
    "        row['imunodeficiencia'] = 'NAO'\n",
    "    if 'rena' in str(row['CONDICOES']).lower():\n",
    "        row['d_renal'] = 'SIM'\n",
    "    else:\n",
    "        row['d_renal'] = 'NAO'\n",
    "    if 'hepát' in str(row['CONDICOES']).lower():\n",
    "        row['d_hepatica'] = 'SIM'\n",
    "    else:\n",
    "        row['d_hepatica'] = 'NAO'\n",
    "    if 'hemato' in str(row['CONDICOES']).lower():\n",
    "        row['d_hematologica'] = 'SIM'\n",
    "    else:\n",
    "        row['d_hematologica'] = 'NAO'\n",
    "    if 'card' in str(row['CONDICOES']).lower():\n",
    "        row['d_cardiaca'] = 'SIM'\n",
    "    else:\n",
    "        row['d_cardiaca'] = 'NAO'\n",
    "    if 'obes' in str(row['CONDICOES']).lower():\n",
    "        row['obesidade'] = 'SIM'\n",
    "    else:\n",
    "        row['obesidade'] = 'NAO'\n",
    "    if 'down' in str(row['CONDICOES']).lower():\n",
    "        row['sindrome_down'] = 'SIM'\n",
    "    else:\n",
    "        row['sindrome_down'] = 'NAO'\n",
    "del df['CONDICOES']"
   ]
  },
  {
   "cell_type": "markdown",
   "metadata": {},
   "source": [
    "### Gerando a matrix binária <a name=\"binary_matrix\"></a>"
   ]
  },
  {
   "cell_type": "code",
   "execution_count": 18,
   "metadata": {},
   "outputs": [],
   "source": [
    "for e in cd.regiao_covid:\n",
    "    df[e] = df.apply(lambda row: 1 if row.REGIAO_COVID == e else 0, axis=1)\n",
    "    \n",
    "for e in cd.faixa_etaria2:\n",
    "    df[e] = df.apply(lambda row: 1 if row.FAIXAETARIA == e else 0, axis=1)\n",
    "    \n",
    "for e in cd.testagem: \n",
    "    df[e] = df.apply(lambda row: 1 if row.CRITERIO == e else 0, axis=1)\n",
    "\n",
    "for e in cd.meses:\n",
    "    df[e] = df.apply(lambda row: 1 if row.DATA_CONFIRMACAO == e else 0, axis=1)\n",
    "        \n",
    "for e in cd.etnia:\n",
    "    df[e] = df.apply(lambda row: 1 if row.RACA_COR == e else 0, axis=1)"
   ]
  },
  {
   "cell_type": "code",
   "execution_count": 19,
   "metadata": {},
   "outputs": [],
   "source": [
    "df['SexF'] = df.apply(lambda row: 1 if row.SEXO == 'Feminino' else 0, axis=1)\n",
    "df['SexM'] = df.apply(lambda row: 1 if row.SEXO == 'Masculino' else 0, axis=1)\n",
    "df['Hospitalizado'] = df.apply(lambda row: 1 if row.HOSPITALIZADO == 'SIM' else 0, axis=1)\n",
    "df['Hosp_SRAG'] = df.apply(lambda row: 1 if row.HOSPITALIZACAO_SRAG == 'SIM' else 0, axis=1)\n",
    "df['Prof_Saude'] = df.apply(lambda row: 1 if row.PROFISSIONAL_SAUDE == 'SIM' else 0, axis=1)\n",
    "df['Febre'] = df.apply(lambda row: 1 if row.FEBRE == 'SIM' else 0, axis=1)\n",
    "df['Tosse'] = df.apply(lambda row: 1 if row.TOSSE == 'SIM' else 0, axis=1)\n",
    "df['Garganta'] = df.apply(lambda row: 1 if row.GARGANTA == 'SIM' else 0, axis=1)\n",
    "df['Dispneia'] = df.apply(lambda row: 1 if row.DISPNEIA == 'SIM' else 0, axis=1)\n",
    "df['Outros_Sint'] = df.apply(lambda row: 1 if row.OUTROS == 'SIM' else 0, axis=1)\n",
    "df['Gestante'] = df.apply(lambda row: 1 if row.GESTANTE == 'SIM' else 0, axis=1)\n",
    "df['Presidiario'] = df.apply(lambda row: 1 if row.PES_PRIV_LIBERDADE == 'SIM' else 0, axis=1)\n",
    "df['Asma'] = df.apply(lambda row: 1 if row.asma == 'SIM' else 0, axis=1)\n",
    "df['DRespiratoria'] = df.apply(lambda row: 1 if row.d_respiratoria == 'SIM' else 0, axis=1)\n",
    "df['DNeurologica'] = df.apply(lambda row: 1 if row.d_neurologica == 'SIM' else 0, axis=1)\n",
    "df['Diabetes'] = df.apply(lambda row: 1 if row.diabetes == 'SIM' else 0, axis=1)\n",
    "df['Imunodef'] = df.apply(lambda row: 1 if row.imunodeficiencia == 'SIM' else 0, axis=1)\n",
    "df['DRenal'] = df.apply(lambda row: 1 if row.d_renal == 'SIM' else 0, axis=1)\n",
    "df['DHepatica'] = df.apply(lambda row: 1 if row.d_hepatica == 'SIM' else 0, axis=1)\n",
    "df['DCardiaca'] = df.apply(lambda row: 1 if row.d_cardiaca == 'SIM' else 0, axis=1)\n",
    "df['Obesidade'] = df.apply(lambda row: 1 if row.obesidade == 'SIM' else 0, axis=1)\n",
    "df['Outras_Comorbidades'] = df.apply(lambda row: 1 if row.outras_comorbidades == 'SIM' else 0, axis=1)\n",
    "df['DCromossomica'] = df.apply(lambda row: 1 if row.d_cromossomica == 'SIM' else 0, axis=1)\n",
    "df['DHematologica'] = df.apply(lambda row: 1 if row.d_hematologica == 'SIM' else 0, axis=1)\n",
    "df['Sindrome_down'] = df.apply(lambda row: 1 if row.sindrome_down == 'SIM' else 0, axis=1)"
   ]
  },
  {
   "cell_type": "code",
   "execution_count": null,
   "metadata": {
    "scrolled": true
   },
   "outputs": [],
   "source": [
    "for e in cd.old_columns2:\n",
    "    del df[e]"
   ]
  },
  {
   "cell_type": "code",
   "execution_count": 25,
   "metadata": {},
   "outputs": [],
   "source": [
    "df.to_csv(\"20201030_binary_matrix(covid_region).csv\", header=None, index=False)"
   ]
  },
  {
   "cell_type": "code",
   "execution_count": 26,
   "metadata": {},
   "outputs": [],
   "source": [
    "nome_atributos = df.columns.values.tolist()\n",
    "df_dict = {i : nome_atributos[i] for i in range(0, len(nome_atributos))}"
   ]
  },
  {
   "cell_type": "code",
   "execution_count": 27,
   "metadata": {},
   "outputs": [],
   "source": [
    "df.to_csv(\"20201030_binary_matrix(header)(covid_region).csv\", index=False)"
   ]
  },
  {
   "cell_type": "code",
   "execution_count": 28,
   "metadata": {},
   "outputs": [
    {
     "data": {
      "text/plain": [
       "Index(['BAGE - R22', 'PASSO FUNDO - R17 R18 R19', 'SANTA MARIA - R01 R02',\n",
       "       'IJUI - R13', 'SANTA ROSA - R14', 'URUGUAIANA - R03',\n",
       "       'PALMEIRA DAS MISSOES - R15 R20', 'CAXIAS DO SUL - R23 R24 R25 R26',\n",
       "       'PORTO ALEGRE - R10', 'PELOTAS - R21', 'LAJEADO - R29 R30',\n",
       "       'GUAIBA - R09', 'NOVO HAMBURGO - R07', 'ERECHIM - R16',\n",
       "       'CAPAO DA CANOA - R04 R05', 'CACHOEIRA DO SUL - R27', 'CANOAS - R08',\n",
       "       'CRUZ ALTA - R12', 'SANTO ANGELO - R11', 'TAQUARA - R06',\n",
       "       'SANTA CRUZ DO SUL - R28', 'Bebê', 'Criança', 'Jovem', 'Adulto_1',\n",
       "       'Adulto_2', 'Adulto_3', 'Idoso_1', 'Idoso_2', 'Idoso_3', 'RT-PCR',\n",
       "       'TESTE RÁPIDO', 'Outros Testes', 'Clínico-Imagem', 'Clínico',\n",
       "       'Clínico Epidemiológico', 'Março', 'Abril', 'Maio', 'Junho', 'Julho',\n",
       "       'Agosto', 'Setembro', 'Outubro', 'BRANCA', 'NAO INFORMADO', 'INDIGENA',\n",
       "       'AMARELA', 'PARDA', 'PRETA', 'SexF', 'SexM', 'Hospitalizado',\n",
       "       'Hosp_SRAG', 'Prof_Saude', 'Febre', 'Tosse', 'Garganta', 'Dispneia',\n",
       "       'Outros_Sint', 'Gestante', 'Presidiario', 'Asma', 'DRespiratoria',\n",
       "       'DNeurologica', 'Diabetes', 'Imunodef', 'DRenal', 'DHepatica',\n",
       "       'DCardiaca', 'Obesidade', 'Outras_Comorbidades', 'DCromossomica',\n",
       "       'DHematologica', 'Sindrome_down'],\n",
       "      dtype='object')"
      ]
     },
     "execution_count": 28,
     "metadata": {},
     "output_type": "execute_result"
    }
   ],
   "source": [
    "df.columns"
   ]
  },
  {
   "cell_type": "code",
   "execution_count": 29,
   "metadata": {},
   "outputs": [
    {
     "data": {
      "text/plain": [
       "{0: 'BAGE - R22',\n",
       " 1: 'PASSO FUNDO - R17 R18 R19',\n",
       " 2: 'SANTA MARIA - R01 R02',\n",
       " 3: 'IJUI - R13',\n",
       " 4: 'SANTA ROSA - R14',\n",
       " 5: 'URUGUAIANA - R03',\n",
       " 6: 'PALMEIRA DAS MISSOES - R15 R20',\n",
       " 7: 'CAXIAS DO SUL - R23 R24 R25 R26',\n",
       " 8: 'PORTO ALEGRE - R10',\n",
       " 9: 'PELOTAS - R21',\n",
       " 10: 'LAJEADO - R29 R30',\n",
       " 11: 'GUAIBA - R09',\n",
       " 12: 'NOVO HAMBURGO - R07',\n",
       " 13: 'ERECHIM - R16',\n",
       " 14: 'CAPAO DA CANOA - R04 R05',\n",
       " 15: 'CACHOEIRA DO SUL - R27',\n",
       " 16: 'CANOAS - R08',\n",
       " 17: 'CRUZ ALTA - R12',\n",
       " 18: 'SANTO ANGELO - R11',\n",
       " 19: 'TAQUARA - R06',\n",
       " 20: 'SANTA CRUZ DO SUL - R28',\n",
       " 21: 'Bebê',\n",
       " 22: 'Criança',\n",
       " 23: 'Jovem',\n",
       " 24: 'Adulto_1',\n",
       " 25: 'Adulto_2',\n",
       " 26: 'Adulto_3',\n",
       " 27: 'Idoso_1',\n",
       " 28: 'Idoso_2',\n",
       " 29: 'Idoso_3',\n",
       " 30: 'RT-PCR',\n",
       " 31: 'TESTE RÁPIDO',\n",
       " 32: 'Outros Testes',\n",
       " 33: 'Clínico-Imagem',\n",
       " 34: 'Clínico',\n",
       " 35: 'Clínico Epidemiológico',\n",
       " 36: 'Março',\n",
       " 37: 'Abril',\n",
       " 38: 'Maio',\n",
       " 39: 'Junho',\n",
       " 40: 'Julho',\n",
       " 41: 'Agosto',\n",
       " 42: 'Setembro',\n",
       " 43: 'Outubro',\n",
       " 44: 'BRANCA',\n",
       " 45: 'NAO INFORMADO',\n",
       " 46: 'INDIGENA',\n",
       " 47: 'AMARELA',\n",
       " 48: 'PARDA',\n",
       " 49: 'PRETA',\n",
       " 50: 'SexF',\n",
       " 51: 'SexM',\n",
       " 52: 'Hospitalizado',\n",
       " 53: 'Hosp_SRAG',\n",
       " 54: 'Prof_Saude',\n",
       " 55: 'Febre',\n",
       " 56: 'Tosse',\n",
       " 57: 'Garganta',\n",
       " 58: 'Dispneia',\n",
       " 59: 'Outros_Sint',\n",
       " 60: 'Gestante',\n",
       " 61: 'Presidiario',\n",
       " 62: 'Asma',\n",
       " 63: 'DRespiratoria',\n",
       " 64: 'DNeurologica',\n",
       " 65: 'Diabetes',\n",
       " 66: 'Imunodef',\n",
       " 67: 'DRenal',\n",
       " 68: 'DHepatica',\n",
       " 69: 'DCardiaca',\n",
       " 70: 'Obesidade',\n",
       " 71: 'Outras_Comorbidades',\n",
       " 72: 'DCromossomica',\n",
       " 73: 'DHematologica',\n",
       " 74: 'Sindrome_down'}"
      ]
     },
     "execution_count": 29,
     "metadata": {},
     "output_type": "execute_result"
    }
   ],
   "source": [
    "df_dict"
   ]
  },
  {
   "cell_type": "code",
   "execution_count": null,
   "metadata": {},
   "outputs": [],
   "source": []
  }
 ],
 "metadata": {
  "kernelspec": {
   "display_name": "Python 3.8.1 64-bit",
   "language": "python",
   "name": "python38164bit1a47b14ccaa04f8588568034af662766"
  },
  "language_info": {
   "codemirror_mode": {
    "name": "ipython",
    "version": 3
   },
   "file_extension": ".py",
   "mimetype": "text/x-python",
   "name": "python",
   "nbconvert_exporter": "python",
   "pygments_lexer": "ipython3",
   "version": "3.8.1"
  }
 },
 "nbformat": 4,
 "nbformat_minor": 4
}
