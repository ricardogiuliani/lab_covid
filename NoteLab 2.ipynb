{
 "cells": [
  {
   "cell_type": "code",
   "execution_count": 1,
   "metadata": {},
   "outputs": [
    {
     "name": "stdout",
     "output_type": "stream",
     "text": [
      "importing Jupyter notebook from covid_dict.ipynb\n"
     ]
    }
   ],
   "source": [
    "import requests\n",
    "import pandas as pd\n",
    "import numpy as np\n",
    "from datetime import date\n",
    "import import_ipynb\n",
    "import covid_dict as cd"
   ]
  },
  {
   "cell_type": "markdown",
   "metadata": {},
   "source": [
    "1) [Remover colunas dos atributos desconsiderados](#remove_column)  \n",
    "2) [Arrumando os dados](#data_fix)  \n",
    "3) [Gerando a matrix binária](#binary_matrix)  \n",
    "3.1) [Matriz: Óbitos](#binary_matrix_obito)   \n",
    "3.2) [Matriz: Recuperados](#binary_matrix_rec)  \n",
    "3.3) [Matriz: Assintomáticos](#binary_matrix_assin)  \n",
    "3.4) [Matriz: Sintomáticos](#binary_matrix_sin)  \n",
    "\n",
    "[Panda](Panda_dataset.ipynb)\n",
    "\n",
    "[Dicionário de dados](covid_dict.ipynb)"
   ]
  },
  {
   "cell_type": "code",
   "execution_count": null,
   "metadata": {},
   "outputs": [],
   "source": [
    "# csv_url = \"https://ti.saude.rs.gov.br/covid19/download\"\n",
    "#today = date.today()\n",
    "# dataset = f'dataset-{today}.csv'\n",
    "\n",
    "# req = requests.get(csv_url)\n",
    "# url_content = req.content\n",
    "# csv_file = open(dataset, 'wb')\n",
    "\n",
    "# csv_file.write(url_content)\n",
    "# csv_file.close()"
   ]
  },
  {
   "cell_type": "code",
   "execution_count": 2,
   "metadata": {
    "scrolled": true
   },
   "outputs": [],
   "source": [
    "df = pd.read_csv('20201030.csv', sep=';')  #nrows=1000"
   ]
  },
  {
   "cell_type": "markdown",
   "metadata": {},
   "source": [
    "Atributos desconsiderados:\n",
    "* COD_IBGE\n",
    "* MUNICIPIO\n",
    "* COD_REGIAO_COVID\n",
    "* DATA_SINTOMAS\n",
    "* DATA_EVOLUCAO\n",
    "* DATA_INCLUSAO_OBITO\n",
    "* DATA_EVOLUCAO_ESTIMADA\n",
    "* ETNIA_INDIGENA\n",
    "* FONTE_INFORMACAO\n",
    "* PAIS_NASCIMENTO\n",
    "* BAIRRO\n",
    "\n",
    "#### 1) Remover colunas dos atributos desconsiderados <a name=\"remove_column\"></a>"
   ]
  },
  {
   "cell_type": "code",
   "execution_count": 3,
   "metadata": {
    "scrolled": true
   },
   "outputs": [],
   "source": [
    "for e in cd.attr_removed3:\n",
    "    del df[e]"
   ]
  },
  {
   "cell_type": "markdown",
   "metadata": {},
   "source": [
    "#### 2) Filtrando registros -- EVOLUCAO == OBITO"
   ]
  },
  {
   "cell_type": "code",
   "execution_count": null,
   "metadata": {},
   "outputs": [],
   "source": [
    "df.head()"
   ]
  },
  {
   "cell_type": "code",
   "execution_count": 4,
   "metadata": {},
   "outputs": [],
   "source": [
    "df = df[df.eq('OBITO').any(axis=1)]"
   ]
  },
  {
   "cell_type": "markdown",
   "metadata": {},
   "source": [
    "#### 3) Arrumando os dados - FAIXAETARIA, DATA_CONFIRMACAO, CONDICOES <a name=\"data_fix\"></a>\n",
    "\n",
    "Faixa Etária\n",
    "* < 1: Bebê\n",
    "* (01,09): Criança\n",
    "* (10, 19): Jovem\n",
    "* (20, 39): Adulto 1\n",
    "* (40, 49): Adulto 2\n",
    "* (50, 59): Adulto 3\n",
    "* (60, 69): Idoso 1\n",
    "* (70, 79): Idoso 2\n",
    "* (80 +): Idoso 3\n",
    "       "
   ]
  },
  {
   "cell_type": "code",
   "execution_count": 5,
   "metadata": {
    "scrolled": false
   },
   "outputs": [],
   "source": [
    "for index, row in df.iterrows():\n",
    "    if row['FAIXAETARIA'] == '<1':\n",
    "        row['FAIXAETARIA'] = 'Bebê'\n",
    "    elif row['FAIXAETARIA'] == '01 a 04' or row['FAIXAETARIA'] == '05 a 09':\n",
    "        row['FAIXAETARIA'] = 'Criança'\n",
    "    elif row['FAIXAETARIA'] == '10 a 14' or row['FAIXAETARIA'] == '15 a 19':\n",
    "        row['FAIXAETARIA'] = 'Jovem'\n",
    "    elif row['FAIXAETARIA'] == '20 a 29' or row['FAIXAETARIA'] == '30 a 39':\n",
    "        row['FAIXAETARIA'] = 'Adulto_1'\n",
    "    elif row['FAIXAETARIA'] == '40 a 49':\n",
    "        row['FAIXAETRIA'] = 'Adulto_2'\n",
    "    elif row['FAIXAETARIA'] == '50 a 59':\n",
    "        row['FAIXAETARIA'] = 'Adulto_3'\n",
    "    elif row['FAIXAETARIA'] == '60 a 69':\n",
    "        row['FAIXAETARIA'] = 'Idoso_1'\n",
    "    elif row['FAIXAETARIA'] == '70 a 79':\n",
    "        row['FAIXAETARIA'] = 'Idoso_2'\n",
    "    else:\n",
    "        row['FAIXAETARIA'] = 'Idoso_3'"
   ]
  },
  {
   "cell_type": "markdown",
   "metadata": {},
   "source": [
    "Data de Confirmação Covid-19"
   ]
  },
  {
   "cell_type": "code",
   "execution_count": 6,
   "metadata": {
    "scrolled": false
   },
   "outputs": [],
   "source": [
    "for index, row in df.iterrows():\n",
    "    mes = row['DATA_CONFIRMACAO'].split('/')\n",
    "    if mes[1] == '02':\n",
    "        row['DATA_CONFIRMACAO'] = 'Fevereiro'\n",
    "    elif mes[1] == '03':\n",
    "        row['DATA_CONFIRMACAO'] = 'Março'\n",
    "    elif mes[1] == '04':\n",
    "        row['DATA_CONFIRMACAO'] = 'Abril'\n",
    "    elif mes[1] == '05':\n",
    "        row['DATA_CONFIRMACAO'] = 'Maio'    \n",
    "    elif mes[1] == '06':\n",
    "        row['DATA_CONFIRMACAO'] = 'Junho'\n",
    "    elif mes[1] == '07':\n",
    "        row['DATA_CONFIRMACAO'] = 'Julho'\n",
    "    elif mes[1] == '08':\n",
    "        row['DATA_CONFIRMACAO'] = 'Agosto'\n",
    "    elif mes[1] == '09':\n",
    "        row['DATA_CONFIRMACAO'] = 'Setembro'\n",
    "    else:\n",
    "        row['DATA_CONFIRMACAO'] = 'Outubro'"
   ]
  },
  {
   "cell_type": "markdown",
   "metadata": {},
   "source": [
    "Data de confirmação óbito"
   ]
  },
  {
   "cell_type": "code",
   "execution_count": 7,
   "metadata": {},
   "outputs": [],
   "source": [
    "for index, row in df.iterrows():\n",
    "    mes = row['DATA_INCLUSAO_OBITO'].split('/')\n",
    "    if mes[1] == '02':\n",
    "        row['DATA_INCLUSAO_OBITO'] = 'Obito_Fevereiro'\n",
    "    elif mes[1] == '03':\n",
    "        row['DATA_INCLUSAO_OBITO'] = 'Obito_Março'\n",
    "    elif mes[1] == '04':\n",
    "        row['DATA_INCLUSAO_OBITO'] = 'Obito_Abril'\n",
    "    elif mes[1] == '05':\n",
    "        row['DATA_INCLUSAO_OBITO'] = 'Obito_Maio'    \n",
    "    elif mes[1] == '06':\n",
    "        row['DATA_INCLUSAO_OBITO'] = 'Obito_Junho'\n",
    "    elif mes[1] == '07':\n",
    "        row['DATA_INCLUSAO_OBITO'] = 'Obito_Julho'\n",
    "    elif mes[1] == '08':\n",
    "        row['DATA_INCLUSAO_OBITO'] = 'Obito_Agosto'\n",
    "    elif mes[1] == '09':\n",
    "        row['DATA_INCLUSAO_OBITO'] = 'Obito_Setembro'\n",
    "    else:\n",
    "        row['DATA_INCLUSAO_OBITO'] = 'Obito_Outubro'"
   ]
  },
  {
   "cell_type": "markdown",
   "metadata": {},
   "source": [
    "Condições (Comorbidades)"
   ]
  },
  {
   "cell_type": "code",
   "execution_count": 8,
   "metadata": {
    "scrolled": true
   },
   "outputs": [],
   "source": [
    "for e in cd.comorbidades:\n",
    "    df[e] = str(np.nan)\n",
    "    \n",
    "for index, row in df.iterrows():\n",
    "    if 'asma' in str(row['CONDICOES']).lower():\n",
    "        row['asma'] = 'SIM'\n",
    "    else:\n",
    "        row['asma'] = 'NAO'\n",
    "    if 'respirató' in str(row['CONDICOES']).lower():\n",
    "        row['d_respiratoria'] = 'SIM'\n",
    "    else:\n",
    "        row['d_respiratoria'] = 'NAO'\n",
    "    if 'outro' in str(row['CONDICOES']).lower():\n",
    "        row['outras_comorbidades'] = 'SIM'\n",
    "    else:\n",
    "        row['outras_comorbidades'] = 'NAO'\n",
    "    if 'outro' in str(row['CONDICOES']).lower():\n",
    "        row['outras_comorbidades'] = 'SIM'\n",
    "    else:\n",
    "        row['outras_comorbidades'] = 'NAO'\n",
    "    if 'cromossômicas' in str(row['CONDICOES']).lower():\n",
    "        row['d_cromossomica'] = 'SIM'\n",
    "    else:\n",
    "        row['d_cromossomica'] = 'NAO'\n",
    "    if 'neuro' in str(row['CONDICOES']).lower():\n",
    "        row['d_neurologica'] = 'SIM'\n",
    "    else:\n",
    "        row['d_neurologica'] = 'NAO'\n",
    "    if 'diabe' in str(row['CONDICOES']).lower():\n",
    "        row['diabetes'] = 'SIM'\n",
    "    else:\n",
    "        row['diabetes'] = 'NAO'\n",
    "    if 'imuno' in str(row['CONDICOES']).lower():\n",
    "        row['imunodeficiencia'] = 'SIM'\n",
    "    else:\n",
    "        row['imunodeficiencia'] = 'NAO'\n",
    "    if 'rena' in str(row['CONDICOES']).lower():\n",
    "        row['d_renal'] = 'SIM'\n",
    "    else:\n",
    "        row['d_renal'] = 'NAO'\n",
    "    if 'hepát' in str(row['CONDICOES']).lower():\n",
    "        row['d_hepatica'] = 'SIM'\n",
    "    else:\n",
    "        row['d_hepatica'] = 'NAO'\n",
    "    if 'hemato' in str(row['CONDICOES']).lower():\n",
    "        row['d_hematologica'] = 'SIM'\n",
    "    else:\n",
    "        row['d_hematologica'] = 'NAO'\n",
    "    if 'card' in str(row['CONDICOES']).lower():\n",
    "        row['d_cardiaca'] = 'SIM'\n",
    "    else:\n",
    "        row['d_cardiaca'] = 'NAO'\n",
    "    if 'obes' in str(row['CONDICOES']).lower():\n",
    "        row['obesidade'] = 'SIM'\n",
    "    else:\n",
    "        row['obesidade'] = 'NAO'\n",
    "    if 'down' in str(row['CONDICOES']).lower():\n",
    "        row['sindrome_down'] = 'SIM'\n",
    "    else:\n",
    "        row['sindrome_down'] = 'NAO'\n",
    "del df['CONDICOES']"
   ]
  },
  {
   "cell_type": "markdown",
   "metadata": {},
   "source": [
    "### Gerando a matrix binária <a name=\"binary_matrix\"></a>"
   ]
  },
  {
   "cell_type": "code",
   "execution_count": 9,
   "metadata": {},
   "outputs": [],
   "source": [
    "# for e in cd.municipio:\n",
    "#     df[e] = df.apply(lambda row: 1 if row.MUNICIPIO == e else 0, axis=1)\n",
    "\n",
    "for e in cd.regiao_covid:\n",
    "    df[e] = df.apply(lambda row: 1 if row.REGIAO_COVID == e else 0, axis=1)\n",
    "    \n",
    "for e in cd.faixa_etaria2:\n",
    "    df[e] = df.apply(lambda row: 1 if row.FAIXAETARIA == e else 0, axis=1)\n",
    "    \n",
    "for e in cd.testagem: \n",
    "    df[e] = df.apply(lambda row: 1 if row.CRITERIO == e else 0, axis=1)\n",
    "\n",
    "for e in cd.meses:\n",
    "    df[e] = df.apply(lambda row: 1 if row.DATA_CONFIRMACAO == e else 0, axis=1)\n",
    "    \n",
    "for e in cd.meses_obito:\n",
    "    df[e] = df.apply(lambda row: 1 if row.DATA_INCLUSAO_OBITO == e else 0, axis=1)\n",
    "        \n",
    "for e in cd.etnia:\n",
    "    df[e] = df.apply(lambda row: 1 if row.RACA_COR == e else 0, axis=1)"
   ]
  },
  {
   "cell_type": "code",
   "execution_count": 10,
   "metadata": {},
   "outputs": [],
   "source": [
    "df['SexF'] = df.apply(lambda row: 1 if row.SEXO == 'Feminino' else 0, axis=1)\n",
    "df['SexM'] = df.apply(lambda row: 1 if row.SEXO == 'Masculino' else 0, axis=1)\n",
    "df['Hospitalizado'] = df.apply(lambda row: 1 if row.HOSPITALIZADO == 'SIM' else 0, axis=1)\n",
    "df['Hosp_SRAG'] = df.apply(lambda row: 1 if row.HOSPITALIZACAO_SRAG == 'SIM' else 0, axis=1)\n",
    "df['Prof_Saude'] = df.apply(lambda row: 1 if row.PROFISSIONAL_SAUDE == 'SIM' else 0, axis=1)\n",
    "df['Febre'] = df.apply(lambda row: 1 if row.FEBRE == 'SIM' else 0, axis=1)\n",
    "df['Tosse'] = df.apply(lambda row: 1 if row.TOSSE == 'SIM' else 0, axis=1)\n",
    "df['Garganta'] = df.apply(lambda row: 1 if row.GARGANTA == 'SIM' else 0, axis=1)\n",
    "df['Dispneia'] = df.apply(lambda row: 1 if row.DISPNEIA == 'SIM' else 0, axis=1)\n",
    "df['Outros_Sint'] = df.apply(lambda row: 1 if row.OUTROS == 'SIM' else 0, axis=1)\n",
    "df['Gestante'] = df.apply(lambda row: 1 if row.GESTANTE == 'SIM' else 0, axis=1)\n",
    "df['Presidiario'] = df.apply(lambda row: 1 if row.PES_PRIV_LIBERDADE == 'SIM' else 0, axis=1)\n",
    "df['Asma'] = df.apply(lambda row: 1 if row.asma == 'SIM' else 0, axis=1)\n",
    "df['DRespiratoria'] = df.apply(lambda row: 1 if row.d_respiratoria == 'SIM' else 0, axis=1)\n",
    "df['DNeurologica'] = df.apply(lambda row: 1 if row.d_neurologica == 'SIM' else 0, axis=1)\n",
    "df['Diabetes'] = df.apply(lambda row: 1 if row.diabetes == 'SIM' else 0, axis=1)\n",
    "df['Imunodef'] = df.apply(lambda row: 1 if row.imunodeficiencia == 'SIM' else 0, axis=1)\n",
    "df['DRenal'] = df.apply(lambda row: 1 if row.d_renal == 'SIM' else 0, axis=1)\n",
    "df['DHepatica'] = df.apply(lambda row: 1 if row.d_hepatica == 'SIM' else 0, axis=1)\n",
    "df['DCardiaca'] = df.apply(lambda row: 1 if row.d_cardiaca == 'SIM' else 0, axis=1)\n",
    "df['Obesidade'] = df.apply(lambda row: 1 if row.obesidade == 'SIM' else 0, axis=1)\n",
    "df['Outras_Comorbidades'] = df.apply(lambda row: 1 if row.outras_comorbidades == 'SIM' else 0, axis=1)\n",
    "df['DCromossomica'] = df.apply(lambda row: 1 if row.d_cromossomica == 'SIM' else 0, axis=1)\n",
    "df['DHematologica'] = df.apply(lambda row: 1 if row.d_hematologica == 'SIM' else 0, axis=1)\n",
    "df['Sindrome_down'] = df.apply(lambda row: 1 if row.sindrome_down == 'SIM' else 0, axis=1)"
   ]
  },
  {
   "cell_type": "code",
   "execution_count": 11,
   "metadata": {
    "scrolled": true
   },
   "outputs": [],
   "source": [
    "for e in cd.old_columns3:\n",
    "    del df[e]"
   ]
  },
  {
   "cell_type": "code",
   "execution_count": 12,
   "metadata": {},
   "outputs": [
    {
     "data": {
      "text/html": [
       "<div>\n",
       "<style scoped>\n",
       "    .dataframe tbody tr th:only-of-type {\n",
       "        vertical-align: middle;\n",
       "    }\n",
       "\n",
       "    .dataframe tbody tr th {\n",
       "        vertical-align: top;\n",
       "    }\n",
       "\n",
       "    .dataframe thead th {\n",
       "        text-align: right;\n",
       "    }\n",
       "</style>\n",
       "<table border=\"1\" class=\"dataframe\">\n",
       "  <thead>\n",
       "    <tr style=\"text-align: right;\">\n",
       "      <th></th>\n",
       "      <th>BAGE - R22</th>\n",
       "      <th>PASSO FUNDO - R17 R18 R19</th>\n",
       "      <th>SANTA MARIA - R01 R02</th>\n",
       "      <th>IJUI - R13</th>\n",
       "      <th>SANTA ROSA - R14</th>\n",
       "      <th>URUGUAIANA - R03</th>\n",
       "      <th>PALMEIRA DAS MISSOES - R15 R20</th>\n",
       "      <th>CAXIAS DO SUL - R23 R24 R25 R26</th>\n",
       "      <th>PORTO ALEGRE - R10</th>\n",
       "      <th>PELOTAS - R21</th>\n",
       "      <th>...</th>\n",
       "      <th>Diabetes</th>\n",
       "      <th>Imunodef</th>\n",
       "      <th>DRenal</th>\n",
       "      <th>DHepatica</th>\n",
       "      <th>DCardiaca</th>\n",
       "      <th>Obesidade</th>\n",
       "      <th>Outras_Comorbidades</th>\n",
       "      <th>DCromossomica</th>\n",
       "      <th>DHematologica</th>\n",
       "      <th>Sindrome_down</th>\n",
       "    </tr>\n",
       "  </thead>\n",
       "  <tbody>\n",
       "    <tr>\n",
       "      <th>22</th>\n",
       "      <td>0</td>\n",
       "      <td>1</td>\n",
       "      <td>0</td>\n",
       "      <td>0</td>\n",
       "      <td>0</td>\n",
       "      <td>0</td>\n",
       "      <td>0</td>\n",
       "      <td>0</td>\n",
       "      <td>0</td>\n",
       "      <td>0</td>\n",
       "      <td>...</td>\n",
       "      <td>0</td>\n",
       "      <td>0</td>\n",
       "      <td>0</td>\n",
       "      <td>0</td>\n",
       "      <td>1</td>\n",
       "      <td>1</td>\n",
       "      <td>1</td>\n",
       "      <td>0</td>\n",
       "      <td>0</td>\n",
       "      <td>0</td>\n",
       "    </tr>\n",
       "    <tr>\n",
       "      <th>30</th>\n",
       "      <td>0</td>\n",
       "      <td>1</td>\n",
       "      <td>0</td>\n",
       "      <td>0</td>\n",
       "      <td>0</td>\n",
       "      <td>0</td>\n",
       "      <td>0</td>\n",
       "      <td>0</td>\n",
       "      <td>0</td>\n",
       "      <td>0</td>\n",
       "      <td>...</td>\n",
       "      <td>0</td>\n",
       "      <td>0</td>\n",
       "      <td>0</td>\n",
       "      <td>0</td>\n",
       "      <td>1</td>\n",
       "      <td>0</td>\n",
       "      <td>0</td>\n",
       "      <td>0</td>\n",
       "      <td>0</td>\n",
       "      <td>0</td>\n",
       "    </tr>\n",
       "    <tr>\n",
       "      <th>124</th>\n",
       "      <td>0</td>\n",
       "      <td>0</td>\n",
       "      <td>1</td>\n",
       "      <td>0</td>\n",
       "      <td>0</td>\n",
       "      <td>0</td>\n",
       "      <td>0</td>\n",
       "      <td>0</td>\n",
       "      <td>0</td>\n",
       "      <td>0</td>\n",
       "      <td>...</td>\n",
       "      <td>1</td>\n",
       "      <td>0</td>\n",
       "      <td>0</td>\n",
       "      <td>0</td>\n",
       "      <td>1</td>\n",
       "      <td>0</td>\n",
       "      <td>0</td>\n",
       "      <td>0</td>\n",
       "      <td>0</td>\n",
       "      <td>0</td>\n",
       "    </tr>\n",
       "    <tr>\n",
       "      <th>338</th>\n",
       "      <td>0</td>\n",
       "      <td>0</td>\n",
       "      <td>0</td>\n",
       "      <td>1</td>\n",
       "      <td>0</td>\n",
       "      <td>0</td>\n",
       "      <td>0</td>\n",
       "      <td>0</td>\n",
       "      <td>0</td>\n",
       "      <td>0</td>\n",
       "      <td>...</td>\n",
       "      <td>0</td>\n",
       "      <td>0</td>\n",
       "      <td>0</td>\n",
       "      <td>0</td>\n",
       "      <td>0</td>\n",
       "      <td>0</td>\n",
       "      <td>1</td>\n",
       "      <td>0</td>\n",
       "      <td>0</td>\n",
       "      <td>0</td>\n",
       "    </tr>\n",
       "    <tr>\n",
       "      <th>431</th>\n",
       "      <td>0</td>\n",
       "      <td>0</td>\n",
       "      <td>0</td>\n",
       "      <td>0</td>\n",
       "      <td>1</td>\n",
       "      <td>0</td>\n",
       "      <td>0</td>\n",
       "      <td>0</td>\n",
       "      <td>0</td>\n",
       "      <td>0</td>\n",
       "      <td>...</td>\n",
       "      <td>0</td>\n",
       "      <td>0</td>\n",
       "      <td>0</td>\n",
       "      <td>0</td>\n",
       "      <td>1</td>\n",
       "      <td>0</td>\n",
       "      <td>0</td>\n",
       "      <td>0</td>\n",
       "      <td>0</td>\n",
       "      <td>1</td>\n",
       "    </tr>\n",
       "  </tbody>\n",
       "</table>\n",
       "<p>5 rows × 83 columns</p>\n",
       "</div>"
      ],
      "text/plain": [
       "     BAGE - R22  PASSO FUNDO - R17 R18 R19  SANTA MARIA - R01 R02  IJUI - R13  \\\n",
       "22            0                          1                      0           0   \n",
       "30            0                          1                      0           0   \n",
       "124           0                          0                      1           0   \n",
       "338           0                          0                      0           1   \n",
       "431           0                          0                      0           0   \n",
       "\n",
       "     SANTA ROSA - R14  URUGUAIANA - R03  PALMEIRA DAS MISSOES - R15 R20  \\\n",
       "22                  0                 0                               0   \n",
       "30                  0                 0                               0   \n",
       "124                 0                 0                               0   \n",
       "338                 0                 0                               0   \n",
       "431                 1                 0                               0   \n",
       "\n",
       "     CAXIAS DO SUL - R23 R24 R25 R26  PORTO ALEGRE - R10  PELOTAS - R21  ...  \\\n",
       "22                                 0                   0              0  ...   \n",
       "30                                 0                   0              0  ...   \n",
       "124                                0                   0              0  ...   \n",
       "338                                0                   0              0  ...   \n",
       "431                                0                   0              0  ...   \n",
       "\n",
       "     Diabetes  Imunodef  DRenal  DHepatica  DCardiaca  Obesidade  \\\n",
       "22          0         0       0          0          1          1   \n",
       "30          0         0       0          0          1          0   \n",
       "124         1         0       0          0          1          0   \n",
       "338         0         0       0          0          0          0   \n",
       "431         0         0       0          0          1          0   \n",
       "\n",
       "     Outras_Comorbidades  DCromossomica  DHematologica  Sindrome_down  \n",
       "22                     1              0              0              0  \n",
       "30                     0              0              0              0  \n",
       "124                    0              0              0              0  \n",
       "338                    1              0              0              0  \n",
       "431                    0              0              0              1  \n",
       "\n",
       "[5 rows x 83 columns]"
      ]
     },
     "execution_count": 12,
     "metadata": {},
     "output_type": "execute_result"
    }
   ],
   "source": [
    "df.head()"
   ]
  },
  {
   "cell_type": "code",
   "execution_count": 15,
   "metadata": {},
   "outputs": [],
   "source": [
    "df.to_csv(\"20201030_binary_matrix(region).csv\", header=None, index=False)"
   ]
  },
  {
   "cell_type": "code",
   "execution_count": 13,
   "metadata": {},
   "outputs": [],
   "source": [
    "nome_atributos = df.columns.values.tolist()\n",
    "df_dict = {i : nome_atributos[i] for i in range(0, len(nome_atributos))}"
   ]
  },
  {
   "cell_type": "code",
   "execution_count": 16,
   "metadata": {},
   "outputs": [],
   "source": [
    "df.to_csv(\"20201030_binary_matrix(header)(region).csv\", index=False)"
   ]
  },
  {
   "cell_type": "code",
   "execution_count": null,
   "metadata": {
    "scrolled": true
   },
   "outputs": [],
   "source": [
    "df.columns"
   ]
  },
  {
   "cell_type": "code",
   "execution_count": 14,
   "metadata": {},
   "outputs": [
    {
     "data": {
      "text/plain": [
       "{0: 'BAGE - R22',\n",
       " 1: 'PASSO FUNDO - R17 R18 R19',\n",
       " 2: 'SANTA MARIA - R01 R02',\n",
       " 3: 'IJUI - R13',\n",
       " 4: 'SANTA ROSA - R14',\n",
       " 5: 'URUGUAIANA - R03',\n",
       " 6: 'PALMEIRA DAS MISSOES - R15 R20',\n",
       " 7: 'CAXIAS DO SUL - R23 R24 R25 R26',\n",
       " 8: 'PORTO ALEGRE - R10',\n",
       " 9: 'PELOTAS - R21',\n",
       " 10: 'LAJEADO - R29 R30',\n",
       " 11: 'GUAIBA - R09',\n",
       " 12: 'NOVO HAMBURGO - R07',\n",
       " 13: 'ERECHIM - R16',\n",
       " 14: 'CAPAO DA CANOA - R04 R05',\n",
       " 15: 'CACHOEIRA DO SUL - R27',\n",
       " 16: 'CANOAS - R08',\n",
       " 17: 'CRUZ ALTA - R12',\n",
       " 18: 'SANTO ANGELO - R11',\n",
       " 19: 'TAQUARA - R06',\n",
       " 20: 'SANTA CRUZ DO SUL - R28',\n",
       " 21: 'Bebê',\n",
       " 22: 'Criança',\n",
       " 23: 'Jovem',\n",
       " 24: 'Adulto_1',\n",
       " 25: 'Adulto_2',\n",
       " 26: 'Adulto_3',\n",
       " 27: 'Idoso_1',\n",
       " 28: 'Idoso_2',\n",
       " 29: 'Idoso_3',\n",
       " 30: 'RT-PCR',\n",
       " 31: 'TESTE RÁPIDO',\n",
       " 32: 'Outros Testes',\n",
       " 33: 'Clínico-Imagem',\n",
       " 34: 'Clínico',\n",
       " 35: 'Clínico Epidemiológico',\n",
       " 36: 'Março',\n",
       " 37: 'Abril',\n",
       " 38: 'Maio',\n",
       " 39: 'Junho',\n",
       " 40: 'Julho',\n",
       " 41: 'Agosto',\n",
       " 42: 'Setembro',\n",
       " 43: 'Outubro',\n",
       " 44: 'Obito_Março',\n",
       " 45: 'Obito_Abril',\n",
       " 46: 'Obito_Maio',\n",
       " 47: 'Obito_Junho',\n",
       " 48: 'Obito_Julho',\n",
       " 49: 'Obito_Agosto',\n",
       " 50: 'Obito_Setembro',\n",
       " 51: 'Obito_Outubro',\n",
       " 52: 'BRANCA',\n",
       " 53: 'NAO INFORMADO',\n",
       " 54: 'INDIGENA',\n",
       " 55: 'AMARELA',\n",
       " 56: 'PARDA',\n",
       " 57: 'PRETA',\n",
       " 58: 'SexF',\n",
       " 59: 'SexM',\n",
       " 60: 'Hospitalizado',\n",
       " 61: 'Hosp_SRAG',\n",
       " 62: 'Prof_Saude',\n",
       " 63: 'Febre',\n",
       " 64: 'Tosse',\n",
       " 65: 'Garganta',\n",
       " 66: 'Dispneia',\n",
       " 67: 'Outros_Sint',\n",
       " 68: 'Gestante',\n",
       " 69: 'Presidiario',\n",
       " 70: 'Asma',\n",
       " 71: 'DRespiratoria',\n",
       " 72: 'DNeurologica',\n",
       " 73: 'Diabetes',\n",
       " 74: 'Imunodef',\n",
       " 75: 'DRenal',\n",
       " 76: 'DHepatica',\n",
       " 77: 'DCardiaca',\n",
       " 78: 'Obesidade',\n",
       " 79: 'Outras_Comorbidades',\n",
       " 80: 'DCromossomica',\n",
       " 81: 'DHematologica',\n",
       " 82: 'Sindrome_down'}"
      ]
     },
     "execution_count": 14,
     "metadata": {},
     "output_type": "execute_result"
    }
   ],
   "source": [
    "df_dict"
   ]
  },
  {
   "cell_type": "code",
   "execution_count": null,
   "metadata": {},
   "outputs": [],
   "source": []
  }
 ],
 "metadata": {
  "kernelspec": {
   "display_name": "Python 3.8.1 64-bit",
   "language": "python",
   "name": "python38164bit1a47b14ccaa04f8588568034af662766"
  },
  "language_info": {
   "codemirror_mode": {
    "name": "ipython",
    "version": 3
   },
   "file_extension": ".py",
   "mimetype": "text/x-python",
   "name": "python",
   "nbconvert_exporter": "python",
   "pygments_lexer": "ipython3",
   "version": "3.8.1"
  }
 },
 "nbformat": 4,
 "nbformat_minor": 4
}
