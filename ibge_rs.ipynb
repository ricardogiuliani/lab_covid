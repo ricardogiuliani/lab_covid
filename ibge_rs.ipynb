{
 "cells": [
  {
   "cell_type": "code",
   "execution_count": 1,
   "metadata": {},
   "outputs": [],
   "source": [
    "import pandas as pd"
   ]
  },
  {
   "cell_type": "code",
   "execution_count": 2,
   "metadata": {},
   "outputs": [],
   "source": [
    "df = pd.read_csv('ibge_rs.csv', sep=';', decimal=',')"
   ]
  },
  {
   "cell_type": "code",
   "execution_count": 3,
   "metadata": {},
   "outputs": [],
   "source": [
    "r01r02 = pd.read_csv('regioes_covid/r01r02.csv')\n",
    "r03 = pd.read_csv('regioes_covid/r03.csv')\n",
    "r04r05 = pd.read_csv('regioes_covid/r04r05.csv')\n",
    "r06 = pd.read_csv('regioes_covid/r06.csv')\n",
    "r07 = pd.read_csv('regioes_covid/r07.csv')\n",
    "r08 = pd.read_csv('regioes_covid/r08.csv')\n",
    "r09r10 = pd.read_csv('regioes_covid/r09r10.csv')\n",
    "r11 = pd.read_csv('regioes_covid/r11.csv')\n",
    "r12 = pd.read_csv('regioes_covid/r12.csv')\n",
    "r13 = pd.read_csv('regioes_covid/r13.csv')\n",
    "r14 = pd.read_csv('regioes_covid/r14.csv')\n",
    "r15r20 = pd.read_csv('regioes_covid/r15r20.csv')\n",
    "r16 = pd.read_csv('regioes_covid/r16.csv')\n",
    "r17r18r19 = pd.read_csv('regioes_covid/r17r18r19.csv')\n",
    "r21 = pd.read_csv('regioes_covid/r21.csv')\n",
    "r22 = pd.read_csv('regioes_covid/r22.csv')\n",
    "r23r24r25r26 = pd.read_csv('regioes_covid/r23r24r25r26.csv')\n",
    "r27 = pd.read_csv('regioes_covid/r27.csv')\n",
    "r28 = pd.read_csv('regioes_covid/r28.csv')\n",
    "r29r30 = pd.read_csv('regioes_covid/r29r30.csv')"
   ]
  },
  {
   "cell_type": "code",
   "execution_count": 4,
   "metadata": {},
   "outputs": [],
   "source": [
    "r01r02 = pd.merge(r01r02, df, on='Município')\n",
    "r03 = pd.merge(r03, df, on='Município')\n",
    "r04r05 = pd.merge(r04r05, df, on='Município')\n",
    "r06 = pd.merge(r06, df, on='Município')\n",
    "r07 = pd.merge(r07, df, on='Município')\n",
    "r08 = pd.merge(r08, df, on='Município')\n",
    "r09r10 = pd.merge(r09r10, df, on='Município')\n",
    "r11 = pd.merge(r11, df, on='Município')\n",
    "r12 = pd.merge(r12, df, on='Município')\n",
    "r13 = pd.merge(r13, df, on='Município')\n",
    "r14 = pd.merge(r14, df, on='Município')\n",
    "r15r20 = pd.merge(r15r20, df, on='Município')\n",
    "r16 = pd.merge(r16, df, on='Município')\n",
    "r17r18r19 = pd.merge(r17r18r19, df, on='Município')\n",
    "r21 = pd.merge(r21, df, on='Município')\n",
    "r22 = pd.merge(r22, df, on='Município')\n",
    "r23r24r25r26 = pd.merge(r23r24r25r26, df, on='Município')\n",
    "r27 = pd.merge(r27, df, on='Município')\n",
    "r28 = pd.merge(r28, df, on='Município')\n",
    "r29r30 = pd.merge(r29r30, df, on='Município')"
   ]
  },
  {
   "cell_type": "markdown",
   "metadata": {},
   "source": [
    "### R01, R02 - Santa Maria"
   ]
  },
  {
   "cell_type": "code",
   "execution_count": null,
   "metadata": {
    "scrolled": false
   },
   "outputs": [],
   "source": [
    "r01r02"
   ]
  },
  {
   "cell_type": "markdown",
   "metadata": {},
   "source": [
    "## R03 - Uruguaiana"
   ]
  },
  {
   "cell_type": "code",
   "execution_count": null,
   "metadata": {
    "scrolled": false
   },
   "outputs": [],
   "source": [
    "r03"
   ]
  },
  {
   "cell_type": "markdown",
   "metadata": {},
   "source": [
    "## R04, R05 - Capão da Canoa"
   ]
  },
  {
   "cell_type": "code",
   "execution_count": null,
   "metadata": {
    "scrolled": true
   },
   "outputs": [],
   "source": [
    "r04r05"
   ]
  },
  {
   "cell_type": "markdown",
   "metadata": {},
   "source": [
    "##  R06 - Taquara"
   ]
  },
  {
   "cell_type": "code",
   "execution_count": null,
   "metadata": {
    "scrolled": false
   },
   "outputs": [],
   "source": [
    "r06"
   ]
  },
  {
   "cell_type": "markdown",
   "metadata": {},
   "source": [
    "## R07 - Novo Hamburgo"
   ]
  },
  {
   "cell_type": "code",
   "execution_count": null,
   "metadata": {
    "scrolled": false
   },
   "outputs": [],
   "source": [
    "r07"
   ]
  },
  {
   "cell_type": "markdown",
   "metadata": {},
   "source": [
    "## R08 - Canoas"
   ]
  },
  {
   "cell_type": "code",
   "execution_count": null,
   "metadata": {
    "scrolled": false
   },
   "outputs": [],
   "source": [
    "r08"
   ]
  },
  {
   "cell_type": "markdown",
   "metadata": {},
   "source": [
    "## R09, R10 - Porto Alegre"
   ]
  },
  {
   "cell_type": "code",
   "execution_count": null,
   "metadata": {
    "scrolled": false
   },
   "outputs": [],
   "source": [
    "r09r10"
   ]
  },
  {
   "cell_type": "markdown",
   "metadata": {},
   "source": [
    "## R11 - Santo Ângelo"
   ]
  },
  {
   "cell_type": "code",
   "execution_count": null,
   "metadata": {
    "scrolled": false
   },
   "outputs": [],
   "source": [
    "r11"
   ]
  },
  {
   "cell_type": "markdown",
   "metadata": {},
   "source": [
    "## R12 - Cruz Alta"
   ]
  },
  {
   "cell_type": "code",
   "execution_count": null,
   "metadata": {
    "scrolled": true
   },
   "outputs": [],
   "source": [
    "r12"
   ]
  },
  {
   "cell_type": "markdown",
   "metadata": {},
   "source": [
    "## R13 - Ijuí"
   ]
  },
  {
   "cell_type": "code",
   "execution_count": null,
   "metadata": {
    "scrolled": false
   },
   "outputs": [],
   "source": [
    "r13"
   ]
  },
  {
   "cell_type": "markdown",
   "metadata": {},
   "source": [
    "## R14 - Santa Rosa"
   ]
  },
  {
   "cell_type": "code",
   "execution_count": null,
   "metadata": {
    "scrolled": true
   },
   "outputs": [],
   "source": [
    "r14"
   ]
  },
  {
   "cell_type": "markdown",
   "metadata": {},
   "source": [
    "## R15, R20 - Palmeira das Missões"
   ]
  },
  {
   "cell_type": "code",
   "execution_count": null,
   "metadata": {
    "scrolled": true
   },
   "outputs": [],
   "source": [
    "r15r20"
   ]
  },
  {
   "cell_type": "markdown",
   "metadata": {},
   "source": [
    "## R16 - Erechim"
   ]
  },
  {
   "cell_type": "code",
   "execution_count": null,
   "metadata": {},
   "outputs": [],
   "source": [
    "r16"
   ]
  },
  {
   "cell_type": "markdown",
   "metadata": {},
   "source": [
    "## R17, R18, R19 - Passo Fundo"
   ]
  },
  {
   "cell_type": "code",
   "execution_count": null,
   "metadata": {},
   "outputs": [],
   "source": [
    "r17r18r19"
   ]
  },
  {
   "cell_type": "markdown",
   "metadata": {},
   "source": [
    "## R21 - Pelotas"
   ]
  },
  {
   "cell_type": "code",
   "execution_count": null,
   "metadata": {
    "scrolled": true
   },
   "outputs": [],
   "source": [
    "r21"
   ]
  },
  {
   "cell_type": "markdown",
   "metadata": {},
   "source": [
    "## R22 - Bagé"
   ]
  },
  {
   "cell_type": "code",
   "execution_count": null,
   "metadata": {},
   "outputs": [],
   "source": [
    "r22"
   ]
  },
  {
   "cell_type": "markdown",
   "metadata": {},
   "source": [
    "## R23, R24, R25, R26 - Caxias do Sul"
   ]
  },
  {
   "cell_type": "code",
   "execution_count": null,
   "metadata": {
    "scrolled": true
   },
   "outputs": [],
   "source": [
    "r23r24r25r26"
   ]
  },
  {
   "cell_type": "markdown",
   "metadata": {},
   "source": [
    "## R27 - Cachoeira do Sul"
   ]
  },
  {
   "cell_type": "code",
   "execution_count": null,
   "metadata": {},
   "outputs": [],
   "source": [
    "r27"
   ]
  },
  {
   "cell_type": "markdown",
   "metadata": {},
   "source": [
    "## R28 - Santa Cruz do Sul"
   ]
  },
  {
   "cell_type": "code",
   "execution_count": null,
   "metadata": {},
   "outputs": [],
   "source": [
    "r28"
   ]
  },
  {
   "cell_type": "markdown",
   "metadata": {},
   "source": [
    "## R29, R30 - Lajeado"
   ]
  },
  {
   "cell_type": "code",
   "execution_count": null,
   "metadata": {
    "scrolled": false
   },
   "outputs": [],
   "source": [
    "r29r30"
   ]
  },
  {
   "cell_type": "code",
   "execution_count": null,
   "metadata": {},
   "outputs": [],
   "source": []
  },
  {
   "cell_type": "code",
   "execution_count": 82,
   "metadata": {},
   "outputs": [],
   "source": [
    "rs = pd.read_csv('regiao_covid_data.csv', sep=';', decimal=',')"
   ]
  },
  {
   "cell_type": "code",
   "execution_count": 83,
   "metadata": {},
   "outputs": [
    {
     "data": {
      "text/html": [
       "<div>\n",
       "<style scoped>\n",
       "    .dataframe tbody tr th:only-of-type {\n",
       "        vertical-align: middle;\n",
       "    }\n",
       "\n",
       "    .dataframe tbody tr th {\n",
       "        vertical-align: top;\n",
       "    }\n",
       "\n",
       "    .dataframe thead th {\n",
       "        text-align: right;\n",
       "    }\n",
       "</style>\n",
       "<table border=\"1\" class=\"dataframe\">\n",
       "  <thead>\n",
       "    <tr style=\"text-align: right;\">\n",
       "      <th></th>\n",
       "      <th>Codigo_Regiao</th>\n",
       "      <th>Nome_Região</th>\n",
       "      <th>Área Territorial</th>\n",
       "      <th>População</th>\n",
       "      <th>Densidade Demográfica</th>\n",
       "      <th>PIB</th>\n",
       "      <th>Numero_Hospitais</th>\n",
       "      <th>Leitos_Uti</th>\n",
       "      <th>Leitos_Clinicos</th>\n",
       "      <th>Obitos</th>\n",
       "    </tr>\n",
       "  </thead>\n",
       "  <tbody>\n",
       "    <tr>\n",
       "      <th>0</th>\n",
       "      <td>r01r02</td>\n",
       "      <td>Santa Maria</td>\n",
       "      <td>26535.20</td>\n",
       "      <td>560559</td>\n",
       "      <td>21.13</td>\n",
       "      <td>32370.31</td>\n",
       "      <td>26</td>\n",
       "      <td>129</td>\n",
       "      <td>328</td>\n",
       "      <td>153</td>\n",
       "    </tr>\n",
       "    <tr>\n",
       "      <th>1</th>\n",
       "      <td>r03</td>\n",
       "      <td>Uruguaiana</td>\n",
       "      <td>41475.58</td>\n",
       "      <td>456446</td>\n",
       "      <td>11.01</td>\n",
       "      <td>34239.27</td>\n",
       "      <td>9</td>\n",
       "      <td>78</td>\n",
       "      <td>175</td>\n",
       "      <td>91</td>\n",
       "    </tr>\n",
       "    <tr>\n",
       "      <th>2</th>\n",
       "      <td>r04r05</td>\n",
       "      <td>Capão da Canoa</td>\n",
       "      <td>8688.20</td>\n",
       "      <td>399410</td>\n",
       "      <td>45.97</td>\n",
       "      <td>25688.37</td>\n",
       "      <td>7</td>\n",
       "      <td>52</td>\n",
       "      <td>77</td>\n",
       "      <td>192</td>\n",
       "    </tr>\n",
       "    <tr>\n",
       "      <th>3</th>\n",
       "      <td>r06</td>\n",
       "      <td>Taquara</td>\n",
       "      <td>5896.09</td>\n",
       "      <td>236699</td>\n",
       "      <td>40.15</td>\n",
       "      <td>27965.27</td>\n",
       "      <td>8</td>\n",
       "      <td>20</td>\n",
       "      <td>107</td>\n",
       "      <td>150</td>\n",
       "    </tr>\n",
       "    <tr>\n",
       "      <th>4</th>\n",
       "      <td>r07</td>\n",
       "      <td>Novo Hamburgo</td>\n",
       "      <td>1337.51</td>\n",
       "      <td>835667</td>\n",
       "      <td>624.79</td>\n",
       "      <td>36739.47</td>\n",
       "      <td>10</td>\n",
       "      <td>100</td>\n",
       "      <td>226</td>\n",
       "      <td>556</td>\n",
       "    </tr>\n",
       "    <tr>\n",
       "      <th>5</th>\n",
       "      <td>r08</td>\n",
       "      <td>Canoas</td>\n",
       "      <td>2733.80</td>\n",
       "      <td>783463</td>\n",
       "      <td>286.58</td>\n",
       "      <td>50150.74</td>\n",
       "      <td>12</td>\n",
       "      <td>177</td>\n",
       "      <td>342</td>\n",
       "      <td>575</td>\n",
       "    </tr>\n",
       "    <tr>\n",
       "      <th>6</th>\n",
       "      <td>r09r10</td>\n",
       "      <td>Porto Alegre</td>\n",
       "      <td>13987.24</td>\n",
       "      <td>2794235</td>\n",
       "      <td>199.77</td>\n",
       "      <td>26711.03</td>\n",
       "      <td>26</td>\n",
       "      <td>928</td>\n",
       "      <td>1213</td>\n",
       "      <td>1862</td>\n",
       "    </tr>\n",
       "    <tr>\n",
       "      <th>7</th>\n",
       "      <td>r11</td>\n",
       "      <td>Santo Ângelo</td>\n",
       "      <td>13006.67</td>\n",
       "      <td>190787</td>\n",
       "      <td>14.67</td>\n",
       "      <td>36223.16</td>\n",
       "      <td>10</td>\n",
       "      <td>43</td>\n",
       "      <td>268</td>\n",
       "      <td>96</td>\n",
       "    </tr>\n",
       "    <tr>\n",
       "      <th>8</th>\n",
       "      <td>r12</td>\n",
       "      <td>Cruz Alta</td>\n",
       "      <td>8805.18</td>\n",
       "      <td>151530</td>\n",
       "      <td>17.21</td>\n",
       "      <td>51476.23</td>\n",
       "      <td>10</td>\n",
       "      <td>32</td>\n",
       "      <td>211</td>\n",
       "      <td>65</td>\n",
       "    </tr>\n",
       "    <tr>\n",
       "      <th>9</th>\n",
       "      <td>r13</td>\n",
       "      <td>Ijuí</td>\n",
       "      <td>7267.98</td>\n",
       "      <td>229464</td>\n",
       "      <td>31.57</td>\n",
       "      <td>39294.20</td>\n",
       "      <td>14</td>\n",
       "      <td>36</td>\n",
       "      <td>316</td>\n",
       "      <td>50</td>\n",
       "    </tr>\n",
       "    <tr>\n",
       "      <th>10</th>\n",
       "      <td>r14</td>\n",
       "      <td>Santa Rosa</td>\n",
       "      <td>5550.40</td>\n",
       "      <td>217430</td>\n",
       "      <td>39.17</td>\n",
       "      <td>33038.51</td>\n",
       "      <td>14</td>\n",
       "      <td>46</td>\n",
       "      <td>178</td>\n",
       "      <td>67</td>\n",
       "    </tr>\n",
       "    <tr>\n",
       "      <th>11</th>\n",
       "      <td>r15r20</td>\n",
       "      <td>Palmeira das Missões</td>\n",
       "      <td>11052.07</td>\n",
       "      <td>344956</td>\n",
       "      <td>31.21</td>\n",
       "      <td>27329.35</td>\n",
       "      <td>21</td>\n",
       "      <td>35</td>\n",
       "      <td>255</td>\n",
       "      <td>128</td>\n",
       "    </tr>\n",
       "    <tr>\n",
       "      <th>12</th>\n",
       "      <td>r16</td>\n",
       "      <td>Erechim</td>\n",
       "      <td>6628.44</td>\n",
       "      <td>232680</td>\n",
       "      <td>35.10</td>\n",
       "      <td>33494.44</td>\n",
       "      <td>13</td>\n",
       "      <td>44</td>\n",
       "      <td>135</td>\n",
       "      <td>60</td>\n",
       "    </tr>\n",
       "    <tr>\n",
       "      <th>13</th>\n",
       "      <td>r17r18r19</td>\n",
       "      <td>Passo Fundo</td>\n",
       "      <td>19552.53</td>\n",
       "      <td>669713</td>\n",
       "      <td>34.25</td>\n",
       "      <td>37930.27</td>\n",
       "      <td>24</td>\n",
       "      <td>155</td>\n",
       "      <td>379</td>\n",
       "      <td>366</td>\n",
       "    </tr>\n",
       "    <tr>\n",
       "      <th>14</th>\n",
       "      <td>r21</td>\n",
       "      <td>Pelotas</td>\n",
       "      <td>34902.26</td>\n",
       "      <td>880571</td>\n",
       "      <td>25.23</td>\n",
       "      <td>24659.60</td>\n",
       "      <td>20</td>\n",
       "      <td>170</td>\n",
       "      <td>212</td>\n",
       "      <td>349</td>\n",
       "    </tr>\n",
       "    <tr>\n",
       "      <th>15</th>\n",
       "      <td>r22</td>\n",
       "      <td>Bagé</td>\n",
       "      <td>15192.96</td>\n",
       "      <td>188543</td>\n",
       "      <td>12.41</td>\n",
       "      <td>36653.68</td>\n",
       "      <td>5</td>\n",
       "      <td>31</td>\n",
       "      <td>140</td>\n",
       "      <td>25</td>\n",
       "    </tr>\n",
       "    <tr>\n",
       "      <th>16</th>\n",
       "      <td>r23r24r25r26</td>\n",
       "      <td>Caxias do Sul</td>\n",
       "      <td>15192.96</td>\n",
       "      <td>188543</td>\n",
       "      <td>12.41</td>\n",
       "      <td>36653.68</td>\n",
       "      <td>27</td>\n",
       "      <td>274</td>\n",
       "      <td>870</td>\n",
       "      <td>501</td>\n",
       "    </tr>\n",
       "    <tr>\n",
       "      <th>17</th>\n",
       "      <td>r27</td>\n",
       "      <td>Cachoeira do Sul</td>\n",
       "      <td>12063.63</td>\n",
       "      <td>202884</td>\n",
       "      <td>16.82</td>\n",
       "      <td>22505.96</td>\n",
       "      <td>8</td>\n",
       "      <td>20</td>\n",
       "      <td>133</td>\n",
       "      <td>28</td>\n",
       "    </tr>\n",
       "    <tr>\n",
       "      <th>18</th>\n",
       "      <td>r28</td>\n",
       "      <td>Santa Cruz do Sul</td>\n",
       "      <td>7467.65</td>\n",
       "      <td>353229</td>\n",
       "      <td>47.30</td>\n",
       "      <td>28053.44</td>\n",
       "      <td>9</td>\n",
       "      <td>50</td>\n",
       "      <td>199</td>\n",
       "      <td>60</td>\n",
       "    </tr>\n",
       "    <tr>\n",
       "      <th>19</th>\n",
       "      <td>r29r30</td>\n",
       "      <td>Lajeado</td>\n",
       "      <td>4922.09</td>\n",
       "      <td>358523</td>\n",
       "      <td>72.84</td>\n",
       "      <td>29976.21</td>\n",
       "      <td>19</td>\n",
       "      <td>65</td>\n",
       "      <td>169</td>\n",
       "      <td>134</td>\n",
       "    </tr>\n",
       "  </tbody>\n",
       "</table>\n",
       "</div>"
      ],
      "text/plain": [
       "   Codigo_Regiao           Nome_Região  Área Territorial  População  \\\n",
       "0         r01r02           Santa Maria          26535.20     560559   \n",
       "1            r03            Uruguaiana          41475.58     456446   \n",
       "2         r04r05        Capão da Canoa           8688.20     399410   \n",
       "3            r06               Taquara           5896.09     236699   \n",
       "4            r07         Novo Hamburgo           1337.51     835667   \n",
       "5            r08                Canoas           2733.80     783463   \n",
       "6         r09r10          Porto Alegre          13987.24    2794235   \n",
       "7            r11          Santo Ângelo          13006.67     190787   \n",
       "8            r12             Cruz Alta           8805.18     151530   \n",
       "9            r13                  Ijuí           7267.98     229464   \n",
       "10           r14            Santa Rosa           5550.40     217430   \n",
       "11        r15r20  Palmeira das Missões          11052.07     344956   \n",
       "12           r16               Erechim           6628.44     232680   \n",
       "13     r17r18r19           Passo Fundo          19552.53     669713   \n",
       "14           r21               Pelotas          34902.26     880571   \n",
       "15           r22                  Bagé          15192.96     188543   \n",
       "16  r23r24r25r26         Caxias do Sul          15192.96     188543   \n",
       "17           r27      Cachoeira do Sul          12063.63     202884   \n",
       "18           r28     Santa Cruz do Sul           7467.65     353229   \n",
       "19        r29r30               Lajeado           4922.09     358523   \n",
       "\n",
       "    Densidade Demográfica       PIB  Numero_Hospitais  Leitos_Uti  \\\n",
       "0                   21.13  32370.31                26         129   \n",
       "1                   11.01  34239.27                 9          78   \n",
       "2                   45.97  25688.37                 7          52   \n",
       "3                   40.15  27965.27                 8          20   \n",
       "4                  624.79  36739.47                10         100   \n",
       "5                  286.58  50150.74                12         177   \n",
       "6                  199.77  26711.03                26         928   \n",
       "7                   14.67  36223.16                10          43   \n",
       "8                   17.21  51476.23                10          32   \n",
       "9                   31.57  39294.20                14          36   \n",
       "10                  39.17  33038.51                14          46   \n",
       "11                  31.21  27329.35                21          35   \n",
       "12                  35.10  33494.44                13          44   \n",
       "13                  34.25  37930.27                24         155   \n",
       "14                  25.23  24659.60                20         170   \n",
       "15                  12.41  36653.68                 5          31   \n",
       "16                  12.41  36653.68                27         274   \n",
       "17                  16.82  22505.96                 8          20   \n",
       "18                  47.30  28053.44                 9          50   \n",
       "19                  72.84  29976.21                19          65   \n",
       "\n",
       "    Leitos_Clinicos  Obitos  \n",
       "0               328     153  \n",
       "1               175      91  \n",
       "2                77     192  \n",
       "3               107     150  \n",
       "4               226     556  \n",
       "5               342     575  \n",
       "6              1213    1862  \n",
       "7               268      96  \n",
       "8               211      65  \n",
       "9               316      50  \n",
       "10              178      67  \n",
       "11              255     128  \n",
       "12              135      60  \n",
       "13              379     366  \n",
       "14              212     349  \n",
       "15              140      25  \n",
       "16              870     501  \n",
       "17              133      28  \n",
       "18              199      60  \n",
       "19              169     134  "
      ]
     },
     "execution_count": 83,
     "metadata": {},
     "output_type": "execute_result"
    }
   ],
   "source": [
    "rs"
   ]
  },
  {
   "cell_type": "code",
   "execution_count": null,
   "metadata": {},
   "outputs": [],
   "source": []
  }
 ],
 "metadata": {
  "kernelspec": {
   "display_name": "Python 3.8.1 64-bit",
   "language": "python",
   "name": "python38164bit1a47b14ccaa04f8588568034af662766"
  },
  "language_info": {
   "codemirror_mode": {
    "name": "ipython",
    "version": 3
   },
   "file_extension": ".py",
   "mimetype": "text/x-python",
   "name": "python",
   "nbconvert_exporter": "python",
   "pygments_lexer": "ipython3",
   "version": "3.8.1"
  }
 },
 "nbformat": 4,
 "nbformat_minor": 4
}
