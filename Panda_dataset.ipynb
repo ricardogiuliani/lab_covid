{
 "cells": [
  {
   "cell_type": "code",
   "execution_count": 1,
   "metadata": {},
   "outputs": [],
   "source": [
    "import pandas as pd"
   ]
  },
  {
   "cell_type": "code",
   "execution_count": 5,
   "metadata": {
    "scrolled": true
   },
   "outputs": [],
   "source": [
    "df = pd.read_csv('panda_dataset/covid_sc_20210101_3.csv', sep=',')"
   ]
  },
  {
   "cell_type": "code",
   "execution_count": 6,
   "metadata": {},
   "outputs": [],
   "source": [
    "for col,row in df.iteritems():\n",
    "    df.loc[df[col] == 0, col] = 0\n",
    "    if df.columns.get_loc(col) == 0: \n",
    "        df.loc[df[col] == 1, col] = 1000\n",
    "    else:\n",
    "        df.loc[df[col] == 1, col] = int(df.columns.get_loc(col))"
   ]
  },
  {
   "cell_type": "code",
   "execution_count": 7,
   "metadata": {},
   "outputs": [],
   "source": [
    "panda = df.to_numpy()\n",
    "\n",
    "res = [[ele for ele in sub if ele != 0] for sub in panda]\n",
    "\n",
    "pd.DataFrame(res).to_csv(\"panda_dataset/sc2020.csv\", header=None, index=False, sep =\" \")"
   ]
  },
  {
   "cell_type": "code",
   "execution_count": null,
   "metadata": {},
   "outputs": [],
   "source": [
    "lista = list()\n",
    "for i, e in enumerate(df[0]):\n",
    "    if e == 1:\n",
    "        lista.append(i)\n",
    "lista"
   ]
  },
  {
   "cell_type": "code",
   "execution_count": null,
   "metadata": {},
   "outputs": [],
   "source": []
  },
  {
   "cell_type": "code",
   "execution_count": 9,
   "metadata": {},
   "outputs": [],
   "source": [
    "nome_atributos = df.columns.values.tolist()\n",
    "df_dict = {i : nome_atributos[i] for i in range(0, len(nome_atributos))}"
   ]
  },
  {
   "cell_type": "code",
   "execution_count": 10,
   "metadata": {},
   "outputs": [
    {
     "data": {
      "text/plain": [
       "{0: 'PASSO FUNDO - R17 R18 R19',\n",
       " 1: 'SANTA MARIA - R01 R02',\n",
       " 2: 'IJUI - R13',\n",
       " 3: 'SANTA ROSA - R14',\n",
       " 4: 'URUGUAIANA - R03',\n",
       " 5: 'PALMEIRA DAS MISSOES - R15 R20',\n",
       " 6: 'PORTO ALEGRE - R10',\n",
       " 7: 'PELOTAS - R21',\n",
       " 8: 'CAXIAS DO SUL - R23 R24 R25 R26',\n",
       " 9: 'GUAIBA - R09',\n",
       " 10: 'NOVO HAMBURGO - R07',\n",
       " 11: 'ERECHIM - R16',\n",
       " 12: 'LAJEADO - R29 R30',\n",
       " 13: 'CAPAO DA CANOA - R04 R05',\n",
       " 14: 'CACHOEIRA DO SUL - R27',\n",
       " 15: 'BAGE - R22',\n",
       " 16: 'CANOAS - R08',\n",
       " 17: 'SANTO ANGELO - R11',\n",
       " 18: 'TAQUARA - R06',\n",
       " 19: 'SANTA CRUZ DO SUL - R28',\n",
       " 20: 'CRUZ ALTA - R12',\n",
       " 21: 'Bebê',\n",
       " 22: 'Criança',\n",
       " 23: 'Jovem',\n",
       " 24: 'Adulto_1',\n",
       " 25: 'Adulto_2',\n",
       " 26: 'Adulto_3',\n",
       " 27: 'Idoso_1',\n",
       " 28: 'Idoso_2',\n",
       " 29: 'Idoso_3',\n",
       " 30: 'RT-PCR',\n",
       " 31: 'TESTE RÁPIDO',\n",
       " 32: 'Outros',\n",
       " 33: 'Março',\n",
       " 34: 'Abril',\n",
       " 35: 'Maio',\n",
       " 36: 'Junho',\n",
       " 37: 'Julho',\n",
       " 38: 'Agosto',\n",
       " 39: 'Setembro',\n",
       " 40: 'Outubro',\n",
       " 41: 'Novembro',\n",
       " 42: 'Dezembro',\n",
       " 43: 'Obito_Março',\n",
       " 44: 'Obito_Abril',\n",
       " 45: 'Obito_Maio',\n",
       " 46: 'Obito_Junho',\n",
       " 47: 'Obito_Julho',\n",
       " 48: 'Obito_Agosto',\n",
       " 49: 'Obito_Setembro',\n",
       " 50: 'Obito_Outubro',\n",
       " 51: 'Obito_Novembro',\n",
       " 52: 'Obito_Dezembro',\n",
       " 53: 'BRANCA',\n",
       " 54: 'NAO INFORMADO',\n",
       " 55: 'INDIGENA',\n",
       " 56: 'AMARELA',\n",
       " 57: 'PARDA',\n",
       " 58: 'PRETA',\n",
       " 59: 'SexF',\n",
       " 60: 'SexM',\n",
       " 61: 'Hospitalizado',\n",
       " 62: 'Hosp_SRAG',\n",
       " 63: 'Febre',\n",
       " 64: 'Tosse',\n",
       " 65: 'Garganta',\n",
       " 66: 'Dispneia',\n",
       " 67: 'Outros_Sintomas',\n",
       " 68: 'Gestante',\n",
       " 69: 'Asma',\n",
       " 70: 'DRespiratoria',\n",
       " 71: 'DNeurologica',\n",
       " 72: 'Diabetes',\n",
       " 73: 'Imunodef',\n",
       " 74: 'DRenal',\n",
       " 75: 'DHepatica',\n",
       " 76: 'DCardiaca',\n",
       " 77: 'Obesidade',\n",
       " 78: 'Outras_Comorbidades',\n",
       " 79: 'DHematologica',\n",
       " 80: 'Sindrome_down',\n",
       " 81: '0-4',\n",
       " 82: '5-14',\n",
       " 83: '15-24',\n",
       " 84: '25-34',\n",
       " 85: '35-44',\n",
       " 86: '45-54',\n",
       " 87: '55-64',\n",
       " 88: '65-74',\n",
       " 89: '75-84',\n",
       " 90: '85-94',\n",
       " 91: '95-104',\n",
       " 92: '105-114',\n",
       " 93: '115-124',\n",
       " 94: '125-134',\n",
       " 95: '135-144',\n",
       " 96: '145-154',\n",
       " 97: '155-164',\n",
       " 98: '165-174',\n",
       " 99: '175-184',\n",
       " 100: '185-194',\n",
       " 101: '195-204',\n",
       " 102: '205-214',\n",
       " 103: '215-224'}"
      ]
     },
     "execution_count": 10,
     "metadata": {},
     "output_type": "execute_result"
    }
   ],
   "source": [
    "df_dict"
   ]
  },
  {
   "cell_type": "code",
   "execution_count": null,
   "metadata": {},
   "outputs": [],
   "source": []
  }
 ],
 "metadata": {
  "kernelspec": {
   "display_name": "Python 3.8.1 64-bit",
   "language": "python",
   "name": "python38164bit1a47b14ccaa04f8588568034af662766"
  },
  "language_info": {
   "codemirror_mode": {
    "name": "ipython",
    "version": 3
   },
   "file_extension": ".py",
   "mimetype": "text/x-python",
   "name": "python",
   "nbconvert_exporter": "python",
   "pygments_lexer": "ipython3",
   "version": "3.8.1"
  }
 },
 "nbformat": 4,
 "nbformat_minor": 4
}
