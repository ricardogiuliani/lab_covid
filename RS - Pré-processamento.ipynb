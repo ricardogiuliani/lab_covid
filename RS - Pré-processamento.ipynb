{
 "cells": [
  {
   "cell_type": "code",
   "execution_count": 6,
   "metadata": {},
   "outputs": [],
   "source": [
    "import pandas as pd\n",
    "import numpy as np"
   ]
  },
  {
   "cell_type": "code",
   "execution_count": null,
   "metadata": {},
   "outputs": [],
   "source": [
    "df = pd.read_csv('raw_dataset/covid_rs_20201207.csv', sep=';')"
   ]
  },
  {
   "cell_type": "code",
   "execution_count": null,
   "metadata": {
    "scrolled": false
   },
   "outputs": [],
   "source": [
    "df = df[df.eq('OBITO').any(axis=1)]"
   ]
  },
  {
   "cell_type": "code",
   "execution_count": null,
   "metadata": {},
   "outputs": [],
   "source": [
    "for idx, row in df.iterrows():\n",
    "    if  df.loc[idx,'CRITERIO'] == 'Clínico-Imagem' or df.loc[idx,'CRITERIO'] == 'Clínico Epidemiológico' or df.loc[idx,'CRITERIO'] == 'Outros testes' or df.loc[idx,'CRITERIO'] == 'Outros Testes' or df.loc[idx,'CRITERIO'] == 'Clínico' or df.loc[idx,'CRITERIO'] == 'Ignorado':\n",
    "        df.loc[idx,'CRITERIO'] = 'Outros'"
   ]
  },
  {
   "cell_type": "code",
   "execution_count": null,
   "metadata": {},
   "outputs": [],
   "source": [
    "df.to_csv('pp_dataset/covid_rs_20201207.csv', sep=';', index=None)"
   ]
  },
  {
   "cell_type": "code",
   "execution_count": null,
   "metadata": {},
   "outputs": [],
   "source": [
    "df.head()"
   ]
  },
  {
   "cell_type": "code",
   "execution_count": null,
   "metadata": {},
   "outputs": [],
   "source": [
    "df.CRITERIO.unique()"
   ]
  },
  {
   "cell_type": "code",
   "execution_count": null,
   "metadata": {},
   "outputs": [],
   "source": [
    "for index, row in df.iterrows():\n",
    "    if row['FAIXAETARIA'] == '<1':\n",
    "        row['FAIXAETARIA'] = 'Bebê'\n",
    "    elif row['FAIXAETARIA'] == '01 a 04' or row['FAIXAETARIA'] == '05 a 09':\n",
    "        row['FAIXAETARIA'] = 'Criança'\n",
    "    elif row['FAIXAETARIA'] == '10 a 14' or row['FAIXAETARIA'] == '15 a 19':\n",
    "        row['FAIXAETARIA'] = 'Jovem'\n",
    "    elif row['FAIXAETARIA'] == '20 a 29' or row['FAIXAETARIA'] == '30 a 39':\n",
    "        row['FAIXAETARIA'] = 'Adulto_1'\n",
    "    elif row['FAIXAETARIA'] == '40 a 49':\n",
    "        row['FAIXAETARIA'] = 'Adulto_2'\n",
    "    elif row['FAIXAETARIA'] == '50 a 59':\n",
    "        row['FAIXAETARIA'] = 'Adulto_3'\n",
    "    elif row['FAIXAETARIA'] == '60 a 69':\n",
    "        row['FAIXAETARIA'] = 'Idoso_1'\n",
    "    elif row['FAIXAETARIA'] == '70 a 79':\n",
    "        row['FAIXAETARIA'] = 'Idoso_2'\n",
    "    else:\n",
    "        row['FAIXAETARIA'] = 'Idoso_3'"
   ]
  },
  {
   "cell_type": "code",
   "execution_count": 4,
   "metadata": {},
   "outputs": [],
   "source": [
    "df = pd.read_csv('rs_hosp.csv', sep=';')"
   ]
  },
  {
   "cell_type": "code",
   "execution_count": 11,
   "metadata": {},
   "outputs": [],
   "source": [
    "df = pd.read_csv('sc_hosp.csv', sep=';')"
   ]
  },
  {
   "cell_type": "code",
   "execution_count": 13,
   "metadata": {},
   "outputs": [],
   "source": [
    "df = pd.pivot_table(df, values=['confirmed'], index=['date'], aggfunc=np.sum)"
   ]
  },
  {
   "cell_type": "code",
   "execution_count": 14,
   "metadata": {},
   "outputs": [
    {
     "data": {
      "text/html": [
       "<div>\n",
       "<style scoped>\n",
       "    .dataframe tbody tr th:only-of-type {\n",
       "        vertical-align: middle;\n",
       "    }\n",
       "\n",
       "    .dataframe tbody tr th {\n",
       "        vertical-align: top;\n",
       "    }\n",
       "\n",
       "    .dataframe thead th {\n",
       "        text-align: right;\n",
       "    }\n",
       "</style>\n",
       "<table border=\"1\" class=\"dataframe\">\n",
       "  <thead>\n",
       "    <tr style=\"text-align: right;\">\n",
       "      <th></th>\n",
       "      <th>confirmed</th>\n",
       "    </tr>\n",
       "    <tr>\n",
       "      <th>date</th>\n",
       "      <th></th>\n",
       "    </tr>\n",
       "  </thead>\n",
       "  <tbody>\n",
       "    <tr>\n",
       "      <th>2020-04-21</th>\n",
       "      <td>258</td>\n",
       "    </tr>\n",
       "    <tr>\n",
       "      <th>2020-04-22</th>\n",
       "      <td>263</td>\n",
       "    </tr>\n",
       "    <tr>\n",
       "      <th>2020-04-23</th>\n",
       "      <td>268</td>\n",
       "    </tr>\n",
       "    <tr>\n",
       "      <th>2020-04-24</th>\n",
       "      <td>278</td>\n",
       "    </tr>\n",
       "    <tr>\n",
       "      <th>2020-04-25</th>\n",
       "      <td>284</td>\n",
       "    </tr>\n",
       "    <tr>\n",
       "      <th>...</th>\n",
       "      <td>...</td>\n",
       "    </tr>\n",
       "    <tr>\n",
       "      <th>2020-12-08</th>\n",
       "      <td>772</td>\n",
       "    </tr>\n",
       "    <tr>\n",
       "      <th>2020-12-09</th>\n",
       "      <td>773</td>\n",
       "    </tr>\n",
       "    <tr>\n",
       "      <th>2020-12-10</th>\n",
       "      <td>771</td>\n",
       "    </tr>\n",
       "    <tr>\n",
       "      <th>2020-12-11</th>\n",
       "      <td>774</td>\n",
       "    </tr>\n",
       "    <tr>\n",
       "      <th>2020-12-12</th>\n",
       "      <td>764</td>\n",
       "    </tr>\n",
       "  </tbody>\n",
       "</table>\n",
       "<p>235 rows × 1 columns</p>\n",
       "</div>"
      ],
      "text/plain": [
       "            confirmed\n",
       "date                 \n",
       "2020-04-21        258\n",
       "2020-04-22        263\n",
       "2020-04-23        268\n",
       "2020-04-24        278\n",
       "2020-04-25        284\n",
       "...               ...\n",
       "2020-12-08        772\n",
       "2020-12-09        773\n",
       "2020-12-10        771\n",
       "2020-12-11        774\n",
       "2020-12-12        764\n",
       "\n",
       "[235 rows x 1 columns]"
      ]
     },
     "execution_count": 14,
     "metadata": {},
     "output_type": "execute_result"
    }
   ],
   "source": [
    "df"
   ]
  },
  {
   "cell_type": "code",
   "execution_count": 15,
   "metadata": {},
   "outputs": [],
   "source": [
    "df.to_csv('evo_sc.csv')"
   ]
  },
  {
   "cell_type": "code",
   "execution_count": null,
   "metadata": {},
   "outputs": [],
   "source": []
  }
 ],
 "metadata": {
  "kernelspec": {
   "display_name": "Python 3.8.1 64-bit",
   "language": "python",
   "name": "python38164bit1a47b14ccaa04f8588568034af662766"
  },
  "language_info": {
   "codemirror_mode": {
    "name": "ipython",
    "version": 3
   },
   "file_extension": ".py",
   "mimetype": "text/x-python",
   "name": "python",
   "nbconvert_exporter": "python",
   "pygments_lexer": "ipython3",
   "version": "3.8.1"
  }
 },
 "nbformat": 4,
 "nbformat_minor": 4
}
