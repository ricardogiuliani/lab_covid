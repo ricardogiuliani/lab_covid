{
 "cells": [
  {
   "cell_type": "code",
   "execution_count": 1,
   "metadata": {},
   "outputs": [],
   "source": [
    "import pandas as pd\n",
    "import numpy as np\n",
    "from sklearn.cluster import SpectralCoclustering\n",
    "from matplotlib import pyplot as plt"
   ]
  },
  {
   "cell_type": "code",
   "execution_count": 2,
   "metadata": {},
   "outputs": [],
   "source": [
    "my_dict = {0: 'SexF', 1: 'SexM', 2: 'Bebe', 3: 'Crianca', 4: 'Jovem', 5: 'Adulto', 6: 'Idoso', 7: 'Muito_idoso', \n",
    "           8: 'Conf_Mar', 9: 'Conf_Abr', 10: 'Conf_Mai', 11: 'Conf_Jun', 12: 'Conf_Jul', 13: 'Conf_Ago', \n",
    "           14: 'Conf_Set', 15: 'Sint_Mar', 16: 'Sint_Abr', 17: 'Sint_Mai', 18: 'Sint_Jun', 19: 'Sint_Jul', \n",
    "           20: 'Sint_Ago', 21: 'Sint_Set', 22: 'Evo_Rec', 23: 'Evo_Obito', 24: 'Evo_Aco', 25: 'Hosp_S', 26: 'Hosp_N', \n",
    "           27: 'Febre_S', 28: 'Febre_N', 29: 'Tosse_S', 30: 'Tosse_N', 31: 'Garganta_S', 32: 'Garganta_N', 33: 'Dispneia_S', \n",
    "           34: 'Dispneia_N', 35: 'Asma_S', 36: 'Asma_N', 37: 'DRespiratoria_S', 38: 'DRespiratoria_N', 39: 'DNeurologia_S', \n",
    "           40: 'DNeurologia_N', 41: 'Diabetes_S', 42: 'Diabetes_N', 43: 'Imunodef_S', 44: 'Imunodef_N', 45: 'DRenal_S', \n",
    "           46: 'DRenal_N', 47: 'DHepatica_S', 48: 'DHepatica_N', 49: 'DCardiaca_S', 50: 'DCardiaca_N', 51: 'Obesidade_S', \n",
    "           52: 'Obesidade_N'}\n",
    "document_names = list()\n",
    "for key, value in my_dict.items():\n",
    "    document_names.append(value)"
   ]
  },
  {
   "cell_type": "code",
   "execution_count": 3,
   "metadata": {},
   "outputs": [],
   "source": [
    "data = pd.read_csv('input_new.csv', header=None, sep=' ').to_numpy()"
   ]
  },
  {
   "cell_type": "markdown",
   "metadata": {},
   "source": [
    "## Original Dataset"
   ]
  },
  {
   "cell_type": "code",
   "execution_count": 4,
   "metadata": {},
   "outputs": [
    {
     "data": {
      "text/plain": [
       "Text(0.5, 1.0, 'Original dataset')"
      ]
     },
     "execution_count": 4,
     "metadata": {},
     "output_type": "execute_result"
    },
    {
     "data": {
      "image/png": "[encoded data removed]",
      "text/plain": [
       "<Figure size 360x360 with 1 Axes>"
      ]
     },
     "metadata": {
      "needs_background": "light"
     },
     "output_type": "display_data"
    }
   ],
   "source": [
    "plt.figure(figsize=(5,5))\n",
    "plt.matshow(data, cmap=plt.cm.Blues, aspect=\"auto\", fignum=1)\n",
    "plt.title(\"Original dataset\")"
   ]
  },
  {
   "cell_type": "markdown",
   "metadata": {},
   "source": [
    "### Shuffle dataset"
   ]
  },
  {
   "cell_type": "code",
   "execution_count": null,
   "metadata": {},
   "outputs": [],
   "source": [
    "rng = np.random.RandomState(0)\n",
    "row_idx = rng.permutation(data.shape[0])\n",
    "col_idx = rng.permutation(data.shape[1])\n",
    "data = data[row_idx][:, col_idx]\n",
    "\n",
    "plt.figure(figsize=(10,10))\n",
    "plt.matshow(data, cmap=plt.cm.Blues, aspect=\"auto\",  fignum=1)\n",
    "plt.title(\"Shuffled dataset\")"
   ]
  },
  {
   "cell_type": "code",
   "execution_count": 5,
   "metadata": {},
   "outputs": [
    {
     "data": {
      "text/plain": [
       "SpectralCoclustering(n_clusters=6, random_state=0)"
      ]
     },
     "execution_count": 5,
     "metadata": {},
     "output_type": "execute_result"
    }
   ],
   "source": [
    "clustering = SpectralCoclustering(n_clusters=6, random_state=0)\n",
    "clustering.fit(data)"
   ]
  },
  {
   "cell_type": "code",
   "execution_count": null,
   "metadata": {},
   "outputs": [],
   "source": [
    "clustering.row_labels_"
   ]
  },
  {
   "cell_type": "code",
   "execution_count": null,
   "metadata": {},
   "outputs": [],
   "source": [
    "clustering.column_labels_"
   ]
  },
  {
   "cell_type": "code",
   "execution_count": null,
   "metadata": {},
   "outputs": [],
   "source": [
    "clustering"
   ]
  },
  {
   "cell_type": "code",
   "execution_count": null,
   "metadata": {},
   "outputs": [],
   "source": [
    "clustering.get_indices(3)"
   ]
  },
  {
   "cell_type": "code",
   "execution_count": null,
   "metadata": {
    "scrolled": true
   },
   "outputs": [],
   "source": [
    "clustering.get_params()"
   ]
  },
  {
   "cell_type": "code",
   "execution_count": null,
   "metadata": {},
   "outputs": [],
   "source": [
    "clustering.get_shape(3)[0]"
   ]
  },
  {
   "cell_type": "code",
   "execution_count": null,
   "metadata": {
    "scrolled": true
   },
   "outputs": [],
   "source": [
    "clustering.get_submatrix(2, data)"
   ]
  },
  {
   "cell_type": "code",
   "execution_count": 6,
   "metadata": {
    "scrolled": false
   },
   "outputs": [
    {
     "name": "stdout",
     "output_type": "stream",
     "text": [
      "Cluster: 1 -> (88075)\n",
      "Atributos:  SexF, SexM, Bebe, Crianca, Jovem, Conf_Jul, Conf_Ago, Sint_Jul, Sint_Ago, Evo_Rec, Hosp_N, Febre_N, Tosse_N, Garganta_N, Dispneia_N, Asma_N, DRespiratoria_N, DNeurologia_N, Diabetes_N, Imunodef_N, DRenal_N, DHepatica_N, DCardiaca_N, Obesidade_N, \n",
      "\n",
      "Cluster: 2 -> (8684)\n",
      "Atributos:  Conf_Set, Sint_Set, Evo_Aco, \n",
      "\n",
      "Cluster: 3 -> (13878)\n",
      "Atributos:  Conf_Mar, Conf_Abr, Conf_Mai, Conf_Jun, Sint_Mar, Sint_Abr, Sint_Mai, Sint_Jun, \n",
      "\n",
      "Cluster: 4 -> (7580)\n",
      "Atributos:  Idoso, Muito_idoso, Evo_Obito, Hosp_S, Dispneia_S, Asma_S, DNeurologia_S, Diabetes_S, Imunodef_S, DRenal_S, DHepatica_S, DCardiaca_S, Obesidade_S, \n",
      "\n",
      "Cluster: 5 -> (23080)\n",
      "Atributos:  Adulto, \n",
      "\n",
      "Cluster: 6 -> (19643)\n",
      "Atributos:  Febre_S, Tosse_S, Garganta_S, DRespiratoria_S, \n",
      "\n"
     ]
    }
   ],
   "source": [
    "for i in range(len(clustering.rows_)):\n",
    "    print(f'Cluster: {i+1} -> ({clustering.get_shape(i)[0]})')\n",
    "    print(\"Atributos: \", end=' ')\n",
    "    for e in clustering.get_indices(i)[1]:\n",
    "        print(document_names[int(e)], end=', ')\n",
    "    print('\\n')"
   ]
  },
  {
   "cell_type": "code",
   "execution_count": 7,
   "metadata": {},
   "outputs": [],
   "source": [
    "clusters = 6\n",
    "DhillonCocluster = SpectralCoclustering(n_clusters = clusters, random_state = 0)\n",
    "DhillonCocluster.fit(data)\n",
    "\n",
    "reconstructed_matrix = np.zeros(data.shape,dtype=int)\n",
    "for nc in range(clusters):\n",
    "    if len(DhillonCocluster.get_indices(nc)[0]) != 0 and len(DhillonCocluster.get_indices(nc)[1]) != 0:\n",
    "        for i in DhillonCocluster.get_indices(nc)[0]:#Indices of rows in the dataset that belong to the bicluster.\n",
    "            for j in DhillonCocluster.get_indices(nc)[1]:#Indices of columns in the dataset that belong to the bicluster.\n",
    "                reconstructed_matrix[i][j] = 1"
   ]
  },
  {
   "cell_type": "code",
   "execution_count": 8,
   "metadata": {
    "scrolled": true
   },
   "outputs": [
    {
     "data": {
      "text/plain": [
       "Text(0.5, 1.0, 'Dhillon output')"
      ]
     },
     "execution_count": 8,
     "metadata": {},
     "output_type": "execute_result"
    },
    {
     "data": {
      "image/png": "[encoded data removed]",
      "text/plain": [
       "<Figure size 360x360 with 1 Axes>"
      ]
     },
     "metadata": {
      "needs_background": "light"
     },
     "output_type": "display_data"
    }
   ],
   "source": [
    "plt.figure(figsize=(5,5))\n",
    "plt.matshow(reconstructed_matrix, cmap=plt.cm.Blues, aspect=\"auto\", fignum=1)\n",
    "plt.title(\"Dhillon output\")"
   ]
  },
  {
   "cell_type": "code",
   "execution_count": null,
   "metadata": {
    "scrolled": true
   },
   "outputs": [],
   "source": [
    "my_dict"
   ]
  },
  {
   "cell_type": "code",
   "execution_count": null,
   "metadata": {
    "scrolled": false
   },
   "outputs": [],
   "source": [
    "r = DhillonCocluster.rows_\n",
    "c = DhillonCocluster.columns_\n",
    "r"
   ]
  },
  {
   "cell_type": "code",
   "execution_count": null,
   "metadata": {},
   "outputs": [],
   "source": [
    "df_fimi = pd.read_csv(file, header=None, names=[\"transation\"])\n",
    "columnClusters,rowClusters = processDocument(df_fimi)\n",
    "del df_fimi"
   ]
  },
  {
   "cell_type": "code",
   "execution_count": null,
   "metadata": {},
   "outputs": [],
   "source": [
    "def processDocument(file):\n",
    "    #print(\"Executing processDocument() method.\")\n",
    "    size_df = file.shape\n",
    "    uniqueP = []\n",
    "    uniqueT = []\n",
    "    pois_per_cluster = []\n",
    "    trajs_per_cluster = []\n",
    "    change = 0\n",
    "    \n",
    "    for i in range(size_df[0]):#number of transations\n",
    "        transationString = file.transation[i].split(' ')\n",
    "#         print(transationString)\n",
    "        pois = []\n",
    "        trajs = []\n",
    "        for j in range(len(transationString)):\n",
    "            try:\n",
    "                tmp = int(transationString[j])\n",
    "            except:\n",
    "                tmp = ''\n",
    "            \n",
    "            if change == 0:\n",
    "                if type(tmp) is int:\n",
    "                    if transationString[j] not in uniqueP:\n",
    "                        uniqueP.append(transationString[j])\n",
    "#                         if not pois: # empty\n",
    "                    pois.append(transationString[j])\n",
    "#                         print(transationString[j],end=\"|\")\n",
    "                else:\n",
    "    #                 print(\"NO\",end=\" | \")\n",
    "                    change = 1\n",
    "#                     print(\"\")\n",
    "            else:\n",
    "                if type(tmp) is int:\n",
    "                    if transationString[j] not in uniqueT:\n",
    "                        uniqueT.append(transationString[j])\n",
    "                    trajs.append(transationString[j])\n",
    "                else:\n",
    "    #                 print(\"NO\",end=\" | \")\n",
    "                    if change == 1:\n",
    "                        change = 2\n",
    "                        tmp = re.split('\\[| |\\]',transationString[j])\n",
    "                        #print(\"1-tmp:\"+str(tmp))\n",
    "                        if tmp[1] not in uniqueT:\n",
    "                            uniqueT.append(tmp[1])\n",
    "                        trajs.append(tmp[1])\n",
    "                    else:\n",
    "                        tmp = re.split('\\[| |\\]',transationString[j])\n",
    "                        #print(\"2-tmp:\"+str(tmp))\n",
    "                        if tmp[0] not in uniqueT:\n",
    "                            uniqueT.append(tmp[0])\n",
    "                        trajs.append(tmp[0])\n",
    "                        change = 0\n",
    "        pois_per_cluster.append(pois)\n",
    "        trajs_per_cluster.append(trajs)\n",
    "\n",
    "#     print('Number of unique elements: ',len(uniqueElements))\n",
    "#     print(\"P per Clusters: \"+str(pois_per_cluster))\n",
    "#     print(\"T per Clusters: \"+str(trajs_per_cluster))\n",
    "    return pois_per_cluster,trajs_per_cluster"
   ]
  },
  {
   "cell_type": "code",
   "execution_count": null,
   "metadata": {},
   "outputs": [],
   "source": [
    "def check_result(columnClusters,rowClusters):\n",
    "    nc = len(columnClusters)\n",
    "    for i in range(nc):\n",
    "        num_objects = len(set(rowClusters[i]))\n",
    "        print(\"Cluster-\"+str(i+1)+\" (\"+str(num_objects)+\")\")\n",
    "        print(\"Atributos: \",end=\"\")\n",
    "        for ele in columnClusters[i]:\n",
    "            print(my_dict[int(ele)],end=\", \")\n",
    "\n",
    "#         print(\"\\nSobreposição de OBJETOS em outros clusters.\")\n",
    "#         for j in range(nc):\n",
    "#             if i != j:\n",
    "#                 print(\"    Cluster \"+str(j+1)+\": \",end=\"\")\n",
    "# #                 clusB = len(set(rowClusters[i]))\n",
    "#                 qtd_intersect = len(set(rowClusters[j]).intersection(set(rowClusters[i])))\n",
    "# #                 overlap = ((num_objects-(num_objects-qtd_intersect))/len(set(rowClusters[i]).union(set(rowClusters[j]))))*100\n",
    "#                 overlap = ((num_objects-(num_objects-qtd_intersect))/num_objects)*100\n",
    "# #                 overlap = ((cluSize-(cluSize-qtd_intersect)))*100\n",
    "#                 print(\"{0:.2f}% ({1:d})\".format(overlap,qtd_intersect))\n",
    "#         print(\"\\n\")\n",
    "    "
   ]
  },
  {
   "cell_type": "code",
   "execution_count": null,
   "metadata": {},
   "outputs": [],
   "source": [
    "columnClusters,rowClusters = processDocument(data)"
   ]
  },
  {
   "cell_type": "code",
   "execution_count": null,
   "metadata": {},
   "outputs": [],
   "source": [
    "check_result(columnClusters, rowClusters)"
   ]
  },
  {
   "cell_type": "code",
   "execution_count": null,
   "metadata": {},
   "outputs": [],
   "source": []
  },
  {
   "cell_type": "code",
   "execution_count": null,
   "metadata": {},
   "outputs": [],
   "source": []
  },
  {
   "cell_type": "code",
   "execution_count": null,
   "metadata": {},
   "outputs": [],
   "source": []
  },
  {
   "cell_type": "code",
   "execution_count": null,
   "metadata": {},
   "outputs": [],
   "source": []
  },
  {
   "cell_type": "code",
   "execution_count": null,
   "metadata": {},
   "outputs": [],
   "source": []
  },
  {
   "cell_type": "code",
   "execution_count": null,
   "metadata": {},
   "outputs": [],
   "source": [
    "def bicluster_ncut(i):\n",
    "    rows, cols = DhillonCocluster.get_indices(i)\n",
    "    if not (np.any(rows) and np.any(cols)):\n",
    "        import sys\n",
    "        return sys.float_info.max\n",
    "    row_complement = np.nonzero(np.logical_not(DhillonCocluster.rows_[i]))[0]\n",
    "    col_complement = np.nonzero(np.logical_not(DhillonCocluster.columns_[i]))[0]\n",
    "    \n",
    "    weight = data[rows][:, cols].sum()\n",
    "    cut = (data[row_complement][:, cols].sum() +\n",
    "           data[rows][:, col_complement].sum())\n",
    "    return cut / weight\n",
    "\n",
    "bicluster_ncuts = list(reconstructed_matrix\n",
    "                       for i in range(len(my_dict)))\n",
    "best_idx = np.argsort(bicluster_ncuts)[:6]\n",
    "\n",
    "def most_common(d):\n",
    "    \"\"\"Items of a defaultdict(int) with the highest values.\n",
    "\n",
    "    Like Counter.most_common in Python >=2.7.\n",
    "    \"\"\"\n",
    "    return sorted(d.items(), key=operator.itemgetter(1), reverse=True)\n"
   ]
  },
  {
   "cell_type": "code",
   "execution_count": null,
   "metadata": {},
   "outputs": [],
   "source": [
    "len(my_dict)"
   ]
  },
  {
   "cell_type": "code",
   "execution_count": null,
   "metadata": {},
   "outputs": [],
   "source": [
    "from collections import defaultdict\n",
    "\n",
    "print(\"Best biclusters:\")\n",
    "print(\"----------------\")\n",
    "for idx, cluster in enumerate(best_idx):\n",
    "    n_rows, n_cols = DhillonCocluster.get_shape(cluster)\n",
    "    cluster_docs = DhillonCocluster.get_indices(cluster)\n",
    "    if not len(cluster_docs):\n",
    "        continue\n",
    "\n",
    "    # categories\n",
    "    counter = defaultdict(int)\n",
    "    for i in cluster_docs:\n",
    "        counter[document_names[i]] += 1\n",
    "    cat_string = \", \".join(\"{:.0f}% {}\".format(float(c) / n_rows * 100, name)\n",
    "                           for name, c in most_common(counter)[:3])\n",
    "    print(\"bicluster {} : {} documents, {} words\".format(\n",
    "        idx, n_rows, n_cols))\n",
    "    print(\"categories   : {}\".format(cat_string))"
   ]
  },
  {
   "cell_type": "code",
   "execution_count": null,
   "metadata": {},
   "outputs": [],
   "source": []
  }
 ],
 "metadata": {
  "kernelspec": {
   "display_name": "Python 3.8.1 64-bit",
   "language": "python",
   "name": "python38164bit1a47b14ccaa04f8588568034af662766"
  },
  "language_info": {
   "codemirror_mode": {
    "name": "ipython",
    "version": 3
   },
   "file_extension": ".py",
   "mimetype": "text/x-python",
   "name": "python",
   "nbconvert_exporter": "python",
   "pygments_lexer": "ipython3",
   "version": "3.8.1"
  }
 },
 "nbformat": 4,
 "nbformat_minor": 4
}
