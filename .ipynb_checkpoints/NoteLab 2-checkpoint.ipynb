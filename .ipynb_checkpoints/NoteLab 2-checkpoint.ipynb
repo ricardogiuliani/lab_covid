{
 "cells": [
  {
   "cell_type": "code",
   "execution_count": 1,
   "metadata": {},
   "outputs": [
    {
     "name": "stdout",
     "output_type": "stream",
     "text": [
      "importing Jupyter notebook from covid_dict.ipynb\n"
     ]
    }
   ],
   "source": [
    "import requests\n",
    "import pandas as pd\n",
    "import numpy as np\n",
    "from datetime import date\n",
    "import import_ipynb\n",
    "import covid_dict as cd\n",
    "from multiprocessing import Pool"
   ]
  },
  {
   "cell_type": "markdown",
   "metadata": {},
   "source": [
    "1) [Remover colunas dos atributos desconsiderados](#remove_column)  \n",
    "2) [Arrumando os dados](#data_fix)  \n",
    "3) [Gerando a matrix binária](#binary_matrix)  \n",
    "4) [PaNDa](#panda)\n",
    "\n",
    "[Dicionário de dados](covid_dict.ipynb)"
   ]
  },
  {
   "cell_type": "code",
   "execution_count": null,
   "metadata": {},
   "outputs": [],
   "source": [
    "# csv_url = \"https://ti.saude.rs.gov.br/covid19/download\"\n",
    "# today = date.today()\n",
    "# dataset = f'dataset-{today}.csv'\n",
    "\n",
    "# req = requests.get(csv_url)\n",
    "# url_content = req.content\n",
    "# csv_file = open(dataset, 'wb')\n",
    "\n",
    "# csv_file.write(url_content)\n",
    "# csv_file.close()"
   ]
  },
  {
   "cell_type": "code",
   "execution_count": 2,
   "metadata": {
    "scrolled": true
   },
   "outputs": [
    {
     "data": {
      "text/html": [
       "<div>\n",
       "<style scoped>\n",
       "    .dataframe tbody tr th:only-of-type {\n",
       "        vertical-align: middle;\n",
       "    }\n",
       "\n",
       "    .dataframe tbody tr th {\n",
       "        vertical-align: top;\n",
       "    }\n",
       "\n",
       "    .dataframe thead th {\n",
       "        text-align: right;\n",
       "    }\n",
       "</style>\n",
       "<table border=\"1\" class=\"dataframe\">\n",
       "  <thead>\n",
       "    <tr style=\"text-align: right;\">\n",
       "      <th></th>\n",
       "      <th>COD_IBGE</th>\n",
       "      <th>MUNICIPIO</th>\n",
       "      <th>COD_REGIAO_COVID</th>\n",
       "      <th>REGIAO_COVID</th>\n",
       "      <th>SEXO</th>\n",
       "      <th>FAIXAETARIA</th>\n",
       "      <th>CRITERIO</th>\n",
       "      <th>DATA_CONFIRMACAO</th>\n",
       "      <th>DATA_SINTOMAS</th>\n",
       "      <th>DATA_EVOLUCAO</th>\n",
       "      <th>...</th>\n",
       "      <th>DATA_INCLUSAO_OBITO</th>\n",
       "      <th>DATA_EVOLUCAO_ESTIMADA</th>\n",
       "      <th>RACA_COR</th>\n",
       "      <th>ETNIA_INDIGENA</th>\n",
       "      <th>PROFISSIONAL_SAUDE</th>\n",
       "      <th>BAIRRO</th>\n",
       "      <th>HOSPITALIZACAO_SRAG</th>\n",
       "      <th>FONTE_INFORMACAO</th>\n",
       "      <th>PAIS_NASCIMENTO</th>\n",
       "      <th>PES_PRIV_LIBERDADE</th>\n",
       "    </tr>\n",
       "  </thead>\n",
       "  <tbody>\n",
       "    <tr>\n",
       "      <th>0</th>\n",
       "      <td>430003</td>\n",
       "      <td>ACEGUÁ</td>\n",
       "      <td>16</td>\n",
       "      <td>BAGE - R22</td>\n",
       "      <td>Feminino</td>\n",
       "      <td>20 a 29</td>\n",
       "      <td>RT-PCR</td>\n",
       "      <td>11/09/2020</td>\n",
       "      <td>08/09/2020</td>\n",
       "      <td>NaN</td>\n",
       "      <td>...</td>\n",
       "      <td>NaN</td>\n",
       "      <td>22/09/2020</td>\n",
       "      <td>NAO INFORMADO</td>\n",
       "      <td>NAO ENCONTRADO</td>\n",
       "      <td>NAO INFORMADO</td>\n",
       "      <td>NaN</td>\n",
       "      <td>NAO</td>\n",
       "      <td>E-SUS</td>\n",
       "      <td>BRASIL</td>\n",
       "      <td>NAO</td>\n",
       "    </tr>\n",
       "    <tr>\n",
       "      <th>1</th>\n",
       "      <td>430003</td>\n",
       "      <td>ACEGUÁ</td>\n",
       "      <td>16</td>\n",
       "      <td>BAGE - R22</td>\n",
       "      <td>Feminino</td>\n",
       "      <td>50 a 59</td>\n",
       "      <td>TESTE RÁPIDO</td>\n",
       "      <td>19/10/2020</td>\n",
       "      <td>05/10/2020</td>\n",
       "      <td>NaN</td>\n",
       "      <td>...</td>\n",
       "      <td>NaN</td>\n",
       "      <td>19/10/2020</td>\n",
       "      <td>BRANCA</td>\n",
       "      <td>NAO ENCONTRADO</td>\n",
       "      <td>NAO</td>\n",
       "      <td>ZONA RURAL</td>\n",
       "      <td>NAO</td>\n",
       "      <td>E-SUS</td>\n",
       "      <td>BRASIL</td>\n",
       "      <td>NAO</td>\n",
       "    </tr>\n",
       "    <tr>\n",
       "      <th>2</th>\n",
       "      <td>430003</td>\n",
       "      <td>ACEGUÁ</td>\n",
       "      <td>16</td>\n",
       "      <td>BAGE - R22</td>\n",
       "      <td>Masculino</td>\n",
       "      <td>15 a 19</td>\n",
       "      <td>RT-PCR</td>\n",
       "      <td>06/10/2020</td>\n",
       "      <td>06/10/2020</td>\n",
       "      <td>NaN</td>\n",
       "      <td>...</td>\n",
       "      <td>NaN</td>\n",
       "      <td>20/10/2020</td>\n",
       "      <td>BRANCA</td>\n",
       "      <td>NAO ENCONTRADO</td>\n",
       "      <td>NAO</td>\n",
       "      <td>ZONA RURAL</td>\n",
       "      <td>NAO</td>\n",
       "      <td>E-SUS</td>\n",
       "      <td>BRASIL</td>\n",
       "      <td>NAO</td>\n",
       "    </tr>\n",
       "    <tr>\n",
       "      <th>3</th>\n",
       "      <td>430003</td>\n",
       "      <td>ACEGUÁ</td>\n",
       "      <td>16</td>\n",
       "      <td>BAGE - R22</td>\n",
       "      <td>Feminino</td>\n",
       "      <td>40 a 49</td>\n",
       "      <td>RT-PCR</td>\n",
       "      <td>05/10/2020</td>\n",
       "      <td>29/09/2020</td>\n",
       "      <td>NaN</td>\n",
       "      <td>...</td>\n",
       "      <td>NaN</td>\n",
       "      <td>13/10/2020</td>\n",
       "      <td>BRANCA</td>\n",
       "      <td>NAO ENCONTRADO</td>\n",
       "      <td>NAO</td>\n",
       "      <td>ZONA RURAL</td>\n",
       "      <td>NAO</td>\n",
       "      <td>E-SUS</td>\n",
       "      <td>BRASIL</td>\n",
       "      <td>NAO</td>\n",
       "    </tr>\n",
       "    <tr>\n",
       "      <th>4</th>\n",
       "      <td>430005</td>\n",
       "      <td>ÁGUA SANTA</td>\n",
       "      <td>14</td>\n",
       "      <td>PASSO FUNDO - R17 R18 R19</td>\n",
       "      <td>Feminino</td>\n",
       "      <td>30 a 39</td>\n",
       "      <td>TESTE RÁPIDO</td>\n",
       "      <td>30/07/2020</td>\n",
       "      <td>26/07/2020</td>\n",
       "      <td>NaN</td>\n",
       "      <td>...</td>\n",
       "      <td>NaN</td>\n",
       "      <td>09/08/2020</td>\n",
       "      <td>BRANCA</td>\n",
       "      <td>NAO ENCONTRADO</td>\n",
       "      <td>NAO</td>\n",
       "      <td>CENTRO</td>\n",
       "      <td>NAO</td>\n",
       "      <td>E-SUS</td>\n",
       "      <td>BRASIL</td>\n",
       "      <td>NAO</td>\n",
       "    </tr>\n",
       "  </tbody>\n",
       "</table>\n",
       "<p>5 rows × 29 columns</p>\n",
       "</div>"
      ],
      "text/plain": [
       "   COD_IBGE   MUNICIPIO  COD_REGIAO_COVID               REGIAO_COVID  \\\n",
       "0    430003      ACEGUÁ                16                 BAGE - R22   \n",
       "1    430003      ACEGUÁ                16                 BAGE - R22   \n",
       "2    430003      ACEGUÁ                16                 BAGE - R22   \n",
       "3    430003      ACEGUÁ                16                 BAGE - R22   \n",
       "4    430005  ÁGUA SANTA                14  PASSO FUNDO - R17 R18 R19   \n",
       "\n",
       "        SEXO FAIXAETARIA      CRITERIO DATA_CONFIRMACAO DATA_SINTOMAS  \\\n",
       "0   Feminino     20 a 29        RT-PCR       11/09/2020    08/09/2020   \n",
       "1   Feminino     50 a 59  TESTE RÁPIDO       19/10/2020    05/10/2020   \n",
       "2  Masculino     15 a 19        RT-PCR       06/10/2020    06/10/2020   \n",
       "3   Feminino     40 a 49        RT-PCR       05/10/2020    29/09/2020   \n",
       "4   Feminino     30 a 39  TESTE RÁPIDO       30/07/2020    26/07/2020   \n",
       "\n",
       "  DATA_EVOLUCAO  ... DATA_INCLUSAO_OBITO DATA_EVOLUCAO_ESTIMADA  \\\n",
       "0           NaN  ...                 NaN             22/09/2020   \n",
       "1           NaN  ...                 NaN             19/10/2020   \n",
       "2           NaN  ...                 NaN             20/10/2020   \n",
       "3           NaN  ...                 NaN             13/10/2020   \n",
       "4           NaN  ...                 NaN             09/08/2020   \n",
       "\n",
       "        RACA_COR  ETNIA_INDIGENA PROFISSIONAL_SAUDE      BAIRRO  \\\n",
       "0  NAO INFORMADO  NAO ENCONTRADO      NAO INFORMADO         NaN   \n",
       "1         BRANCA  NAO ENCONTRADO                NAO  ZONA RURAL   \n",
       "2         BRANCA  NAO ENCONTRADO                NAO  ZONA RURAL   \n",
       "3         BRANCA  NAO ENCONTRADO                NAO  ZONA RURAL   \n",
       "4         BRANCA  NAO ENCONTRADO                NAO      CENTRO   \n",
       "\n",
       "  HOSPITALIZACAO_SRAG FONTE_INFORMACAO PAIS_NASCIMENTO PES_PRIV_LIBERDADE  \n",
       "0                 NAO            E-SUS          BRASIL                NAO  \n",
       "1                 NAO            E-SUS          BRASIL                NAO  \n",
       "2                 NAO            E-SUS          BRASIL                NAO  \n",
       "3                 NAO            E-SUS          BRASIL                NAO  \n",
       "4                 NAO            E-SUS          BRASIL                NAO  \n",
       "\n",
       "[5 rows x 29 columns]"
      ]
     },
     "execution_count": 2,
     "metadata": {},
     "output_type": "execute_result"
    }
   ],
   "source": [
    "df = pd.read_csv('20201030.csv', sep=';', nrows=1000)\n",
    "df.head()"
   ]
  },
  {
   "cell_type": "markdown",
   "metadata": {},
   "source": [
    "Atributos desconsiderados:\n",
    "* COD_IBGE\n",
    "* COD_REGIAO_COVID\n",
    "* REGIAO_COVID\n",
    "* DATA_SINTOMAS\n",
    "* DATA_EVOLUCAO\n",
    "* DATA_INCLUSAO_OBITO\n",
    "* DATA_EVOLUCAO_ESTIMADA\n",
    "* ETNIA_INDIGENA\n",
    "* FONTE_INFORMACAO\n",
    "* PAIS_NASCIMENTO\n",
    "* BAIRRO\n",
    "\n",
    "#### 1) Remover colunas dos atributos desconsiderados <a name=\"remove_column\"></a>"
   ]
  },
  {
   "cell_type": "code",
   "execution_count": 3,
   "metadata": {},
   "outputs": [],
   "source": [
    "for e in cd.attr_removed:\n",
    "    del df[e]"
   ]
  },
  {
   "cell_type": "markdown",
   "metadata": {},
   "source": [
    "#### 2) Removendo registros EVOLUCAO == 'EM ACOMPANHAMENTO'"
   ]
  },
  {
   "cell_type": "code",
   "execution_count": 4,
   "metadata": {},
   "outputs": [],
   "source": [
    "df = df[~df.eq('EM ACOMPANHAMENTO').any(axis=1)]"
   ]
  },
  {
   "cell_type": "markdown",
   "metadata": {},
   "source": [
    "#### 3) Arrumando os dados - FAIXAETARIA, DATA_CONFIRMACAO, CONDICOES, BAIRRO <a name=\"data_fix\"></a>\n",
    "\n",
    "Faixa Etária\n",
    "* < 1: Bebê\n",
    "* (01,09): Criança\n",
    "* (10, 19): Jovem\n",
    "* (20, 59): Adulto\n",
    "* (60, 79): Idoso 1\n",
    "* (80 +): Idoso 2\n",
    "       "
   ]
  },
  {
   "cell_type": "code",
   "execution_count": 5,
   "metadata": {
    "scrolled": true
   },
   "outputs": [],
   "source": [
    "for index, row in df.iterrows():\n",
    "    if row['FAIXAETARIA'] == '<1':\n",
    "        row['FAIXAETARIA'] = 'Bebê'\n",
    "    elif row['FAIXAETARIA'] == '01 a 04' or row['FAIXAETARIA'] == '05 a 09':\n",
    "        row['FAIXAETARIA'] = 'Criança'\n",
    "    elif row['FAIXAETARIA'] == '10 a 14' or row['FAIXAETARIA'] == '15 a 19':\n",
    "        row['FAIXAETARIA'] = 'Jovem'\n",
    "    elif row['FAIXAETARIA'] == '20 a 29' or row['FAIXAETARIA'] == '30 a 39' or row['FAIXAETARIA'] == '40 a 49' or row['FAIXAETARIA'] == '50 a 59':\n",
    "        row['FAIXAETARIA'] = 'Adulto'\n",
    "    elif row['FAIXAETARIA'] == '60 a 69' or row['FAIXAETARIA'] == '70 a 79':\n",
    "        row['FAIXAETARIA'] = 'Idoso_1'\n",
    "    else:\n",
    "        row['FAIXAETARIA'] = 'Idoso_2'"
   ]
  },
  {
   "cell_type": "markdown",
   "metadata": {},
   "source": [
    "Data de Confirmação"
   ]
  },
  {
   "cell_type": "code",
   "execution_count": 6,
   "metadata": {
    "scrolled": false
   },
   "outputs": [],
   "source": [
    "for index, row in df.iterrows():\n",
    "    mes = row['DATA_CONFIRMACAO'].split('/')\n",
    "    if mes[1] == '02':\n",
    "        row['DATA_CONFIRMACAO'] = 'Fevereiro'\n",
    "    elif mes[1] == '03':\n",
    "        row['DATA_CONFIRMACAO'] = 'Março'\n",
    "    elif mes[1] == '04':\n",
    "        row['DATA_CONFIRMACAO'] = 'Abril'\n",
    "    elif mes[1] == '05':\n",
    "        row['DATA_CONFIRMACAO'] = 'Maio'    \n",
    "    elif mes[1] == '06':\n",
    "        row['DATA_CONFIRMACAO'] = 'Junho'\n",
    "    elif mes[1] == '07':\n",
    "        row['DATA_CONFIRMACAO'] = 'Julho'\n",
    "    elif mes[1] == '08':\n",
    "        row['DATA_CONFIRMACAO'] = 'Agosto'\n",
    "    elif mes[1] == '09':\n",
    "        row['DATA_CONFIRMACAO'] = 'Setembro'\n",
    "    else:\n",
    "        row['DATA_CONFIRMACAO'] = 'Outubro'"
   ]
  },
  {
   "cell_type": "markdown",
   "metadata": {},
   "source": [
    "Condições (Comorbidades)"
   ]
  },
  {
   "cell_type": "code",
   "execution_count": 7,
   "metadata": {
    "scrolled": true
   },
   "outputs": [],
   "source": [
    "for e in cd.comorbidades:\n",
    "    df[e] = str(np.nan)\n",
    "    \n",
    "for index, row in df.iterrows():\n",
    "    if 'asma' in str(row['CONDICOES']).lower():\n",
    "        row['asma'] = 1\n",
    "    else:\n",
    "        row['asma'] = 0\n",
    "    if 'respirató' in str(row['CONDICOES']).lower():\n",
    "        row['d_respiratoria'] = 1\n",
    "    else:\n",
    "        row['d_respiratoria'] = 0\n",
    "    if 'outro' in str(row['CONDICOES']).lower():\n",
    "        row['outras_comorbidades'] = 1\n",
    "    else:\n",
    "        row['outras_comorbidades'] = 0\n",
    "    if 'outro' in str(row['CONDICOES']).lower():\n",
    "        row['outras_comorbidades'] = 1\n",
    "    else:\n",
    "        row['outras_comorbidades'] = 0\n",
    "    if 'cromossômicas' in str(row['CONDICOES']).lower():\n",
    "        row['d_cromossomica'] = 1\n",
    "    else:\n",
    "        row['d_cromossomica'] = 0\n",
    "    if 'neuro' in str(row['CONDICOES']).lower():\n",
    "        row['d_neurologica'] = 1\n",
    "    else:\n",
    "        row['d_neurologica'] = 0\n",
    "    if 'diabe' in str(row['CONDICOES']).lower():\n",
    "        row['diabetes'] = 1\n",
    "    else:\n",
    "        row['diabetes'] = 0\n",
    "    if 'imuno' in str(row['CONDICOES']).lower():\n",
    "        row['imunodeficiencia'] = 1\n",
    "    else:\n",
    "        row['imunodeficiencia'] = 0\n",
    "    if 'rena' in str(row['CONDICOES']).lower():\n",
    "        row['d_renal'] = 1\n",
    "    else:\n",
    "        row['d_renal'] = 0\n",
    "    if 'hepát' in str(row['CONDICOES']).lower():\n",
    "        row['d_hepatica'] = 1\n",
    "    else:\n",
    "        row['d_hepatica'] = 0\n",
    "    if 'hemato' in str(row['CONDICOES']).lower():\n",
    "        row['d_hematologica'] = 1\n",
    "    else:\n",
    "        row['d_hematologica'] = 0\n",
    "    if 'card' in str(row['CONDICOES']).lower():\n",
    "        row['d_cardiaca'] = 1\n",
    "    else:\n",
    "        row['d_cardiaca'] = 0\n",
    "    if 'obes' in str(row['CONDICOES']).lower():\n",
    "        row['obesidade'] = 1\n",
    "    else:\n",
    "        row['obesidade'] = 0\n",
    "    if 'down' in str(row['CONDICOES']).lower():\n",
    "        row['sindrome_down'] = 1\n",
    "    else:\n",
    "        row['sindrome_down'] = 0\n",
    "del df['CONDICOES']"
   ]
  },
  {
   "cell_type": "markdown",
   "metadata": {},
   "source": [
    "### Gerando a matrix binária <a name=\"binary_matrix\"></a>"
   ]
  },
  {
   "cell_type": "code",
   "execution_count": 10,
   "metadata": {},
   "outputs": [],
   "source": [
    "for e in cd.municipio:\n",
    "    df[e] = df.apply(lambda row: 1 if row.MUNICIPIO == e else 0, axis=1)\n",
    "    \n",
    "# for e in cd.regiao_covid:\n",
    "#     df[e] = df.apply(lambda row: 1 if row.REGIAO_COVID == e else 0, axis=1)\n",
    "    \n",
    "for e in cd.faixa_etaria:\n",
    "    df[e] = df.apply(lambda row: 1 if row.FAIXAETARIA == e else 0, axis=1)\n",
    "    \n",
    "for e in cd.testagem: \n",
    "    df[e] = df.apply(lambda row: 1 if row.CRITERIO == e else 0, axis=1)\n",
    "\n",
    "for e in cd.meses:\n",
    "    df[e] = df.apply(lambda row: 1 if row.DATA_CONFIRMACAO == e else 0, axis=1)\n",
    "    \n",
    "for e in cd.evolucao:\n",
    "    df[e] = df.apply(lambda row: 1 if row.EVOLUCAO == e else 0, axis=1)\n",
    "    \n",
    "for e in cd.etnia:\n",
    "    df[e] = df.apply(lambda row: 1 if row.RACA_COR == e else 0, axis=1)\n",
    "\n",
    "# for e in cd.bairro:\n",
    "#     df[e] = df.apply(lambda row: 1 if row.BAIRRO == e else 0, axis=1)"
   ]
  },
  {
   "cell_type": "code",
   "execution_count": 11,
   "metadata": {},
   "outputs": [],
   "source": [
    "df['SexF'] = df.apply(lambda row: 1 if row.SEXO == 'Feminino' else 0, axis=1)\n",
    "df['SexM'] = df.apply(lambda row: 1 if row.SEXO == 'Masculino' else 0, axis=1)\n",
    "df['Hospitalizado'] = df.apply(lambda row: 1 if row.HOSPITALIZADO == 'SIM' else 0, axis=1)\n",
    "df['Hosp_SRAG'] = df.apply(lambda row: 1 if row.HOSPITALIZACAO_SRAG == 'SIM' else 0, axis=1)\n",
    "df['Prof_Saude'] = df.apply(lambda row: 1 if row.PROFISSIONAL_SAUDE == 'SIM' else 0, axis=1)\n",
    "df['Febre'] = df.apply(lambda row: 1 if row.FEBRE == 'SIM' else 0, axis=1)\n",
    "df['Tosse'] = df.apply(lambda row: 1 if row.TOSSE == 'SIM' else 0, axis=1)\n",
    "df['Garganta'] = df.apply(lambda row: 1 if row.GARGANTA == 'SIM' else 0, axis=1)\n",
    "df['Dispneia'] = df.apply(lambda row: 1 if row.DISPNEIA == 'SIM' else 0, axis=1)\n",
    "df['Outros_Sint'] = df.apply(lambda row: 1 if row.OUTROS == 'SIM' else 0, axis=1)\n",
    "df['Gestante'] = df.apply(lambda row: 1 if row.GESTANTE == 'SIM' else 0, axis=1)\n",
    "df['Presidiario'] = df.apply(lambda row: 1 if row.PES_PRIV_LIBERDADE == 'SIM' else 0, axis=1)\n",
    "# df['Asma'] = df.apply(lambda row: 1 if row.asma == 'SIM' else 0, axis=1)\n",
    "# df['DRespiratoria'] = df.apply(lambda row: 1 if row.d_respiratoria == 'SIM' else 0, axis=1)\n",
    "# df['DNeurologica'] = df.apply(lambda row: 1 if row.d_neurologica == 'SIM' else 0, axis=1)\n",
    "# df['Diabetes'] = df.apply(lambda row: 1 if row.diabetes == 'SIM' else 0, axis=1)\n",
    "# df['Imunodef'] = df.apply(lambda row: 1 if row.imunodeficiencia == 'SIM' else 0, axis=1)\n",
    "# df['DRenal'] = df.apply(lambda row: 1 if row.d_renal == 'SIM' else 0, axis=1)\n",
    "# df['DHepatica'] = df.apply(lambda row: 1 if row.d_hepatica == 'SIM' else 0, axis=1)\n",
    "# df['DCardiaca'] = df.apply(lambda row: 1 if row.d_cardiaca == 'SIM' else 0, axis=1)\n",
    "# df['Obesidade'] = df.apply(lambda row: 1 if row.obesidade == 'SIM' else 0, axis=1)\n",
    "# df['Outras_Comorbidades'] = df.apply(lambda row: 1 if row.outras_comorbidades == 'SIM' else 0, axis=1)\n",
    "# df['DCromossomica'] = df.apply(lambda row: 1 if row.d_cromossomica == 'SIM' else 0, axis=1)\n",
    "# df['DHematologica'] = df.apply(lambda row: 1 if row.d_hematologica == 'SIM' else 0, axis=1)\n",
    "# df['Sindrome_down'] = df.apply(lambda row: 1 if row.sindrome_down == 'SIM' else 0, axis=1)"
   ]
  },
  {
   "cell_type": "code",
   "execution_count": 12,
   "metadata": {
    "scrolled": true
   },
   "outputs": [],
   "source": [
    "for e in cd.old_columns:\n",
    "    del df[e]"
   ]
  },
  {
   "cell_type": "code",
   "execution_count": null,
   "metadata": {},
   "outputs": [],
   "source": [
    "# df.to_csv(\"binary_matrix.csv\", header=None, index=False)"
   ]
  },
  {
   "cell_type": "code",
   "execution_count": null,
   "metadata": {},
   "outputs": [],
   "source": [
    "nome_atributos = df.columns.values.tolist()\n",
    "df_dict = {i : nome_atributos[i] for i in range(0, len(nome_atributos))}"
   ]
  },
  {
   "cell_type": "markdown",
   "metadata": {},
   "source": [
    "### PaNDa<a name=\"panda\"></a>"
   ]
  },
  {
   "cell_type": "code",
   "execution_count": null,
   "metadata": {},
   "outputs": [],
   "source": [
    "for col,row in df.iteritems():\n",
    "    df.loc[df[col] == 0, col] = 0\n",
    "    df.loc[df[col] == 1, col] = int(df.columns.get_loc(col))"
   ]
  },
  {
   "cell_type": "code",
   "execution_count": null,
   "metadata": {},
   "outputs": [],
   "source": [
    "panda = df.to_numpy()"
   ]
  },
  {
   "cell_type": "code",
   "execution_count": null,
   "metadata": {},
   "outputs": [],
   "source": [
    "res = [[ele for ele in sub if ele != 0] for sub in panda]"
   ]
  },
  {
   "cell_type": "code",
   "execution_count": null,
   "metadata": {
    "scrolled": false
   },
   "outputs": [],
   "source": [
    "pd.DataFrame(res).to_csv(\"panda.csv\", header=None, index=False, sep =\" \")"
   ]
  },
  {
   "cell_type": "code",
   "execution_count": null,
   "metadata": {},
   "outputs": [],
   "source": []
  },
  {
   "cell_type": "code",
   "execution_count": null,
   "metadata": {},
   "outputs": [],
   "source": [
    "def process_df(df):\n",
    "    \n",
    "    df['SexF'] = df.apply(lambda row: 1 if row.SEXO == 'Feminino' else 0, axis=1)\n",
    "    df['SexM'] = df.apply(lambda row: 1 if row.SEXO == 'Masculino' else 0, axis=1)\n",
    "    df['Hospitalizado'] = df.apply(lambda row: 1 if row.HOSPITALIZADO == 'SIM' else 0, axis=1)\n",
    "    df['Hosp_SRAG'] = df.apply(lambda row: 1 if row.HOSPITALIZACAO_SRAG == 'SIM' else 0, axis=1)\n",
    "    df['Prof_Saude'] = df.apply(lambda row: 1 if row.PROFISSIONAL_SAUDE == 'SIM' else 0, axis=1)\n",
    "    df['Febre'] = df.apply(lambda row: 1 if row.FEBRE == 'SIM' else 0, axis=1)\n",
    "    df['Tosse'] = df.apply(lambda row: 1 if row.TOSSE == 'SIM' else 0, axis=1)\n",
    "    df['Garganta'] = df.apply(lambda row: 1 if row.GARGANTA == 'SIM' else 0, axis=1)\n",
    "    df['Dispneia'] = df.apply(lambda row: 1 if row.DISPNEIA == 'SIM' else 0, axis=1)\n",
    "    df['Outros_Sint'] = df.apply(lambda row: 1 if row.OUTROS == 'SIM' else 0, axis=1)\n",
    "    df['Gestante'] = df.apply(lambda row: 1 if row.GESTANTE == 'SIM' else 0, axis=1)\n",
    "    df['Presidiario'] = df.apply(lambda row: 1 if row.PES_PRIV_LIBERDADE == 'SIM' else 0, axis=1)\n",
    "\n",
    "    return df"
   ]
  },
  {
   "cell_type": "code",
   "execution_count": null,
   "metadata": {},
   "outputs": [],
   "source": []
  }
 ],
 "metadata": {
  "kernelspec": {
   "display_name": "Python 3.8.1 64-bit",
   "language": "python",
   "name": "python38164bit1a47b14ccaa04f8588568034af662766"
  },
  "language_info": {
   "codemirror_mode": {
    "name": "ipython",
    "version": 3
   },
   "file_extension": ".py",
   "mimetype": "text/x-python",
   "name": "python",
   "nbconvert_exporter": "python",
   "pygments_lexer": "ipython3",
   "version": "3.8.1"
  }
 },
 "nbformat": 4,
 "nbformat_minor": 4
}
