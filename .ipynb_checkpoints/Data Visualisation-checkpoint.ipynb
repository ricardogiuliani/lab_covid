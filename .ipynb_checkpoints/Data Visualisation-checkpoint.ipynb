{
 "cells": [
  {
   "cell_type": "code",
   "execution_count": 1,
   "metadata": {},
   "outputs": [],
   "source": [
    "import pandas as pd\n",
    "import seaborn as sns\n",
    "import matplotlib.pyplot as plt\n",
    "import math"
   ]
  },
  {
   "cell_type": "code",
   "execution_count": 13,
   "metadata": {},
   "outputs": [],
   "source": [
    "sc = pd.read_csv('pp_dataset/sc_data.csv', sep=';')\n",
    "rs = pd.read_csv('pp_dataset/rs_data.csv', sep=';')"
   ]
  },
  {
   "cell_type": "code",
   "execution_count": 3,
   "metadata": {},
   "outputs": [],
   "source": [
    "def roundup(x):\n",
    "    return 100 + int(math.ceil(x / 100.0)) * 100 "
   ]
  },
  {
   "cell_type": "code",
   "execution_count": 50,
   "metadata": {},
   "outputs": [],
   "source": [
    "def graph(attr, ds, titulo, xlabel, rotation = False, h = 4):\n",
    "    df = pd.DataFrame\n",
    "#     sns.catplot(x=attr, data=ds, kind=\"count\", height=h, aspect=1, order={'Yes', 'No'})\n",
    "#     sns.catplot(x=attr, data=ds, kind=\"count\", height=h, aspect=1, order=['Março','Abril','Maio','Junho','Julho','Agosto','Setembro','Outubro','Novembro','Dezembro'])\n",
    "    sns.catplot(x=attr, data=ds, kind=\"count\", height=h, aspect=1, order=['0', '10', '20', '30', '40', '50', '60', '70', '80', '90', '100', '110', '120', '130', '140', '150', '160', '170', '180'])\n",
    "#     sns.catplot(x=attr, data=ds, kind=\"count\", height=h, aspect=1, order={'MASCULINO', 'FEMININO'})\n",
    "#     sns.catplot(x=attr, data=ds, kind=\"count\", height=h, aspect=1, order=['Baby', 'Children', 'Young People', 'Adult_1', 'Adult_2', 'Adult_3', 'Elderly_1', 'Elderly_2', 'Elderly_3'])\n",
    "#     sns.catplot(x=attr, data=ds, kind=\"count\", height=h, aspect=1, order=['BRANCA', 'PRETA', 'PARDA', 'AMARELA', 'INDIGENA', 'NAO INFORMADO'])\n",
    "    ax = plt.gca()\n",
    "    ax.set_title(titulo)\n",
    "    ax.set(xlabel=xlabel)\n",
    "    \n",
    "    if (rotation):\n",
    "        plt.xticks(rotation=90)\n",
    "        \n",
    "    y_max = ds[attr].value_counts().max() \n",
    "    ax.set_ylim([0, roundup(y_max)])\n",
    "\n",
    "    for p in ax.patches:\n",
    "        ax.text(p.get_x() + p.get_width()/2., p.get_height(), '%d' % int(p.get_height()),\n",
    "                fontsize=12, color='black', ha='center', va='bottom')\n",
    "#     for p in ax.patches:\n",
    "#         ax.text(p.get_x() + p.get_width()/2., p.get_height(), f'{int(p.get_height())} ({round(int(p.get_height())*100/len(ds[attr]), 1)}%)',\n",
    "#                 fontsize=12, color='black', ha='center', va='bottom')"
   ]
  },
  {
   "cell_type": "markdown",
   "metadata": {},
   "source": [
    "SINTOMAS"
   ]
  },
  {
   "cell_type": "code",
   "execution_count": 51,
   "metadata": {},
   "outputs": [
    {
     "data": {
      "image/png": "[encoded data removed]",
      "text/plain": [
       "<Figure size 576x576 with 1 Axes>"
      ]
     },
     "metadata": {
      "needs_background": "light"
     },
     "output_type": "display_data"
    }
   ],
   "source": [
    "graph('INTERNACAO', rs, 'RS', \"Hospitalization\", rotation=False, h=8)"
   ]
  },
  {
   "cell_type": "code",
   "execution_count": 33,
   "metadata": {},
   "outputs": [
    {
     "ename": "ValueError",
     "evalue": "cannot convert float NaN to integer",
     "output_type": "error",
     "traceback": [
      "\u001b[0;31m---------------------------------------------------------------------------\u001b[0m",
      "\u001b[0;31mValueError\u001b[0m                                Traceback (most recent call last)",
      "\u001b[0;32m<ipython-input-33-57813a06aaa6>\u001b[0m in \u001b[0;36m<module>\u001b[0;34m\u001b[0m\n\u001b[0;32m----> 1\u001b[0;31m \u001b[0mgraph\u001b[0m\u001b[0;34m(\u001b[0m\u001b[0;34m'INTERNACAO'\u001b[0m\u001b[0;34m,\u001b[0m \u001b[0msc\u001b[0m\u001b[0;34m,\u001b[0m \u001b[0;34m'SC'\u001b[0m\u001b[0;34m,\u001b[0m \u001b[0;34m\"Hospitalization\"\u001b[0m\u001b[0;34m,\u001b[0m \u001b[0mrotation\u001b[0m\u001b[0;34m=\u001b[0m\u001b[0;32mTrue\u001b[0m\u001b[0;34m,\u001b[0m \u001b[0mh\u001b[0m\u001b[0;34m=\u001b[0m\u001b[0;36m6\u001b[0m\u001b[0;34m)\u001b[0m\u001b[0;34m\u001b[0m\u001b[0;34m\u001b[0m\u001b[0m\n\u001b[0m",
      "\u001b[0;32m<ipython-input-31-3c82e516bc06>\u001b[0m in \u001b[0;36mgraph\u001b[0;34m(attr, ds, titulo, xlabel, rotation, h)\u001b[0m\n\u001b[1;32m     21\u001b[0m \u001b[0;31m#                 fontsize=12, color='black', ha='center', va='bottom')\u001b[0m\u001b[0;34m\u001b[0m\u001b[0;34m\u001b[0m\u001b[0;34m\u001b[0m\u001b[0m\n\u001b[1;32m     22\u001b[0m     \u001b[0;32mfor\u001b[0m \u001b[0mp\u001b[0m \u001b[0;32min\u001b[0m \u001b[0max\u001b[0m\u001b[0;34m.\u001b[0m\u001b[0mpatches\u001b[0m\u001b[0;34m:\u001b[0m\u001b[0;34m\u001b[0m\u001b[0;34m\u001b[0m\u001b[0m\n\u001b[0;32m---> 23\u001b[0;31m         ax.text(p.get_x() + p.get_width()/2., p.get_height(), f'{int(p.get_height())} ({round(int(p.get_height())*100/len(ds[attr]), 1)}%)',\n\u001b[0m\u001b[1;32m     24\u001b[0m                 fontsize=12, color='black', ha='center', va='bottom')\n",
      "\u001b[0;31mValueError\u001b[0m: cannot convert float NaN to integer"
     ]
    },
    {
     "data": {
      "image/png": "[encoded data removed]",
      "text/plain": [
       "<Figure size 432x432 with 1 Axes>"
      ]
     },
     "metadata": {
      "needs_background": "light"
     },
     "output_type": "display_data"
    }
   ],
   "source": [
    "graph('INTERNACAO', sc, 'SC', \"Hospitalization\", rotation=True, h=6)"
   ]
  },
  {
   "cell_type": "code",
   "execution_count": 5,
   "metadata": {},
   "outputs": [
    {
     "data": {
      "text/plain": [
       "Index(['gestante', 'internacao', 'internacao_uti', 'sexo', 'municipio',\n",
       "       'data_obito', 'idade', 'regional', 'raca', 'data_resultado',\n",
       "       'tipo_teste', 'regional_saude', 'FEBRE', 'TOSSE', 'GARGANTA',\n",
       "       'DISPNEIA', 'Outros', 'asma', 'd_respiratoria', 'outras_comorbidades',\n",
       "       'd_neurologica', 'diabete', 'imunodeficiencia', 'd_renal', 'd_hepatica',\n",
       "       'd_hematologica', 'd_cardiaca', 'obesidade', 'sindrome_down',\n",
       "       'INTERNACAO'],\n",
       "      dtype='object')"
      ]
     },
     "execution_count": 5,
     "metadata": {},
     "output_type": "execute_result"
    }
   ],
   "source": [
    "sc.columns"
   ]
  },
  {
   "cell_type": "code",
   "execution_count": 6,
   "metadata": {},
   "outputs": [
    {
     "data": {
      "text/plain": [
       "Index(['REGIAO_COVID', 'SEXO', 'FAIXAETARIA', 'CRITERIO', 'DATA_CONFIRMACAO',\n",
       "       'HOSPITALIZADO', 'FEBRE', 'TOSSE', 'GARGANTA', 'DISPNEIA', 'OUTROS',\n",
       "       'CONDICOES', 'GESTANTE', 'DATA_INCLUSAO_OBITO', 'RACA_COR',\n",
       "       'HOSPITALIZACAO_SRAG', 'asma', 'd_respiratoria', 'outras_comorbidades',\n",
       "       'd_neurologica', 'diabetes', 'imunodeficiencia', 'd_renal',\n",
       "       'd_hepatica', 'd_hematologica', 'd_cardiaca', 'obesidade',\n",
       "       'sindrome_down', 'INTERNACAO'],\n",
       "      dtype='object')"
      ]
     },
     "execution_count": 6,
     "metadata": {},
     "output_type": "execute_result"
    }
   ],
   "source": [
    "rs.columns"
   ]
  },
  {
   "cell_type": "code",
   "execution_count": null,
   "metadata": {},
   "outputs": [],
   "source": [
    "rs.DATA_INCLUSAO_OBITO.unique()"
   ]
  },
  {
   "cell_type": "code",
   "execution_count": null,
   "metadata": {},
   "outputs": [],
   "source": [
    "sc.internacao_uti.unique()"
   ]
  },
  {
   "cell_type": "code",
   "execution_count": null,
   "metadata": {},
   "outputs": [],
   "source": [
    "for idx, row in rs.iterrows():\n",
    "    if  rs.loc[idx,'DATA_INCLUSAO_OBITO'] == 'Obito_Novembro':\n",
    "        rs.loc[idx,'DATA_INCLUSAO_OBITO'] = 'Novembro'\n",
    "    elif rs.loc[idx,'DATA_INCLUSAO_OBITO'] == 'Obito_Outubro':\n",
    "        rs.loc[idx,'DATA_INCLUSAO_OBITO'] = 'Outubro'\n",
    "    elif rs.loc[idx,'DATA_INCLUSAO_OBITO'] == 'Obito_Setembro':\n",
    "        rs.loc[idx,'DATA_INCLUSAO_OBITO'] = 'Setembro'\n",
    "    elif rs.loc[idx,'DATA_INCLUSAO_OBITO'] == 'Obito_Agosto':\n",
    "        rs.loc[idx,'DATA_INCLUSAO_OBITO'] = 'Agosto'\n",
    "    elif rs.loc[idx,'DATA_INCLUSAO_OBITO'] == 'Obito_Julho':\n",
    "        rs.loc[idx,'DATA_INCLUSAO_OBITO'] = 'Julho'\n",
    "    elif rs.loc[idx,'DATA_INCLUSAO_OBITO'] == 'Obito_Dezembro':\n",
    "        rs.loc[idx,'DATA_INCLUSAO_OBITO'] = 'Dezembro'\n",
    "    elif rs.loc[idx,'DATA_INCLUSAO_OBITO'] == 'Obito_Junho':\n",
    "        rs.loc[idx,'DATA_INCLUSAO_OBITO'] = 'Junho'\n",
    "    elif rs.loc[idx,'DATA_INCLUSAO_OBITO'] == 'Obito_Maio':\n",
    "        rs.loc[idx,'DATA_INCLUSAO_OBITO'] = 'Maio'\n",
    "    elif rs.loc[idx,'DATA_INCLUSAO_OBITO'] == 'Obito_Abril':\n",
    "        rs.loc[idx,'DATA_INCLUSAO_OBITO'] = 'Abril'\n",
    "    elif rs.loc[idx,'DATA_INCLUSAO_OBITO'] == 'Obito_Março':\n",
    "        rs.loc[idx,'DATA_INCLUSAO_OBITO'] = 'Março'"
   ]
  },
  {
   "cell_type": "code",
   "execution_count": null,
   "metadata": {},
   "outputs": [],
   "source": [
    "sc"
   ]
  },
  {
   "cell_type": "code",
   "execution_count": null,
   "metadata": {},
   "outputs": [],
   "source": [
    "rs1 = pd.read_csv('raw_dataset/covid_rs_20210101.csv', sep=';')\n",
    "rs1"
   ]
  },
  {
   "cell_type": "code",
   "execution_count": null,
   "metadata": {},
   "outputs": [],
   "source": [
    "sc1 = pd.read_csv('raw_dataset/covid_sc_20210101.csv', sep=';')\n",
    "sc1"
   ]
  },
  {
   "cell_type": "code",
   "execution_count": null,
   "metadata": {},
   "outputs": [],
   "source": [
    "sc.sexo.unique()"
   ]
  },
  {
   "cell_type": "code",
   "execution_count": null,
   "metadata": {},
   "outputs": [],
   "source": [
    "q = 0\n",
    "for i in sc.sexo:\n",
    "    if i == 'No INFORMADO':\n",
    "        q +=1\n",
    "q\n",
    "    "
   ]
  },
  {
   "cell_type": "code",
   "execution_count": 45,
   "metadata": {},
   "outputs": [
    {
     "data": {
      "text/plain": [
       "array([ 20,   0,  10,  50,  70, 140, 110,  30,  40,  60, 100, 120, 130,\n",
       "        90,  80, 150, 160, 180, 170])"
      ]
     },
     "execution_count": 45,
     "metadata": {},
     "output_type": "execute_result"
    }
   ],
   "source": [
    "rs.INTERNACAO.unique()"
   ]
  },
  {
   "cell_type": "code",
   "execution_count": null,
   "metadata": {},
   "outputs": [],
   "source": []
  }
 ],
 "metadata": {
  "kernelspec": {
   "display_name": "Python 3.8.1 64-bit",
   "language": "python",
   "name": "python38164bit1a47b14ccaa04f8588568034af662766"
  },
  "language_info": {
   "codemirror_mode": {
    "name": "ipython",
    "version": 3
   },
   "file_extension": ".py",
   "mimetype": "text/x-python",
   "name": "python",
   "nbconvert_exporter": "python",
   "pygments_lexer": "ipython3",
   "version": "3.8.1"
  }
 },
 "nbformat": 4,
 "nbformat_minor": 4
}
