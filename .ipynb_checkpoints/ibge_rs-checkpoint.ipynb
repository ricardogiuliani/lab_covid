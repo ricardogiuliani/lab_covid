{
 "cells": [
  {
   "cell_type": "code",
   "execution_count": 1,
   "metadata": {},
   "outputs": [],
   "source": [
    "import pandas as pd"
   ]
  },
  {
   "cell_type": "code",
   "execution_count": 2,
   "metadata": {},
   "outputs": [],
   "source": [
    "df = pd.read_csv('ibge_rs.csv', sep=';', decimal=',')"
   ]
  },
  {
   "cell_type": "code",
   "execution_count": 3,
   "metadata": {},
   "outputs": [],
   "source": [
    "r01r02 = pd.read_csv('regioes_covid/r01r02.csv')\n",
    "r03 = pd.read_csv('regioes_covid/r03.csv')\n",
    "r04r05 = pd.read_csv('regioes_covid/r04r05.csv')\n",
    "r06 = pd.read_csv('regioes_covid/r06.csv')\n",
    "r07 = pd.read_csv('regioes_covid/r07.csv')\n",
    "r08 = pd.read_csv('regioes_covid/r08.csv')\n",
    "r09r10 = pd.read_csv('regioes_covid/r09r10.csv')\n",
    "r11 = pd.read_csv('regioes_covid/r11.csv')\n",
    "r12 = pd.read_csv('regioes_covid/r12.csv')\n",
    "r13 = pd.read_csv('regioes_covid/r13.csv')\n",
    "r14 = pd.read_csv('regioes_covid/r14.csv')\n",
    "r15r20 = pd.read_csv('regioes_covid/r15r20.csv')\n",
    "r16 = pd.read_csv('regioes_covid/r16.csv')\n",
    "r17r18r19 = pd.read_csv('regioes_covid/r17r18r19.csv')\n",
    "r21 = pd.read_csv('regioes_covid/r21.csv')\n",
    "r22 = pd.read_csv('regioes_covid/r22.csv')\n",
    "r23r24r25r26 = pd.read_csv('regioes_covid/r23r24r25r26.csv')\n",
    "r27 = pd.read_csv('regioes_covid/r27.csv')\n",
    "r28 = pd.read_csv('regioes_covid/r28.csv')\n",
    "r29r30 = pd.read_csv('regioes_covid/r29r30.csv')"
   ]
  },
  {
   "cell_type": "code",
   "execution_count": 4,
   "metadata": {},
   "outputs": [],
   "source": [
    "r01r02 = pd.merge(r01r02, df, on='Município')\n",
    "r03 = pd.merge(r03, df, on='Município')\n",
    "r04r05 = pd.merge(r04r05, df, on='Município')\n",
    "r06 = pd.merge(r06, df, on='Município')\n",
    "r07 = pd.merge(r07, df, on='Município')\n",
    "r08 = pd.merge(r08, df, on='Município')\n",
    "r09r10 = pd.merge(r09r10, df, on='Município')\n",
    "r11 = pd.merge(r11, df, on='Município')\n",
    "r12 = pd.merge(r12, df, on='Município')\n",
    "r13 = pd.merge(r13, df, on='Município')\n",
    "r14 = pd.merge(r14, df, on='Município')\n",
    "r15r20 = pd.merge(r15r20, df, on='Município')\n",
    "r16 = pd.merge(r16, df, on='Município')\n",
    "r17r18r19 = pd.merge(r17r18r19, df, on='Município')\n",
    "r21 = pd.merge(r21, df, on='Município')\n",
    "r22 = pd.merge(r22, df, on='Município')\n",
    "r23r24r25r26 = pd.merge(r23r24r25r26, df, on='Município')\n",
    "r27 = pd.merge(r27, df, on='Município')\n",
    "r28 = pd.merge(r28, df, on='Município')\n",
    "r29r30 = pd.merge(r29r30, df, on='Município')"
   ]
  },
  {
   "cell_type": "markdown",
   "metadata": {},
   "source": [
    "### R01, R02 - Santa Maria"
   ]
  },
  {
   "cell_type": "code",
   "execution_count": 5,
   "metadata": {
    "scrolled": true
   },
   "outputs": [
    {
     "data": {
      "text/html": [
       "<div>\n",
       "<style scoped>\n",
       "    .dataframe tbody tr th:only-of-type {\n",
       "        vertical-align: middle;\n",
       "    }\n",
       "\n",
       "    .dataframe tbody tr th {\n",
       "        vertical-align: top;\n",
       "    }\n",
       "\n",
       "    .dataframe thead th {\n",
       "        text-align: right;\n",
       "    }\n",
       "</style>\n",
       "<table border=\"1\" class=\"dataframe\">\n",
       "  <thead>\n",
       "    <tr style=\"text-align: right;\">\n",
       "      <th></th>\n",
       "      <th>Município</th>\n",
       "      <th>Área Territorial</th>\n",
       "      <th>População</th>\n",
       "      <th>Densidade demográfica</th>\n",
       "      <th>Escolarização</th>\n",
       "      <th>IDHM</th>\n",
       "      <th>Mortalidade Infantil</th>\n",
       "      <th>PIB</th>\n",
       "    </tr>\n",
       "  </thead>\n",
       "  <tbody>\n",
       "    <tr>\n",
       "      <th>0</th>\n",
       "      <td>Agudo</td>\n",
       "      <td>534.624</td>\n",
       "      <td>16401</td>\n",
       "      <td>31,19</td>\n",
       "      <td>96,5</td>\n",
       "      <td>0,694</td>\n",
       "      <td>12,42</td>\n",
       "      <td>28455.96</td>\n",
       "    </tr>\n",
       "    <tr>\n",
       "      <th>1</th>\n",
       "      <td>Cacequi</td>\n",
       "      <td>2373.174</td>\n",
       "      <td>12423</td>\n",
       "      <td>5,77</td>\n",
       "      <td>96,5</td>\n",
       "      <td>0,7</td>\n",
       "      <td>10,2</td>\n",
       "      <td>23695.04</td>\n",
       "    </tr>\n",
       "    <tr>\n",
       "      <th>2</th>\n",
       "      <td>Capão do Cipó</td>\n",
       "      <td>1007.796</td>\n",
       "      <td>3699</td>\n",
       "      <td>3,08</td>\n",
       "      <td>98,9</td>\n",
       "      <td>0,672</td>\n",
       "      <td>35,71</td>\n",
       "      <td>70151.94</td>\n",
       "    </tr>\n",
       "    <tr>\n",
       "      <th>3</th>\n",
       "      <td>Dilermando de Aguiar</td>\n",
       "      <td>601.170</td>\n",
       "      <td>3002</td>\n",
       "      <td>5,1</td>\n",
       "      <td>94,1</td>\n",
       "      <td>0,648</td>\n",
       "      <td>41,67</td>\n",
       "      <td>34353.41</td>\n",
       "    </tr>\n",
       "    <tr>\n",
       "      <th>4</th>\n",
       "      <td>Dona Francisca</td>\n",
       "      <td>114.149</td>\n",
       "      <td>2999</td>\n",
       "      <td>29,74</td>\n",
       "      <td>97,6</td>\n",
       "      <td>0,697</td>\n",
       "      <td>31,25</td>\n",
       "      <td>21879.90</td>\n",
       "    </tr>\n",
       "    <tr>\n",
       "      <th>5</th>\n",
       "      <td>Faxinal do Soturno</td>\n",
       "      <td>169.514</td>\n",
       "      <td>6663</td>\n",
       "      <td>39,27</td>\n",
       "      <td>99,1</td>\n",
       "      <td>0,72</td>\n",
       "      <td>15,87</td>\n",
       "      <td>26977.44</td>\n",
       "    </tr>\n",
       "    <tr>\n",
       "      <th>6</th>\n",
       "      <td>Formigueiro</td>\n",
       "      <td>578.875</td>\n",
       "      <td>6616</td>\n",
       "      <td>12,05</td>\n",
       "      <td>95,6</td>\n",
       "      <td>0,682</td>\n",
       "      <td>14,49</td>\n",
       "      <td>25817.71</td>\n",
       "    </tr>\n",
       "    <tr>\n",
       "      <th>7</th>\n",
       "      <td>Itaara</td>\n",
       "      <td>172.801</td>\n",
       "      <td>5537</td>\n",
       "      <td>28,96</td>\n",
       "      <td>99,1</td>\n",
       "      <td>0,76</td>\n",
       "      <td>17,54</td>\n",
       "      <td>16406.44</td>\n",
       "    </tr>\n",
       "    <tr>\n",
       "      <th>8</th>\n",
       "      <td>Itacurubi</td>\n",
       "      <td>1120.874</td>\n",
       "      <td>3460</td>\n",
       "      <td>3,07</td>\n",
       "      <td>96,3</td>\n",
       "      <td>0,657</td>\n",
       "      <td>41,67</td>\n",
       "      <td>24669.41</td>\n",
       "    </tr>\n",
       "    <tr>\n",
       "      <th>9</th>\n",
       "      <td>Ivorá</td>\n",
       "      <td>122.930</td>\n",
       "      <td>1881</td>\n",
       "      <td>17,54</td>\n",
       "      <td>97,1</td>\n",
       "      <td>0,724</td>\n",
       "      <td>-</td>\n",
       "      <td>23078.92</td>\n",
       "    </tr>\n",
       "    <tr>\n",
       "      <th>10</th>\n",
       "      <td>Jaguari</td>\n",
       "      <td>672.735</td>\n",
       "      <td>10765</td>\n",
       "      <td>17,04</td>\n",
       "      <td>97</td>\n",
       "      <td>0,712</td>\n",
       "      <td>23,53</td>\n",
       "      <td>20831.62</td>\n",
       "    </tr>\n",
       "    <tr>\n",
       "      <th>11</th>\n",
       "      <td>Jari</td>\n",
       "      <td>856.475</td>\n",
       "      <td>3486</td>\n",
       "      <td>4,17</td>\n",
       "      <td>96</td>\n",
       "      <td>0,631</td>\n",
       "      <td>28,57</td>\n",
       "      <td>48481.71</td>\n",
       "    </tr>\n",
       "    <tr>\n",
       "      <th>12</th>\n",
       "      <td>Júlio de Castilhos</td>\n",
       "      <td>1929.544</td>\n",
       "      <td>19224</td>\n",
       "      <td>10,15</td>\n",
       "      <td>97,3</td>\n",
       "      <td>0,716</td>\n",
       "      <td>12,45</td>\n",
       "      <td>52616.78</td>\n",
       "    </tr>\n",
       "    <tr>\n",
       "      <th>13</th>\n",
       "      <td>Mata</td>\n",
       "      <td>311.884</td>\n",
       "      <td>4797</td>\n",
       "      <td>16,39</td>\n",
       "      <td>97,9</td>\n",
       "      <td>0,656</td>\n",
       "      <td>54,05</td>\n",
       "      <td>20868.51</td>\n",
       "    </tr>\n",
       "    <tr>\n",
       "      <th>14</th>\n",
       "      <td>Nova Esperança do Sul</td>\n",
       "      <td>191.000</td>\n",
       "      <td>5410</td>\n",
       "      <td>24,46</td>\n",
       "      <td>100</td>\n",
       "      <td>0,735</td>\n",
       "      <td>32,79</td>\n",
       "      <td>25212.75</td>\n",
       "    </tr>\n",
       "    <tr>\n",
       "      <th>15</th>\n",
       "      <td>Nova Palma</td>\n",
       "      <td>314.613</td>\n",
       "      <td>6515</td>\n",
       "      <td>20,23</td>\n",
       "      <td>97,9</td>\n",
       "      <td>0,744</td>\n",
       "      <td>14,93</td>\n",
       "      <td>42159.91</td>\n",
       "    </tr>\n",
       "    <tr>\n",
       "      <th>16</th>\n",
       "      <td>Paraíso do Sul</td>\n",
       "      <td>337.534</td>\n",
       "      <td>7623</td>\n",
       "      <td>21,71</td>\n",
       "      <td>99,2</td>\n",
       "      <td>0,676</td>\n",
       "      <td>12,5</td>\n",
       "      <td>21002.33</td>\n",
       "    </tr>\n",
       "    <tr>\n",
       "      <th>17</th>\n",
       "      <td>Pinhal Grande</td>\n",
       "      <td>478.110</td>\n",
       "      <td>4329</td>\n",
       "      <td>9,37</td>\n",
       "      <td>97,6</td>\n",
       "      <td>0,678</td>\n",
       "      <td>24,39</td>\n",
       "      <td>108054.10</td>\n",
       "    </tr>\n",
       "    <tr>\n",
       "      <th>18</th>\n",
       "      <td>Quevedos</td>\n",
       "      <td>543.359</td>\n",
       "      <td>2790</td>\n",
       "      <td>4,99</td>\n",
       "      <td>96,4</td>\n",
       "      <td>0,665</td>\n",
       "      <td>66,67</td>\n",
       "      <td>49113.64</td>\n",
       "    </tr>\n",
       "    <tr>\n",
       "      <th>19</th>\n",
       "      <td>Restinga Seca</td>\n",
       "      <td>968.620</td>\n",
       "      <td>15744</td>\n",
       "      <td>16,58</td>\n",
       "      <td>97,6</td>\n",
       "      <td>0,683</td>\n",
       "      <td>18,87</td>\n",
       "      <td>26114.63</td>\n",
       "    </tr>\n",
       "    <tr>\n",
       "      <th>20</th>\n",
       "      <td>Santa Maria</td>\n",
       "      <td>1780.796</td>\n",
       "      <td>283677</td>\n",
       "      <td>145,98</td>\n",
       "      <td>98,1</td>\n",
       "      <td>0,784</td>\n",
       "      <td>8,26</td>\n",
       "      <td>25686.04</td>\n",
       "    </tr>\n",
       "    <tr>\n",
       "      <th>21</th>\n",
       "      <td>Santiago</td>\n",
       "      <td>2414.195</td>\n",
       "      <td>49360</td>\n",
       "      <td>20,33</td>\n",
       "      <td>98,9</td>\n",
       "      <td>0,766</td>\n",
       "      <td>12,24</td>\n",
       "      <td>25091.89</td>\n",
       "    </tr>\n",
       "    <tr>\n",
       "      <th>22</th>\n",
       "      <td>São Francisco de Assis</td>\n",
       "      <td>2508.453</td>\n",
       "      <td>18205</td>\n",
       "      <td>7,68</td>\n",
       "      <td>98</td>\n",
       "      <td>0,675</td>\n",
       "      <td>5,1</td>\n",
       "      <td>22974.69</td>\n",
       "    </tr>\n",
       "    <tr>\n",
       "      <th>23</th>\n",
       "      <td>São João do Polêsine</td>\n",
       "      <td>78.320</td>\n",
       "      <td>2543</td>\n",
       "      <td>30,94</td>\n",
       "      <td>99</td>\n",
       "      <td>0,748</td>\n",
       "      <td>50</td>\n",
       "      <td>28039.60</td>\n",
       "    </tr>\n",
       "    <tr>\n",
       "      <th>24</th>\n",
       "      <td>São Martinho da Serra</td>\n",
       "      <td>669.547</td>\n",
       "      <td>3231</td>\n",
       "      <td>4,78</td>\n",
       "      <td>99,8</td>\n",
       "      <td>0,652</td>\n",
       "      <td>31,25</td>\n",
       "      <td>50766.13</td>\n",
       "    </tr>\n",
       "    <tr>\n",
       "      <th>25</th>\n",
       "      <td>São Pedro do Sul</td>\n",
       "      <td>873.734</td>\n",
       "      <td>16148</td>\n",
       "      <td>18,74</td>\n",
       "      <td>97,2</td>\n",
       "      <td>0,709</td>\n",
       "      <td>13,07</td>\n",
       "      <td>21829.56</td>\n",
       "    </tr>\n",
       "    <tr>\n",
       "      <th>26</th>\n",
       "      <td>São Sepé</td>\n",
       "      <td>2204.779</td>\n",
       "      <td>23555</td>\n",
       "      <td>10,81</td>\n",
       "      <td>97,3</td>\n",
       "      <td>0,708</td>\n",
       "      <td>7,72</td>\n",
       "      <td>33726.54</td>\n",
       "    </tr>\n",
       "    <tr>\n",
       "      <th>27</th>\n",
       "      <td>São Vicente do Sul</td>\n",
       "      <td>1172.640</td>\n",
       "      <td>8732</td>\n",
       "      <td>7,18</td>\n",
       "      <td>98,2</td>\n",
       "      <td>0,685</td>\n",
       "      <td>19,8</td>\n",
       "      <td>25702.25</td>\n",
       "    </tr>\n",
       "    <tr>\n",
       "      <th>28</th>\n",
       "      <td>Silveira Martins</td>\n",
       "      <td>119.285</td>\n",
       "      <td>2374</td>\n",
       "      <td>20,68</td>\n",
       "      <td>99,2</td>\n",
       "      <td>0,742</td>\n",
       "      <td>34,48</td>\n",
       "      <td>19609.85</td>\n",
       "    </tr>\n",
       "    <tr>\n",
       "      <th>29</th>\n",
       "      <td>Toropi</td>\n",
       "      <td>203.002</td>\n",
       "      <td>2772</td>\n",
       "      <td>14,54</td>\n",
       "      <td>98</td>\n",
       "      <td>0,683</td>\n",
       "      <td>31,25</td>\n",
       "      <td>21635.68</td>\n",
       "    </tr>\n",
       "    <tr>\n",
       "      <th>30</th>\n",
       "      <td>Unistalda</td>\n",
       "      <td>602.387</td>\n",
       "      <td>2321</td>\n",
       "      <td>4,07</td>\n",
       "      <td>99,5</td>\n",
       "      <td>0,649</td>\n",
       "      <td>34,48</td>\n",
       "      <td>24099.21</td>\n",
       "    </tr>\n",
       "    <tr>\n",
       "      <th>31</th>\n",
       "      <td>Vila Nova do Sul</td>\n",
       "      <td>508.278</td>\n",
       "      <td>4277</td>\n",
       "      <td>8,31</td>\n",
       "      <td>96,1</td>\n",
       "      <td>0,662</td>\n",
       "      <td>20</td>\n",
       "      <td>26746.21</td>\n",
       "    </tr>\n",
       "  </tbody>\n",
       "</table>\n",
       "</div>"
      ],
      "text/plain": [
       "                 Município  Área Territorial  População Densidade demográfica  \\\n",
       "0                    Agudo           534.624      16401                 31,19   \n",
       "1                  Cacequi          2373.174      12423                  5,77   \n",
       "2            Capão do Cipó          1007.796       3699                  3,08   \n",
       "3     Dilermando de Aguiar           601.170       3002                   5,1   \n",
       "4           Dona Francisca           114.149       2999                 29,74   \n",
       "5       Faxinal do Soturno           169.514       6663                 39,27   \n",
       "6              Formigueiro           578.875       6616                 12,05   \n",
       "7                   Itaara           172.801       5537                 28,96   \n",
       "8                Itacurubi          1120.874       3460                  3,07   \n",
       "9                    Ivorá           122.930       1881                 17,54   \n",
       "10                 Jaguari           672.735      10765                 17,04   \n",
       "11                    Jari           856.475       3486                  4,17   \n",
       "12      Júlio de Castilhos          1929.544      19224                 10,15   \n",
       "13                    Mata           311.884       4797                 16,39   \n",
       "14   Nova Esperança do Sul           191.000       5410                 24,46   \n",
       "15              Nova Palma           314.613       6515                 20,23   \n",
       "16          Paraíso do Sul           337.534       7623                 21,71   \n",
       "17           Pinhal Grande           478.110       4329                  9,37   \n",
       "18                Quevedos           543.359       2790                  4,99   \n",
       "19           Restinga Seca           968.620      15744                 16,58   \n",
       "20             Santa Maria          1780.796     283677                145,98   \n",
       "21                Santiago          2414.195      49360                 20,33   \n",
       "22  São Francisco de Assis          2508.453      18205                  7,68   \n",
       "23    São João do Polêsine            78.320       2543                 30,94   \n",
       "24   São Martinho da Serra           669.547       3231                  4,78   \n",
       "25        São Pedro do Sul           873.734      16148                 18,74   \n",
       "26                São Sepé          2204.779      23555                 10,81   \n",
       "27      São Vicente do Sul          1172.640       8732                  7,18   \n",
       "28        Silveira Martins           119.285       2374                 20,68   \n",
       "29                  Toropi           203.002       2772                 14,54   \n",
       "30               Unistalda           602.387       2321                  4,07   \n",
       "31        Vila Nova do Sul           508.278       4277                  8,31   \n",
       "\n",
       "   Escolarização   IDHM Mortalidade Infantil        PIB  \n",
       "0           96,5  0,694                12,42   28455.96  \n",
       "1           96,5    0,7                 10,2   23695.04  \n",
       "2           98,9  0,672                35,71   70151.94  \n",
       "3           94,1  0,648                41,67   34353.41  \n",
       "4           97,6  0,697                31,25   21879.90  \n",
       "5           99,1   0,72                15,87   26977.44  \n",
       "6           95,6  0,682                14,49   25817.71  \n",
       "7           99,1   0,76                17,54   16406.44  \n",
       "8           96,3  0,657                41,67   24669.41  \n",
       "9           97,1  0,724                    -   23078.92  \n",
       "10            97  0,712                23,53   20831.62  \n",
       "11            96  0,631                28,57   48481.71  \n",
       "12          97,3  0,716                12,45   52616.78  \n",
       "13          97,9  0,656                54,05   20868.51  \n",
       "14           100  0,735                32,79   25212.75  \n",
       "15          97,9  0,744                14,93   42159.91  \n",
       "16          99,2  0,676                 12,5   21002.33  \n",
       "17          97,6  0,678                24,39  108054.10  \n",
       "18          96,4  0,665                66,67   49113.64  \n",
       "19          97,6  0,683                18,87   26114.63  \n",
       "20          98,1  0,784                 8,26   25686.04  \n",
       "21          98,9  0,766                12,24   25091.89  \n",
       "22            98  0,675                  5,1   22974.69  \n",
       "23            99  0,748                   50   28039.60  \n",
       "24          99,8  0,652                31,25   50766.13  \n",
       "25          97,2  0,709                13,07   21829.56  \n",
       "26          97,3  0,708                 7,72   33726.54  \n",
       "27          98,2  0,685                 19,8   25702.25  \n",
       "28          99,2  0,742                34,48   19609.85  \n",
       "29            98  0,683                31,25   21635.68  \n",
       "30          99,5  0,649                34,48   24099.21  \n",
       "31          96,1  0,662                   20   26746.21  "
      ]
     },
     "execution_count": 5,
     "metadata": {},
     "output_type": "execute_result"
    }
   ],
   "source": [
    "r01r02"
   ]
  },
  {
   "cell_type": "markdown",
   "metadata": {},
   "source": [
    "## R03 - Uruguaiana"
   ]
  },
  {
   "cell_type": "code",
   "execution_count": null,
   "metadata": {
    "scrolled": false
   },
   "outputs": [],
   "source": [
    "r03"
   ]
  },
  {
   "cell_type": "markdown",
   "metadata": {},
   "source": [
    "## R04, R05 - Capão da Canoa"
   ]
  },
  {
   "cell_type": "code",
   "execution_count": null,
   "metadata": {
    "scrolled": true
   },
   "outputs": [],
   "source": [
    "r04r05"
   ]
  },
  {
   "cell_type": "markdown",
   "metadata": {},
   "source": [
    "##  R06 - Taquara"
   ]
  },
  {
   "cell_type": "code",
   "execution_count": null,
   "metadata": {
    "scrolled": false
   },
   "outputs": [],
   "source": [
    "r06"
   ]
  },
  {
   "cell_type": "markdown",
   "metadata": {},
   "source": [
    "## R07 - Novo Hamburgo"
   ]
  },
  {
   "cell_type": "code",
   "execution_count": null,
   "metadata": {
    "scrolled": false
   },
   "outputs": [],
   "source": [
    "r07"
   ]
  },
  {
   "cell_type": "markdown",
   "metadata": {},
   "source": [
    "## R08 - Canoas"
   ]
  },
  {
   "cell_type": "code",
   "execution_count": null,
   "metadata": {
    "scrolled": false
   },
   "outputs": [],
   "source": [
    "r08"
   ]
  },
  {
   "cell_type": "markdown",
   "metadata": {},
   "source": [
    "## R09, R10 - Porto Alegre"
   ]
  },
  {
   "cell_type": "code",
   "execution_count": null,
   "metadata": {
    "scrolled": false
   },
   "outputs": [],
   "source": [
    "r09r10"
   ]
  },
  {
   "cell_type": "markdown",
   "metadata": {},
   "source": [
    "## R11 - Santo Ângelo"
   ]
  },
  {
   "cell_type": "code",
   "execution_count": null,
   "metadata": {
    "scrolled": false
   },
   "outputs": [],
   "source": [
    "r11"
   ]
  },
  {
   "cell_type": "markdown",
   "metadata": {},
   "source": [
    "## R12 - Cruz Alta"
   ]
  },
  {
   "cell_type": "code",
   "execution_count": null,
   "metadata": {
    "scrolled": true
   },
   "outputs": [],
   "source": [
    "r12"
   ]
  },
  {
   "cell_type": "markdown",
   "metadata": {},
   "source": [
    "## R13 - Ijuí"
   ]
  },
  {
   "cell_type": "code",
   "execution_count": null,
   "metadata": {
    "scrolled": false
   },
   "outputs": [],
   "source": [
    "r13"
   ]
  },
  {
   "cell_type": "markdown",
   "metadata": {},
   "source": [
    "## R14 - Santa Rosa"
   ]
  },
  {
   "cell_type": "code",
   "execution_count": null,
   "metadata": {
    "scrolled": true
   },
   "outputs": [],
   "source": [
    "r14"
   ]
  },
  {
   "cell_type": "markdown",
   "metadata": {},
   "source": [
    "## R15, R20 - Palmeira das Missões"
   ]
  },
  {
   "cell_type": "code",
   "execution_count": null,
   "metadata": {
    "scrolled": true
   },
   "outputs": [],
   "source": [
    "r15r20"
   ]
  },
  {
   "cell_type": "markdown",
   "metadata": {},
   "source": [
    "## R16 - Erechim"
   ]
  },
  {
   "cell_type": "code",
   "execution_count": null,
   "metadata": {},
   "outputs": [],
   "source": [
    "r16"
   ]
  },
  {
   "cell_type": "markdown",
   "metadata": {},
   "source": [
    "## R17, R18, R19 - Passo Fundo"
   ]
  },
  {
   "cell_type": "code",
   "execution_count": null,
   "metadata": {},
   "outputs": [],
   "source": [
    "r17r18r19"
   ]
  },
  {
   "cell_type": "markdown",
   "metadata": {},
   "source": [
    "## R21 - Pelotas"
   ]
  },
  {
   "cell_type": "code",
   "execution_count": null,
   "metadata": {
    "scrolled": true
   },
   "outputs": [],
   "source": [
    "r21"
   ]
  },
  {
   "cell_type": "markdown",
   "metadata": {},
   "source": [
    "## R22 - Bagé"
   ]
  },
  {
   "cell_type": "code",
   "execution_count": null,
   "metadata": {},
   "outputs": [],
   "source": [
    "r22"
   ]
  },
  {
   "cell_type": "markdown",
   "metadata": {},
   "source": [
    "## R23, R24, R25, R26 - Caxias do Sul"
   ]
  },
  {
   "cell_type": "code",
   "execution_count": null,
   "metadata": {
    "scrolled": true
   },
   "outputs": [],
   "source": [
    "r23r24r25r26"
   ]
  },
  {
   "cell_type": "markdown",
   "metadata": {},
   "source": [
    "## R27 - Cachoeira do Sul"
   ]
  },
  {
   "cell_type": "code",
   "execution_count": null,
   "metadata": {},
   "outputs": [],
   "source": [
    "r27"
   ]
  },
  {
   "cell_type": "markdown",
   "metadata": {},
   "source": [
    "## R28 - Santa Cruz do Sul"
   ]
  },
  {
   "cell_type": "code",
   "execution_count": null,
   "metadata": {},
   "outputs": [],
   "source": [
    "r28"
   ]
  },
  {
   "cell_type": "markdown",
   "metadata": {},
   "source": [
    "## R29, R30 - Lajeado"
   ]
  },
  {
   "cell_type": "code",
   "execution_count": null,
   "metadata": {
    "scrolled": false
   },
   "outputs": [],
   "source": [
    "r29r30"
   ]
  },
  {
   "cell_type": "code",
   "execution_count": null,
   "metadata": {},
   "outputs": [],
   "source": []
  }
 ],
 "metadata": {
  "kernelspec": {
   "display_name": "Python 3.8.1 64-bit",
   "language": "python",
   "name": "python38164bit1a47b14ccaa04f8588568034af662766"
  },
  "language_info": {
   "codemirror_mode": {
    "name": "ipython",
    "version": 3
   },
   "file_extension": ".py",
   "mimetype": "text/x-python",
   "name": "python",
   "nbconvert_exporter": "python",
   "pygments_lexer": "ipython3",
   "version": "3.8.1"
  }
 },
 "nbformat": 4,
 "nbformat_minor": 4
}
