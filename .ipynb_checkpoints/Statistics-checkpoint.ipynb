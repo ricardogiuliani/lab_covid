{
 "cells": [
  {
   "cell_type": "code",
   "execution_count": 1,
   "metadata": {},
   "outputs": [
    {
     "name": "stdout",
     "output_type": "stream",
     "text": [
      "importing Jupyter notebook from covid_dict.ipynb\n"
     ]
    }
   ],
   "source": [
    "import pandas as pd\n",
    "import import_ipynb\n",
    "import covid_dict as cd\n",
    "import numpy as np\n",
    "import seaborn as sns\n",
    "import math\n",
    "import matplotlib.pyplot as plt\n",
    "%matplotlib inline\n",
    "sns.set_style('whitegrid')"
   ]
  },
  {
   "cell_type": "code",
   "execution_count": 2,
   "metadata": {},
   "outputs": [],
   "source": [
    "df = pd.read_csv('input_datasets/20201030_death_matrix.csv', header=None)"
   ]
  },
  {
   "cell_type": "code",
   "execution_count": 3,
   "metadata": {},
   "outputs": [],
   "source": [
    "dic = cd.covid_dict"
   ]
  },
  {
   "cell_type": "code",
   "execution_count": 4,
   "metadata": {},
   "outputs": [],
   "source": [
    "def roundup(x):\n",
    "    return 100 + int(math.ceil(x / 100.0)) * 100 "
   ]
  },
  {
   "cell_type": "code",
   "execution_count": 5,
   "metadata": {},
   "outputs": [],
   "source": [
    "def get_key(val): \n",
    "    for key, value in dic.items(): \n",
    "         if val.lower() == value.lower(): \n",
    "             return key \n",
    "  \n",
    "    return \"este atributo não existe\""
   ]
  },
  {
   "cell_type": "code",
   "execution_count": 6,
   "metadata": {},
   "outputs": [],
   "source": [
    "def registros(atributo):\n",
    "    key = get_key(atributo)\n",
    "    reg = 0\n",
    "    for e in df[key]:\n",
    "        reg += e\n",
    "    \n",
    "    return reg"
   ]
  },
  {
   "cell_type": "code",
   "execution_count": 7,
   "metadata": {},
   "outputs": [],
   "source": [
    "def relp(attr1, attr2):\n",
    "    at1 = get_key(attr1)\n",
    "    at2 = get_key(attr2)\n",
    "\n",
    "    c = 0\n",
    "    for index, row in df.iterrows():\n",
    "        if row[at1] == 1 and row[at2] == 1:\n",
    "            c += 1\n",
    "            \n",
    "    print(f'### OCORRÊNCIAS ###\\n')\n",
    "    print(f'Total de registros: {len(df.index)}\\n\\n')\n",
    "    print(f'{attr1.upper()}: {registros(attr1)} registros ({round((registros(attr1)/len(df.index)*100),2)}%)\\n{attr2.upper()}: {registros(attr2)} registros ({round((registros(attr2)/len(df.index)*100),2)}%)\\n\\n')\n",
    "    print(f'O número de ocorrências da interseção entre \\033[92m{attr1.upper()}\\033[0m e \\033[92m{attr2.upper()}\\033[0m é: \\033[1m {c} \\033[0m registros')\n",
    "    print('-'*65)\n",
    "    \n",
    "    plot = sns.catplot(x=at1, hue=at2, data=df, kind=\"count\", height=6, aspect=1)\n",
    "    plt.xlabel(dic[at1])\n",
    "    plot._legend.set_title(dic[at2])\n",
    "    ax = plt.gca()\n",
    "\n",
    "    y_max = df[at1].value_counts().max() \n",
    "    ax.set_ylim([0, roundup(y_max)])\n",
    "\n",
    "    for p in ax.patches:\n",
    "        ax.text(p.get_x() + p.get_width()/2., p.get_height(), '%d' % int(p.get_height()), \n",
    "                fontsize=12, color='red', ha='center', va='bottom')\n",
    "\n",
    "    "
   ]
  },
  {
   "cell_type": "code",
   "execution_count": 8,
   "metadata": {},
   "outputs": [],
   "source": [
    "def getIdosos():\n",
    "    idosos_1 = 0\n",
    "    idosos_2 = 0\n",
    "    \n",
    "    for e in df[520]:\n",
    "        idosos_1 += e\n",
    "    for e in df[521]:\n",
    "        idosos_2 += e\n",
    "        \n",
    "    return idosos_1 + idosos_2\n",
    "        \n",
    "def relp_idoso(attr):\n",
    "    at = get_key(attr)\n",
    "    \n",
    "    c = 0\n",
    "    for index, row in df.iterrows():\n",
    "        if row[520] == 1 and row[at] == 1 or row[521] == 1 and row[at] == 1:\n",
    "            c += 1\n",
    "            \n",
    "    print(f'### OCORRÊNCIAS ###\\n')\n",
    "    print(f'IDOSOS: {getIdosos()} registros\\n{attr.upper()}: {registros(attr)} registros\\n\\n')\n",
    "    print(f'O número de ocorrências da interseção entre IDOSOS e {attr.upper()} é: \\033[1m {c} \\033[0m registros')\n",
    "    print('-'*65)"
   ]
  },
  {
   "cell_type": "markdown",
   "metadata": {},
   "source": [
    "507: 'Março',\n",
    "508: 'Abril',\n",
    "509: 'Maio',\n",
    "510: 'Junho',\n",
    "511: 'Julho',\n",
    "512: 'Agosto',\n",
    "513: 'Setembro',\n",
    "514: 'Outubro',"
   ]
  },
  {
   "cell_type": "markdown",
   "metadata": {},
   "source": [
    "# Área de Testes"
   ]
  },
  {
   "cell_type": "code",
   "execution_count": 9,
   "metadata": {},
   "outputs": [
    {
     "name": "stdout",
     "output_type": "stream",
     "text": [
      "### OCORRÊNCIAS ###\n",
      "\n",
      "Total de registros: 5729\n",
      "\n",
      "\n",
      "SEXF: 2541 registros (44.35%)\n",
      "FEBRE: 3156 registros (55.09%)\n",
      "\n",
      "\n",
      "O número de ocorrências da interseção entre \u001b[92mSEXF\u001b[0m e \u001b[92mFEBRE\u001b[0m é: \u001b[1m 1310 \u001b[0m registros\n",
      "-----------------------------------------------------------------\n"
     ]
    },
    {
     "data": {
      "image/png": "[encoded data removed]",
      "text/plain": [
       "<Figure size 473.625x432 with 1 Axes>"
      ]
     },
     "metadata": {},
     "output_type": "display_data"
    }
   ],
   "source": [
    "relp('sexf', 'febre')"
   ]
  },
  {
   "cell_type": "code",
   "execution_count": 24,
   "metadata": {},
   "outputs": [
    {
     "ename": "AttributeError",
     "evalue": "'NoneType' object has no attribute 'set_title'",
     "output_type": "error",
     "traceback": [
      "\u001b[0;31m---------------------------------------------------------------------------\u001b[0m",
      "\u001b[0;31mAttributeError\u001b[0m                            Traceback (most recent call last)",
      "\u001b[0;32m<ipython-input-24-04853bc4bab1>\u001b[0m in \u001b[0;36m<module>\u001b[0;34m\u001b[0m\n\u001b[0;32m----> 1\u001b[0;31m \u001b[0mstats\u001b[0m\u001b[0;34m(\u001b[0m\u001b[0;34m'febre'\u001b[0m\u001b[0;34m)\u001b[0m\u001b[0;34m\u001b[0m\u001b[0;34m\u001b[0m\u001b[0m\n\u001b[0m",
      "\u001b[0;32m<ipython-input-23-4a340ea6be58>\u001b[0m in \u001b[0;36mstats\u001b[0;34m(attr)\u001b[0m\n\u001b[1;32m     10\u001b[0m     \u001b[0mplot\u001b[0m \u001b[0;34m=\u001b[0m \u001b[0msns\u001b[0m\u001b[0;34m.\u001b[0m\u001b[0mcatplot\u001b[0m\u001b[0;34m(\u001b[0m\u001b[0mx\u001b[0m\u001b[0;34m=\u001b[0m\u001b[0mat\u001b[0m\u001b[0;34m,\u001b[0m \u001b[0mdata\u001b[0m\u001b[0;34m=\u001b[0m\u001b[0mn_df\u001b[0m\u001b[0;34m,\u001b[0m \u001b[0mkind\u001b[0m\u001b[0;34m=\u001b[0m\u001b[0;34m\"count\"\u001b[0m\u001b[0;34m,\u001b[0m \u001b[0mheight\u001b[0m\u001b[0;34m=\u001b[0m\u001b[0;36m6\u001b[0m\u001b[0;34m,\u001b[0m \u001b[0maspect\u001b[0m\u001b[0;34m=\u001b[0m\u001b[0;36m1\u001b[0m\u001b[0;34m)\u001b[0m\u001b[0;34m\u001b[0m\u001b[0;34m\u001b[0m\u001b[0m\n\u001b[1;32m     11\u001b[0m     \u001b[0mplt\u001b[0m\u001b[0;34m.\u001b[0m\u001b[0mxlabel\u001b[0m\u001b[0;34m(\u001b[0m\u001b[0mdic\u001b[0m\u001b[0;34m[\u001b[0m\u001b[0mat\u001b[0m\u001b[0;34m]\u001b[0m\u001b[0;34m)\u001b[0m\u001b[0;34m\u001b[0m\u001b[0;34m\u001b[0m\u001b[0m\n\u001b[0;32m---> 12\u001b[0;31m     \u001b[0mplot\u001b[0m\u001b[0;34m.\u001b[0m\u001b[0m_legend\u001b[0m\u001b[0;34m.\u001b[0m\u001b[0mset_title\u001b[0m\u001b[0;34m(\u001b[0m\u001b[0mdic\u001b[0m\u001b[0;34m[\u001b[0m\u001b[0mat\u001b[0m\u001b[0;34m]\u001b[0m\u001b[0;34m)\u001b[0m\u001b[0;34m\u001b[0m\u001b[0;34m\u001b[0m\u001b[0m\n\u001b[0m\u001b[1;32m     13\u001b[0m     \u001b[0max\u001b[0m \u001b[0;34m=\u001b[0m \u001b[0mplt\u001b[0m\u001b[0;34m.\u001b[0m\u001b[0mgca\u001b[0m\u001b[0;34m(\u001b[0m\u001b[0;34m)\u001b[0m\u001b[0;34m\u001b[0m\u001b[0;34m\u001b[0m\u001b[0m\n",
      "\u001b[0;31mAttributeError\u001b[0m: 'NoneType' object has no attribute 'set_title'"
     ]
    },
    {
     "data": {
      "image/png": "[encoded data removed]",
      "text/plain": [
       "<Figure size 432x288 with 1 Axes>"
      ]
     },
     "metadata": {},
     "output_type": "display_data"
    },
    {
     "data": {
      "image/png": "[encoded data removed]",
      "text/plain": [
       "<Figure size 432x432 with 1 Axes>"
      ]
     },
     "metadata": {},
     "output_type": "display_data"
    }
   ],
   "source": [
    "stats('febre')"
   ]
  },
  {
   "cell_type": "code",
   "execution_count": null,
   "metadata": {},
   "outputs": [],
   "source": []
  }
 ],
 "metadata": {
  "kernelspec": {
   "display_name": "Python 3.8.1 64-bit",
   "language": "python",
   "name": "python38164bit1a47b14ccaa04f8588568034af662766"
  },
  "language_info": {
   "codemirror_mode": {
    "name": "ipython",
    "version": 3
   },
   "file_extension": ".py",
   "mimetype": "text/x-python",
   "name": "python",
   "nbconvert_exporter": "python",
   "pygments_lexer": "ipython3",
   "version": "3.8.1"
  }
 },
 "nbformat": 4,
 "nbformat_minor": 4
}
