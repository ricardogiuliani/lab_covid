{
 "cells": [
  {
   "cell_type": "code",
   "execution_count": 2,
   "metadata": {},
   "outputs": [
    {
     "name": "stdout",
     "output_type": "stream",
     "text": [
      "importing Jupyter notebook from covid_dict.ipynb\n"
     ]
    }
   ],
   "source": [
    "import pandas as pd\n",
    "import numpy as np\n",
    "from sklearn.cluster import SpectralCoclustering\n",
    "import import_ipynb\n",
    "import covid_dict as cd"
   ]
  },
  {
   "cell_type": "code",
   "execution_count": 3,
   "metadata": {},
   "outputs": [],
   "source": [
    "document_names = list()\n",
    "for key, value in cd.covid_dict.items():\n",
    "    document_names.append(value)"
   ]
  },
  {
   "cell_type": "code",
   "execution_count": 3,
   "metadata": {},
   "outputs": [],
   "source": [
    "data = pd.read_csv('input_datasets/20201030_binary_matrix.csv', header=None, sep=',')"
   ]
  },
  {
   "cell_type": "code",
   "execution_count": 4,
   "metadata": {},
   "outputs": [
    {
     "data": {
      "text/html": [
       "<div>\n",
       "<style scoped>\n",
       "    .dataframe tbody tr th:only-of-type {\n",
       "        vertical-align: middle;\n",
       "    }\n",
       "\n",
       "    .dataframe tbody tr th {\n",
       "        vertical-align: top;\n",
       "    }\n",
       "\n",
       "    .dataframe thead th {\n",
       "        text-align: right;\n",
       "    }\n",
       "</style>\n",
       "<table border=\"1\" class=\"dataframe\">\n",
       "  <thead>\n",
       "    <tr style=\"text-align: right;\">\n",
       "      <th></th>\n",
       "      <th>0</th>\n",
       "      <th>1</th>\n",
       "      <th>2</th>\n",
       "      <th>3</th>\n",
       "      <th>4</th>\n",
       "      <th>5</th>\n",
       "      <th>6</th>\n",
       "      <th>7</th>\n",
       "      <th>8</th>\n",
       "      <th>9</th>\n",
       "      <th>...</th>\n",
       "      <th>539</th>\n",
       "      <th>540</th>\n",
       "      <th>541</th>\n",
       "      <th>542</th>\n",
       "      <th>543</th>\n",
       "      <th>544</th>\n",
       "      <th>545</th>\n",
       "      <th>546</th>\n",
       "      <th>547</th>\n",
       "      <th>548</th>\n",
       "    </tr>\n",
       "  </thead>\n",
       "  <tbody>\n",
       "    <tr>\n",
       "      <th>0</th>\n",
       "      <td>1</td>\n",
       "      <td>0</td>\n",
       "      <td>0</td>\n",
       "      <td>0</td>\n",
       "      <td>0</td>\n",
       "      <td>0</td>\n",
       "      <td>0</td>\n",
       "      <td>0</td>\n",
       "      <td>0</td>\n",
       "      <td>0</td>\n",
       "      <td>...</td>\n",
       "      <td>0</td>\n",
       "      <td>0</td>\n",
       "      <td>0</td>\n",
       "      <td>0</td>\n",
       "      <td>0</td>\n",
       "      <td>0</td>\n",
       "      <td>0</td>\n",
       "      <td>0</td>\n",
       "      <td>0</td>\n",
       "      <td>0</td>\n",
       "    </tr>\n",
       "    <tr>\n",
       "      <th>1</th>\n",
       "      <td>1</td>\n",
       "      <td>0</td>\n",
       "      <td>0</td>\n",
       "      <td>0</td>\n",
       "      <td>0</td>\n",
       "      <td>0</td>\n",
       "      <td>0</td>\n",
       "      <td>0</td>\n",
       "      <td>0</td>\n",
       "      <td>0</td>\n",
       "      <td>...</td>\n",
       "      <td>0</td>\n",
       "      <td>0</td>\n",
       "      <td>0</td>\n",
       "      <td>0</td>\n",
       "      <td>0</td>\n",
       "      <td>0</td>\n",
       "      <td>0</td>\n",
       "      <td>0</td>\n",
       "      <td>0</td>\n",
       "      <td>0</td>\n",
       "    </tr>\n",
       "    <tr>\n",
       "      <th>2</th>\n",
       "      <td>1</td>\n",
       "      <td>0</td>\n",
       "      <td>0</td>\n",
       "      <td>0</td>\n",
       "      <td>0</td>\n",
       "      <td>0</td>\n",
       "      <td>0</td>\n",
       "      <td>0</td>\n",
       "      <td>0</td>\n",
       "      <td>0</td>\n",
       "      <td>...</td>\n",
       "      <td>0</td>\n",
       "      <td>0</td>\n",
       "      <td>0</td>\n",
       "      <td>0</td>\n",
       "      <td>0</td>\n",
       "      <td>0</td>\n",
       "      <td>0</td>\n",
       "      <td>0</td>\n",
       "      <td>0</td>\n",
       "      <td>0</td>\n",
       "    </tr>\n",
       "    <tr>\n",
       "      <th>3</th>\n",
       "      <td>1</td>\n",
       "      <td>0</td>\n",
       "      <td>0</td>\n",
       "      <td>0</td>\n",
       "      <td>0</td>\n",
       "      <td>0</td>\n",
       "      <td>0</td>\n",
       "      <td>0</td>\n",
       "      <td>0</td>\n",
       "      <td>0</td>\n",
       "      <td>...</td>\n",
       "      <td>0</td>\n",
       "      <td>0</td>\n",
       "      <td>0</td>\n",
       "      <td>0</td>\n",
       "      <td>0</td>\n",
       "      <td>0</td>\n",
       "      <td>0</td>\n",
       "      <td>0</td>\n",
       "      <td>0</td>\n",
       "      <td>0</td>\n",
       "    </tr>\n",
       "    <tr>\n",
       "      <th>4</th>\n",
       "      <td>0</td>\n",
       "      <td>1</td>\n",
       "      <td>0</td>\n",
       "      <td>0</td>\n",
       "      <td>0</td>\n",
       "      <td>0</td>\n",
       "      <td>0</td>\n",
       "      <td>0</td>\n",
       "      <td>0</td>\n",
       "      <td>0</td>\n",
       "      <td>...</td>\n",
       "      <td>0</td>\n",
       "      <td>1</td>\n",
       "      <td>0</td>\n",
       "      <td>0</td>\n",
       "      <td>0</td>\n",
       "      <td>0</td>\n",
       "      <td>0</td>\n",
       "      <td>1</td>\n",
       "      <td>0</td>\n",
       "      <td>0</td>\n",
       "    </tr>\n",
       "    <tr>\n",
       "      <th>...</th>\n",
       "      <td>...</td>\n",
       "      <td>...</td>\n",
       "      <td>...</td>\n",
       "      <td>...</td>\n",
       "      <td>...</td>\n",
       "      <td>...</td>\n",
       "      <td>...</td>\n",
       "      <td>...</td>\n",
       "      <td>...</td>\n",
       "      <td>...</td>\n",
       "      <td>...</td>\n",
       "      <td>...</td>\n",
       "      <td>...</td>\n",
       "      <td>...</td>\n",
       "      <td>...</td>\n",
       "      <td>...</td>\n",
       "      <td>...</td>\n",
       "      <td>...</td>\n",
       "      <td>...</td>\n",
       "      <td>...</td>\n",
       "      <td>...</td>\n",
       "    </tr>\n",
       "    <tr>\n",
       "      <th>233403</th>\n",
       "      <td>0</td>\n",
       "      <td>0</td>\n",
       "      <td>0</td>\n",
       "      <td>0</td>\n",
       "      <td>0</td>\n",
       "      <td>0</td>\n",
       "      <td>0</td>\n",
       "      <td>0</td>\n",
       "      <td>0</td>\n",
       "      <td>0</td>\n",
       "      <td>...</td>\n",
       "      <td>0</td>\n",
       "      <td>0</td>\n",
       "      <td>0</td>\n",
       "      <td>0</td>\n",
       "      <td>0</td>\n",
       "      <td>0</td>\n",
       "      <td>0</td>\n",
       "      <td>0</td>\n",
       "      <td>0</td>\n",
       "      <td>0</td>\n",
       "    </tr>\n",
       "    <tr>\n",
       "      <th>233404</th>\n",
       "      <td>0</td>\n",
       "      <td>0</td>\n",
       "      <td>0</td>\n",
       "      <td>0</td>\n",
       "      <td>0</td>\n",
       "      <td>0</td>\n",
       "      <td>0</td>\n",
       "      <td>0</td>\n",
       "      <td>0</td>\n",
       "      <td>0</td>\n",
       "      <td>...</td>\n",
       "      <td>0</td>\n",
       "      <td>0</td>\n",
       "      <td>0</td>\n",
       "      <td>0</td>\n",
       "      <td>0</td>\n",
       "      <td>0</td>\n",
       "      <td>0</td>\n",
       "      <td>0</td>\n",
       "      <td>0</td>\n",
       "      <td>0</td>\n",
       "    </tr>\n",
       "    <tr>\n",
       "      <th>233405</th>\n",
       "      <td>0</td>\n",
       "      <td>0</td>\n",
       "      <td>0</td>\n",
       "      <td>0</td>\n",
       "      <td>0</td>\n",
       "      <td>0</td>\n",
       "      <td>0</td>\n",
       "      <td>0</td>\n",
       "      <td>0</td>\n",
       "      <td>0</td>\n",
       "      <td>...</td>\n",
       "      <td>0</td>\n",
       "      <td>0</td>\n",
       "      <td>0</td>\n",
       "      <td>0</td>\n",
       "      <td>0</td>\n",
       "      <td>0</td>\n",
       "      <td>0</td>\n",
       "      <td>0</td>\n",
       "      <td>0</td>\n",
       "      <td>0</td>\n",
       "    </tr>\n",
       "    <tr>\n",
       "      <th>233406</th>\n",
       "      <td>0</td>\n",
       "      <td>0</td>\n",
       "      <td>0</td>\n",
       "      <td>0</td>\n",
       "      <td>0</td>\n",
       "      <td>0</td>\n",
       "      <td>0</td>\n",
       "      <td>0</td>\n",
       "      <td>0</td>\n",
       "      <td>0</td>\n",
       "      <td>...</td>\n",
       "      <td>0</td>\n",
       "      <td>0</td>\n",
       "      <td>0</td>\n",
       "      <td>0</td>\n",
       "      <td>0</td>\n",
       "      <td>0</td>\n",
       "      <td>0</td>\n",
       "      <td>0</td>\n",
       "      <td>0</td>\n",
       "      <td>0</td>\n",
       "    </tr>\n",
       "    <tr>\n",
       "      <th>233407</th>\n",
       "      <td>0</td>\n",
       "      <td>0</td>\n",
       "      <td>0</td>\n",
       "      <td>0</td>\n",
       "      <td>0</td>\n",
       "      <td>0</td>\n",
       "      <td>0</td>\n",
       "      <td>0</td>\n",
       "      <td>0</td>\n",
       "      <td>0</td>\n",
       "      <td>...</td>\n",
       "      <td>0</td>\n",
       "      <td>0</td>\n",
       "      <td>0</td>\n",
       "      <td>0</td>\n",
       "      <td>0</td>\n",
       "      <td>0</td>\n",
       "      <td>0</td>\n",
       "      <td>0</td>\n",
       "      <td>0</td>\n",
       "      <td>0</td>\n",
       "    </tr>\n",
       "  </tbody>\n",
       "</table>\n",
       "<p>233408 rows × 549 columns</p>\n",
       "</div>"
      ],
      "text/plain": [
       "        0    1    2    3    4    5    6    7    8    9    ...  539  540  541  \\\n",
       "0         1    0    0    0    0    0    0    0    0    0  ...    0    0    0   \n",
       "1         1    0    0    0    0    0    0    0    0    0  ...    0    0    0   \n",
       "2         1    0    0    0    0    0    0    0    0    0  ...    0    0    0   \n",
       "3         1    0    0    0    0    0    0    0    0    0  ...    0    0    0   \n",
       "4         0    1    0    0    0    0    0    0    0    0  ...    0    1    0   \n",
       "...     ...  ...  ...  ...  ...  ...  ...  ...  ...  ...  ...  ...  ...  ...   \n",
       "233403    0    0    0    0    0    0    0    0    0    0  ...    0    0    0   \n",
       "233404    0    0    0    0    0    0    0    0    0    0  ...    0    0    0   \n",
       "233405    0    0    0    0    0    0    0    0    0    0  ...    0    0    0   \n",
       "233406    0    0    0    0    0    0    0    0    0    0  ...    0    0    0   \n",
       "233407    0    0    0    0    0    0    0    0    0    0  ...    0    0    0   \n",
       "\n",
       "        542  543  544  545  546  547  548  \n",
       "0         0    0    0    0    0    0    0  \n",
       "1         0    0    0    0    0    0    0  \n",
       "2         0    0    0    0    0    0    0  \n",
       "3         0    0    0    0    0    0    0  \n",
       "4         0    0    0    0    1    0    0  \n",
       "...     ...  ...  ...  ...  ...  ...  ...  \n",
       "233403    0    0    0    0    0    0    0  \n",
       "233404    0    0    0    0    0    0    0  \n",
       "233405    0    0    0    0    0    0    0  \n",
       "233406    0    0    0    0    0    0    0  \n",
       "233407    0    0    0    0    0    0    0  \n",
       "\n",
       "[233408 rows x 549 columns]"
      ]
     },
     "execution_count": 4,
     "metadata": {},
     "output_type": "execute_result"
    }
   ],
   "source": [
    "data"
   ]
  },
  {
   "cell_type": "code",
   "execution_count": 5,
   "metadata": {},
   "outputs": [
    {
     "data": {
      "text/plain": [
       "SpectralCoclustering(n_clusters=6, random_state=0)"
      ]
     },
     "execution_count": 5,
     "metadata": {},
     "output_type": "execute_result"
    }
   ],
   "source": [
    "clustering = SpectralCoclustering(n_clusters=6, random_state=0)\n",
    "clustering.fit(data)"
   ]
  },
  {
   "cell_type": "code",
   "execution_count": 6,
   "metadata": {},
   "outputs": [
    {
     "name": "stdout",
     "output_type": "stream",
     "text": [
      "Cluster: 1 -> (81079)\n",
      "Atributos:  ALTO FELIZ, ARAMBARÉ, ARARICÁ, ARROIO DO MEIO, ARROIO DOS RATOS, ARVOREZINHA, BARRA DO RIBEIRO, BOA VISTA DO SUL, BUTIÁ, CACHOEIRA DO SUL, CAIBATÉ, CAMAQUÃ, CAMPESTRE DA SERRA, CANDIOTA, CANELA, CANGUÇU, CAPÃO BONITO DO SUL, CAPÃO DA CANOA, CAPÃO DO LEÃO, CAPIVARI DO SUL, CAPELA DE SANTANA, CARAÁ, CATUÍPE, CERRITO, CERRO LARGO, COLORADO, CORONEL BARROS, CORONEL BICACO, CRUZ ALTA, ESTRELA VELHA, FLORES DA CUNHA, FREDERICO WESTPHALEN, GENERAL CÂMARA, GRAMADO, GUAÍBA, IJUÍ, ITAQUI, IVORÁ, IVOTI, JAGUARÃO, MONTENEGRO, MORRO REUTER, MOSTARDAS, NOVA SANTA RITA, NOVO HAMBURGO, NOVO BARREIRO, PALMEIRA DAS MISSÕES, PALMITINHO, PARECI NOVO, PEJUÇARA, PICADA CAFÉ, PINHAL, PINHEIRO MACHADO, PORTO LUCENA, QUEVEDOS, RESTINGA SECA, RODEIO BONITO, ROLADOR, SALVADOR DO SUL, SANTA CRUZ DO SUL, SANTA MARIA DO HERVAL, SANTANA DO LIVRAMENTO, SANTO ANTÔNIO DO PALMA, SANTO ANTÔNIO DA PATRULHA, SANTO ANTÔNIO DO PLANALTO, SÃO FRANCISCO DE ASSIS, SÃO JOSÉ DO HORTÊNCIO, SÃO JOSÉ DOS AUSENTES, SÃO LOURENÇO DO SUL, SÃO PEDRO DA SERRA, SÃO SEBASTIÃO DO CAÍ, SAPIRANGA, SEGREDO, TAQUARI, TAVARES, TRÊS DE MAIO, TUCUNDUVA, TUPANCIRETÃ, URUGUAIANA, VILA MARIA, VISTA ALEGRE DO PRATA, XANGRI-LÁ, Adulto, Outros Testes, Clínico Epidemiológico, Junho, Julho, Agosto, Setembro, RECUPERADO, BRANCA, PARDA, SexF, Prof_Saude, Tosse, Outros_Sint, Gestante, Presidiario, \n",
      "\n",
      "Cluster: 2 -> (72622)\n",
      "Atributos:  ACEGUÁ, AGUDO, ALMIRANTE TAMANDARÉ DO SUL, ALVORADA, ARROIO GRANDE, BAGÉ, BARRA DO GUARITA, BARRA DO QUARAÍ, BARROS CASSAL, BOA VISTA DO BURICÁ, BOA VISTA DO CADEADO, BOZANO, CACEQUI, CACHOEIRINHA, CANOAS, CARAZINHO, CARLOS GOMES, CAXIAS DO SUL, CENTENÁRIO, CERRO GRANDE, CHARQUEADAS, CRISTAL, DAVID CANABARRO, DEZESSEIS DE NOVEMBRO, DOIS LAJEADOS, DOM PEDRO DE ALCÂNTARA, DOUTOR MAURÍCIO CARDOSO, ERNESTINA, HERVAL, ERVAL SECO, ESTEIO, EUGÊNIO DE CASTRO, FAXINAL DO SOTURNO, GRAMADO XAVIER, GRAVATAÍ, GUARANI DAS MISSÕES, HULHA NEGRA, IGREJINHA, ILÓPOLIS, IMBÉ, IPIRANGA DO SUL, JAGUARI, LAGOA BONITA DO SUL, LAJEADO DO BUGRE, LINHA NOVA, MAQUINÉ, MATO QUEIMADO, MINAS DO LEÃO, MORRO REDONDO, MUITOS CAPÕES, NOVA BOA VISTA, NOVA ESPERANÇA DO SUL, NOVA HARTZ, NOVA PÁDUA, NOVA PALMA, NOVA RAMADA, NOVO CABRAIS, NOVO XINGU, PARAÍSO DO SUL, PAROBÉ, PEDRAS ALTAS, PELOTAS, PINHAL DA SERRA, PORTO ALEGRE, PORTO MAUÁ, PUTINGA, RIOZINHO, RONDINHA, ROQUE GONZALES, ROSÁRIO DO SUL, SAGRADA FAMÍLIA, SANTA MARIA, SÃO JOÃO DO POLÊSINE, SÃO PAULO DAS MISSÕES, SÃO PEDRO DAS MISSÕES, SÃO SEPÉ, SAPUCAIA DO SUL, SENTINELA DO SUL, SOBRADINHO, TAPES, TAQUARA, TOROPI, TORRES, TRAMANDAÍ, TRÊS COROAS, UNISTALDA, VIAMÃO, VICENTE DUTRA, VILA NOVA DO SUL, VISTA ALEGRE, VISTA GAÚCHA, VITÓRIA DAS MISSÕES, RT-PCR, Março, Outubro, NAO INFORMADO, PRETA, SexM, Febre, Garganta, DRespiratoria, DCromossomica, \n",
      "\n",
      "Cluster: 3 -> (566)\n",
      "Atributos:  ÁGUA SANTA, BENJAMIN CONSTANT DO SUL, CHARRUA, COQUEIRO BAIXO, GENTIL, IRAÍ, LIBERATO SALZANO, REDENTORA, RONDA ALTA, SÃO VALÉRIO DO SUL, TENENTE PORTELA, TRÊS PALMEIRAS, INDIGENA, \n",
      "\n",
      "Cluster: 4 -> (19363)\n",
      "Atributos:  ARROIO DO PADRE, ESMERALDA, MATA, NICOLAU VERGUEIRO, PINTO BANDEIRA, SÃO JOSÉ DO SUL, SÃO NICOLAU, SÃO VICENTE DO SUL, TUNAS, UBIRETAMA, Idoso_1, Idoso_2, Clínico-Imagem, Abril, OBITO, OBITO OUTRAS CAUSAS, Hospitalizado, Hosp_SRAG, Dispneia, Asma, DNeurologica, Diabetes, Imunodef, DRenal, DHepatica, DCardiaca, Obesidade, Outras_Comorbidades, DHematologica, Sindrome_down, \n",
      "\n",
      "Cluster: 5 -> (58843)\n",
      "Atributos:  AJURICABA, ALECRIM, ALEGRETE, ALEGRIA, ALPESTRE, ALTO ALEGRE, AMARAL FERRADOR, AMETISTA DO SUL, ANDRÉ DA ROCHA, ANTA GORDA, ANTÔNIO PRADO, ARATIBA, ARROIO DO SAL, ARROIO DO TIGRE, AUGUSTO PESTANA, ÁUREA, BALNEÁRIO PINHAL, BARÃO, BARÃO DE COTEGIPE, BARÃO DO TRIUNFO, BARRACÃO, BARRA DO RIO AZUL, BARRA FUNDA, BENTO GONÇALVES, BOA VISTA DAS MISSÕES, BOA VISTA DO INCRA, BOM JESUS, BOM PRINCÍPIO, BOM PROGRESSO, BOM RETIRO DO SUL, BOQUEIRÃO DO LEÃO, BOSSOROCA, BRAGA, BROCHIER, CAÇAPAVA DO SUL, CAIÇARA, CAMARGO, CAMBARÁ DO SUL, CAMPINA DAS MISSÕES, CAMPINAS DO SUL, CAMPO BOM, CAMPO NOVO, CAMPOS BORGES, CANDELÁRIA, CÂNDIDO GODÓI, CANUDOS DO VALE, CAPÃO DO CIPÓ, CAPITÃO, CARLOS BARBOSA, CASCA, CASEIROS, CERRO GRANDE DO SUL, CHAPADA, CHIAPETTA, CHUÍ, CHUVISCA, CIDREIRA, CIRÍACO, COLINAS, CONDOR, COQUEIROS DO SUL, CORONEL PILAR, COTIPORÃ, COXILHA, CRISSIUMAL, CRISTAL DO SUL, CRUZALTENSE, CRUZEIRO DO SUL, DERRUBADAS, DILERMANDO DE AGUIAR, DOIS IRMÃOS, DOIS IRMÃOS DAS MISSÕES, DOM FELICIANO, DOM PEDRITO, DONA FRANCISCA, DOUTOR RICARDO, ELDORADO DO SUL, ENCANTADO, ENCRUZILHADA DO SUL, ENTRE-IJUÍS, ENTRE RIOS DO SUL, EREBANGO, ERECHIM, ERVAL GRANDE, ESPERANÇA DO SUL, ESPUMOSO, ESTAÇÃO, ESTÂNCIA VELHA, ESTRELA, FAGUNDES VARELA, FARROUPILHA, FAZENDA VILANOVA, FELIZ, FLORIANO PEIXOTO, FONTOURA XAVIER, FORMIGUEIRO, FORQUETINHA, FORTALEZA DOS VALOS, GARIBALDI, GAURAMA, GETÚLIO VARGAS, GIRUÁ, GLORINHA, GUABIJU, GUAPORÉ, HARMONIA, HERVEIRAS, HORIZONTINA, HUMAITÁ, IBARAMA, IBIAÇÁ, IBIRAIARAS, IBIRAPUITÃ, IBIRUBÁ, IMIGRANTE, INDEPENDÊNCIA, INHACORÁ, IPÊ, ITAARA, ITACURUBI, ITAPUCA, ITATI, ITATIBA DO SUL, JABOTICABA, JACUIZINHO, JACUTINGA, JAQUIRANA, JARI, JÓIA, JÚLIO DE CASTILHOS, LAGOÃO, LAGOA DOS TRÊS CANTOS, LAGOA VERMELHA, LAJEADO, LAVRAS DO SUL, LINDOLFO COLLOR, MACHADINHO, MAÇAMBARÁ, MAMPITUBA, MANOEL VIANA, MARATÁ, MARAU, MARCELINO RAMOS, MARIANO MORO, MARQUES DE SOUZA, MATO CASTELHANO, MATO LEITÃO, MAXIMILIANO DE ALMEIDA, MIRAGUAÍ, MONTAURI, MONTE ALEGRE DOS CAMPOS, MONTE BELO DO SUL, MORMAÇO, MORRINHOS DO SUL, MUÇUM, NÃO-ME-TOQUE, NONOAI, NOVA ALVORADA, NOVA ARAÇÁ, NOVA BASSANO, NOVA BRÉSCIA, NOVA CANDELÁRIA, NOVA PETRÓPOLIS, NOVA PRATA, NOVA ROMA DO SUL, NOVO MACHADO, NOVO TIRADENTES, OSÓRIO, PAIM FILHO, PALMARES DO SUL, PANAMBI, PANTANO GRANDE, PARAÍ, PASSA SETE, PASSO DO SOBRADO, PASSO FUNDO, PAULO BENTO, PAVERAMA, PEDRO OSÓRIO, PINHAL GRANDE, PINHEIRINHO DO VALE, PIRAPÓ, PIRATINI, POÇO DAS ANTAS, PONTÃO, PONTE PRETA, PORTÃO, PORTO VERA CRUZ, PORTO XAVIER, POUSO NOVO, PRESIDENTE LUCENA, PROGRESSO, PROTÁSIO ALVES, QUARAÍ, QUATRO IRMÃOS, QUINZE DE NOVEMBRO, RELVADO, RIO DOS ÍNDIOS, RIO GRANDE, RIO PARDO, ROCA SALES, ROLANTE, SALDANHA MARINHO, SALTO DO JACUÍ, SALVADOR DAS MISSÕES, SANANDUVA, SANTA BÁRBARA DO SUL, SANTA CECÍLIA DO SUL, SANTA CLARA DO SUL, SANTA MARGARIDA DO SUL, SANTANA DA BOA VISTA, SANTA ROSA, SANTA TEREZA, SANTA VITÓRIA DO PALMAR, SANTIAGO, SANTO ÂNGELO, SANTO ANTÔNIO DAS MISSÕES, SANTO AUGUSTO, SANTO CRISTO, SANTO EXPEDITO DO SUL, SÃO BORJA, SÃO DOMINGOS DO SUL, SÃO FRANCISCO DE PAULA, SÃO GABRIEL, SÃO JERÔNIMO, SÃO JOÃO DA URTIGA, SÃO JORGE, SÃO JOSÉ DAS MISSÕES, SÃO JOSÉ DO HERVAL, SÃO JOSÉ DO INHACORÁ, SÃO JOSÉ DO NORTE, SÃO JOSÉ DO OURO, SÃO LEOPOLDO, SÃO LUIZ GONZAGA, SÃO MARCOS, SÃO MARTINHO, SÃO MARTINHO DA SERRA, SÃO MIGUEL DAS MISSÕES, SÃO PEDRO DO BUTIÁ, SÃO PEDRO DO SUL, SÃO VALENTIM, SÃO VALENTIM DO SUL, SÃO VENDELINO, SARANDI, SEBERI, SEDE NOVA, SELBACH, SENADOR SALGADO FILHO, SERAFINA CORRÊA, SÉRIO, SERTÃO, SERTÃO SANTANA, SETE DE SETEMBRO, SEVERIANO DE ALMEIDA, SILVEIRA MARTINS, SINIMBU, SOLEDADE, TABAÍ, TAPEJARA, TAPERA, TAQUARUÇU DO SUL, TERRA DE AREIA, TEUTÔNIA, TIO HUGO, TIRADENTES DO SUL, TRAVESSEIRO, TRÊS ARROIOS, TRÊS CACHOEIRAS, TRÊS FORQUILHAS, TRÊS PASSOS, TRINDADE DO SUL, TRIUNFO, TUPANCI DO SUL, TUPANDI, TUPARENDI, TURUÇU, UNIÃO DA SERRA, VACARIA, VALE VERDE, VALE DO SOL, VALE REAL, VANINI, VENÂNCIO AIRES, VERA CRUZ, VERANÓPOLIS, VESPASIANO CORREA, VIADUTOS, VICTOR GRAEFF, VILA FLORES, VILA LÂNGARO, WESTFALIA, Bebê, Criança, Jovem, TESTE RÁPIDO, Clínico, Maio, AMARELA, \n",
      "\n",
      "Cluster: 6 -> (935)\n",
      "Atributos:  CACIQUE DOBLE, CONSTANTINA, ENGENHO VELHO, FAXINALZINHO, GRAMADO DOS LOUREIROS, MARIANA PIMENTEL, MULITERNO, PLANALTO, \n",
      "\n"
     ]
    }
   ],
   "source": [
    "for i in range(len(clustering.rows_)):\n",
    "    num_objects = clustering.get_shape(i)[0]\n",
    "    print(f'Cluster: {i+1} -> ({clustering.get_shape(i)[0]})')\n",
    "    print(\"Atributos: \", end=' ')\n",
    "    for e in clustering.get_indices(i)[1]:\n",
    "        print(document_names[int(e)], end=', ')\n",
    "    print('\\n')"
   ]
  },
  {
   "cell_type": "markdown",
   "metadata": {},
   "source": [
    "## Óbitos"
   ]
  },
  {
   "cell_type": "code",
   "execution_count": 4,
   "metadata": {},
   "outputs": [],
   "source": [
    "obitos = pd.read_csv('input_datasets/20201030_death_matrix.csv', header=None, sep=',')"
   ]
  },
  {
   "cell_type": "code",
   "execution_count": 5,
   "metadata": {},
   "outputs": [
    {
     "name": "stderr",
     "output_type": "stream",
     "text": [
      "/Library/Frameworks/Python.framework/Versions/3.8/lib/python3.8/site-packages/sklearn/cluster/_bicluster.py:37: RuntimeWarning: divide by zero encountered in true_divide\n",
      "  col_diag = np.asarray(1.0 / np.sqrt(X.sum(axis=0))).squeeze()\n",
      "/Library/Frameworks/Python.framework/Versions/3.8/lib/python3.8/site-packages/sklearn/cluster/_bicluster.py:46: RuntimeWarning: invalid value encountered in multiply\n",
      "  an = row_diag[:, np.newaxis] * X * col_diag\n"
     ]
    },
    {
     "ename": "ValueError",
     "evalue": "array must not contain infs or NaNs",
     "output_type": "error",
     "traceback": [
      "\u001b[0;31m---------------------------------------------------------------------------\u001b[0m",
      "\u001b[0;31mValueError\u001b[0m                                Traceback (most recent call last)",
      "\u001b[0;32m<ipython-input-5-e5ab7f2afac0>\u001b[0m in \u001b[0;36m<module>\u001b[0;34m\u001b[0m\n\u001b[1;32m      1\u001b[0m \u001b[0mdeath_clustering\u001b[0m \u001b[0;34m=\u001b[0m \u001b[0mSpectralCoclustering\u001b[0m\u001b[0;34m(\u001b[0m\u001b[0mn_clusters\u001b[0m\u001b[0;34m=\u001b[0m\u001b[0;36m6\u001b[0m\u001b[0;34m,\u001b[0m \u001b[0mrandom_state\u001b[0m\u001b[0;34m=\u001b[0m\u001b[0;36m0\u001b[0m\u001b[0;34m)\u001b[0m\u001b[0;34m\u001b[0m\u001b[0;34m\u001b[0m\u001b[0m\n\u001b[0;32m----> 2\u001b[0;31m \u001b[0mdeath_clustering\u001b[0m\u001b[0;34m.\u001b[0m\u001b[0mfit\u001b[0m\u001b[0;34m(\u001b[0m\u001b[0mobitos\u001b[0m\u001b[0;34m)\u001b[0m\u001b[0;34m\u001b[0m\u001b[0;34m\u001b[0m\u001b[0m\n\u001b[0m",
      "\u001b[0;32m/Library/Frameworks/Python.framework/Versions/3.8/lib/python3.8/site-packages/sklearn/cluster/_bicluster.py\u001b[0m in \u001b[0;36mfit\u001b[0;34m(self, X, y)\u001b[0m\n\u001b[1;32m    123\u001b[0m         \u001b[0mX\u001b[0m \u001b[0;34m=\u001b[0m \u001b[0mself\u001b[0m\u001b[0;34m.\u001b[0m\u001b[0m_validate_data\u001b[0m\u001b[0;34m(\u001b[0m\u001b[0mX\u001b[0m\u001b[0;34m,\u001b[0m \u001b[0maccept_sparse\u001b[0m\u001b[0;34m=\u001b[0m\u001b[0;34m'csr'\u001b[0m\u001b[0;34m,\u001b[0m \u001b[0mdtype\u001b[0m\u001b[0;34m=\u001b[0m\u001b[0mnp\u001b[0m\u001b[0;34m.\u001b[0m\u001b[0mfloat64\u001b[0m\u001b[0;34m)\u001b[0m\u001b[0;34m\u001b[0m\u001b[0;34m\u001b[0m\u001b[0m\n\u001b[1;32m    124\u001b[0m         \u001b[0mself\u001b[0m\u001b[0;34m.\u001b[0m\u001b[0m_check_parameters\u001b[0m\u001b[0;34m(\u001b[0m\u001b[0;34m)\u001b[0m\u001b[0;34m\u001b[0m\u001b[0;34m\u001b[0m\u001b[0m\n\u001b[0;32m--> 125\u001b[0;31m         \u001b[0mself\u001b[0m\u001b[0;34m.\u001b[0m\u001b[0m_fit\u001b[0m\u001b[0;34m(\u001b[0m\u001b[0mX\u001b[0m\u001b[0;34m)\u001b[0m\u001b[0;34m\u001b[0m\u001b[0;34m\u001b[0m\u001b[0m\n\u001b[0m\u001b[1;32m    126\u001b[0m         \u001b[0;32mreturn\u001b[0m \u001b[0mself\u001b[0m\u001b[0;34m\u001b[0m\u001b[0;34m\u001b[0m\u001b[0m\n\u001b[1;32m    127\u001b[0m \u001b[0;34m\u001b[0m\u001b[0m\n",
      "\u001b[0;32m/Library/Frameworks/Python.framework/Versions/3.8/lib/python3.8/site-packages/sklearn/cluster/_bicluster.py\u001b[0m in \u001b[0;36m_fit\u001b[0;34m(self, X)\u001b[0m\n\u001b[1;32m    301\u001b[0m         \u001b[0mnormalized_data\u001b[0m\u001b[0;34m,\u001b[0m \u001b[0mrow_diag\u001b[0m\u001b[0;34m,\u001b[0m \u001b[0mcol_diag\u001b[0m \u001b[0;34m=\u001b[0m \u001b[0m_scale_normalize\u001b[0m\u001b[0;34m(\u001b[0m\u001b[0mX\u001b[0m\u001b[0;34m)\u001b[0m\u001b[0;34m\u001b[0m\u001b[0;34m\u001b[0m\u001b[0m\n\u001b[1;32m    302\u001b[0m         \u001b[0mn_sv\u001b[0m \u001b[0;34m=\u001b[0m \u001b[0;36m1\u001b[0m \u001b[0;34m+\u001b[0m \u001b[0mint\u001b[0m\u001b[0;34m(\u001b[0m\u001b[0mnp\u001b[0m\u001b[0;34m.\u001b[0m\u001b[0mceil\u001b[0m\u001b[0;34m(\u001b[0m\u001b[0mnp\u001b[0m\u001b[0;34m.\u001b[0m\u001b[0mlog2\u001b[0m\u001b[0;34m(\u001b[0m\u001b[0mself\u001b[0m\u001b[0;34m.\u001b[0m\u001b[0mn_clusters\u001b[0m\u001b[0;34m)\u001b[0m\u001b[0;34m)\u001b[0m\u001b[0;34m)\u001b[0m\u001b[0;34m\u001b[0m\u001b[0;34m\u001b[0m\u001b[0m\n\u001b[0;32m--> 303\u001b[0;31m         \u001b[0mu\u001b[0m\u001b[0;34m,\u001b[0m \u001b[0mv\u001b[0m \u001b[0;34m=\u001b[0m \u001b[0mself\u001b[0m\u001b[0;34m.\u001b[0m\u001b[0m_svd\u001b[0m\u001b[0;34m(\u001b[0m\u001b[0mnormalized_data\u001b[0m\u001b[0;34m,\u001b[0m \u001b[0mn_sv\u001b[0m\u001b[0;34m,\u001b[0m \u001b[0mn_discard\u001b[0m\u001b[0;34m=\u001b[0m\u001b[0;36m1\u001b[0m\u001b[0;34m)\u001b[0m\u001b[0;34m\u001b[0m\u001b[0;34m\u001b[0m\u001b[0m\n\u001b[0m\u001b[1;32m    304\u001b[0m         z = np.vstack((row_diag[:, np.newaxis] * u,\n\u001b[1;32m    305\u001b[0m                        col_diag[:, np.newaxis] * v))\n",
      "\u001b[0;32m/Library/Frameworks/Python.framework/Versions/3.8/lib/python3.8/site-packages/sklearn/cluster/_bicluster.py\u001b[0m in \u001b[0;36m_svd\u001b[0;34m(self, array, n_components, n_discard)\u001b[0m\n\u001b[1;32m    135\u001b[0m             \u001b[0;32mif\u001b[0m \u001b[0mself\u001b[0m\u001b[0;34m.\u001b[0m\u001b[0mn_svd_vecs\u001b[0m \u001b[0;32mis\u001b[0m \u001b[0;32mnot\u001b[0m \u001b[0;32mNone\u001b[0m\u001b[0;34m:\u001b[0m\u001b[0;34m\u001b[0m\u001b[0;34m\u001b[0m\u001b[0m\n\u001b[1;32m    136\u001b[0m                 \u001b[0mkwargs\u001b[0m\u001b[0;34m[\u001b[0m\u001b[0;34m'n_oversamples'\u001b[0m\u001b[0;34m]\u001b[0m \u001b[0;34m=\u001b[0m \u001b[0mself\u001b[0m\u001b[0;34m.\u001b[0m\u001b[0mn_svd_vecs\u001b[0m\u001b[0;34m\u001b[0m\u001b[0;34m\u001b[0m\u001b[0m\n\u001b[0;32m--> 137\u001b[0;31m             u, _, vt = randomized_svd(array, n_components,\n\u001b[0m\u001b[1;32m    138\u001b[0m                                       \u001b[0mrandom_state\u001b[0m\u001b[0;34m=\u001b[0m\u001b[0mself\u001b[0m\u001b[0;34m.\u001b[0m\u001b[0mrandom_state\u001b[0m\u001b[0;34m,\u001b[0m\u001b[0;34m\u001b[0m\u001b[0;34m\u001b[0m\u001b[0m\n\u001b[1;32m    139\u001b[0m                                       **kwargs)\n",
      "\u001b[0;32m/Library/Frameworks/Python.framework/Versions/3.8/lib/python3.8/site-packages/sklearn/utils/validation.py\u001b[0m in \u001b[0;36minner_f\u001b[0;34m(*args, **kwargs)\u001b[0m\n\u001b[1;32m     70\u001b[0m                           FutureWarning)\n\u001b[1;32m     71\u001b[0m         \u001b[0mkwargs\u001b[0m\u001b[0;34m.\u001b[0m\u001b[0mupdate\u001b[0m\u001b[0;34m(\u001b[0m\u001b[0;34m{\u001b[0m\u001b[0mk\u001b[0m\u001b[0;34m:\u001b[0m \u001b[0marg\u001b[0m \u001b[0;32mfor\u001b[0m \u001b[0mk\u001b[0m\u001b[0;34m,\u001b[0m \u001b[0marg\u001b[0m \u001b[0;32min\u001b[0m \u001b[0mzip\u001b[0m\u001b[0;34m(\u001b[0m\u001b[0msig\u001b[0m\u001b[0;34m.\u001b[0m\u001b[0mparameters\u001b[0m\u001b[0;34m,\u001b[0m \u001b[0margs\u001b[0m\u001b[0;34m)\u001b[0m\u001b[0;34m}\u001b[0m\u001b[0;34m)\u001b[0m\u001b[0;34m\u001b[0m\u001b[0;34m\u001b[0m\u001b[0m\n\u001b[0;32m---> 72\u001b[0;31m         \u001b[0;32mreturn\u001b[0m \u001b[0mf\u001b[0m\u001b[0;34m(\u001b[0m\u001b[0;34m**\u001b[0m\u001b[0mkwargs\u001b[0m\u001b[0;34m)\u001b[0m\u001b[0;34m\u001b[0m\u001b[0;34m\u001b[0m\u001b[0m\n\u001b[0m\u001b[1;32m     73\u001b[0m     \u001b[0;32mreturn\u001b[0m \u001b[0minner_f\u001b[0m\u001b[0;34m\u001b[0m\u001b[0;34m\u001b[0m\u001b[0m\n\u001b[1;32m     74\u001b[0m \u001b[0;34m\u001b[0m\u001b[0m\n",
      "\u001b[0;32m/Library/Frameworks/Python.framework/Versions/3.8/lib/python3.8/site-packages/sklearn/utils/extmath.py\u001b[0m in \u001b[0;36mrandomized_svd\u001b[0;34m(M, n_components, n_oversamples, n_iter, power_iteration_normalizer, transpose, flip_sign, random_state)\u001b[0m\n\u001b[1;32m    347\u001b[0m         \u001b[0mM\u001b[0m \u001b[0;34m=\u001b[0m \u001b[0mM\u001b[0m\u001b[0;34m.\u001b[0m\u001b[0mT\u001b[0m\u001b[0;34m\u001b[0m\u001b[0;34m\u001b[0m\u001b[0m\n\u001b[1;32m    348\u001b[0m \u001b[0;34m\u001b[0m\u001b[0m\n\u001b[0;32m--> 349\u001b[0;31m     Q = randomized_range_finder(\n\u001b[0m\u001b[1;32m    350\u001b[0m         \u001b[0mM\u001b[0m\u001b[0;34m,\u001b[0m \u001b[0msize\u001b[0m\u001b[0;34m=\u001b[0m\u001b[0mn_random\u001b[0m\u001b[0;34m,\u001b[0m \u001b[0mn_iter\u001b[0m\u001b[0;34m=\u001b[0m\u001b[0mn_iter\u001b[0m\u001b[0;34m,\u001b[0m\u001b[0;34m\u001b[0m\u001b[0;34m\u001b[0m\u001b[0m\n\u001b[1;32m    351\u001b[0m         \u001b[0mpower_iteration_normalizer\u001b[0m\u001b[0;34m=\u001b[0m\u001b[0mpower_iteration_normalizer\u001b[0m\u001b[0;34m,\u001b[0m\u001b[0;34m\u001b[0m\u001b[0;34m\u001b[0m\u001b[0m\n",
      "\u001b[0;32m/Library/Frameworks/Python.framework/Versions/3.8/lib/python3.8/site-packages/sklearn/utils/validation.py\u001b[0m in \u001b[0;36minner_f\u001b[0;34m(*args, **kwargs)\u001b[0m\n\u001b[1;32m     70\u001b[0m                           FutureWarning)\n\u001b[1;32m     71\u001b[0m         \u001b[0mkwargs\u001b[0m\u001b[0;34m.\u001b[0m\u001b[0mupdate\u001b[0m\u001b[0;34m(\u001b[0m\u001b[0;34m{\u001b[0m\u001b[0mk\u001b[0m\u001b[0;34m:\u001b[0m \u001b[0marg\u001b[0m \u001b[0;32mfor\u001b[0m \u001b[0mk\u001b[0m\u001b[0;34m,\u001b[0m \u001b[0marg\u001b[0m \u001b[0;32min\u001b[0m \u001b[0mzip\u001b[0m\u001b[0;34m(\u001b[0m\u001b[0msig\u001b[0m\u001b[0;34m.\u001b[0m\u001b[0mparameters\u001b[0m\u001b[0;34m,\u001b[0m \u001b[0margs\u001b[0m\u001b[0;34m)\u001b[0m\u001b[0;34m}\u001b[0m\u001b[0;34m)\u001b[0m\u001b[0;34m\u001b[0m\u001b[0;34m\u001b[0m\u001b[0m\n\u001b[0;32m---> 72\u001b[0;31m         \u001b[0;32mreturn\u001b[0m \u001b[0mf\u001b[0m\u001b[0;34m(\u001b[0m\u001b[0;34m**\u001b[0m\u001b[0mkwargs\u001b[0m\u001b[0;34m)\u001b[0m\u001b[0;34m\u001b[0m\u001b[0;34m\u001b[0m\u001b[0m\n\u001b[0m\u001b[1;32m     73\u001b[0m     \u001b[0;32mreturn\u001b[0m \u001b[0minner_f\u001b[0m\u001b[0;34m\u001b[0m\u001b[0;34m\u001b[0m\u001b[0m\n\u001b[1;32m     74\u001b[0m \u001b[0;34m\u001b[0m\u001b[0m\n",
      "\u001b[0;32m/Library/Frameworks/Python.framework/Versions/3.8/lib/python3.8/site-packages/sklearn/utils/extmath.py\u001b[0m in \u001b[0;36mrandomized_range_finder\u001b[0;34m(A, size, n_iter, power_iteration_normalizer, random_state)\u001b[0m\n\u001b[1;32m    232\u001b[0m             \u001b[0mQ\u001b[0m \u001b[0;34m=\u001b[0m \u001b[0msafe_sparse_dot\u001b[0m\u001b[0;34m(\u001b[0m\u001b[0mA\u001b[0m\u001b[0;34m.\u001b[0m\u001b[0mT\u001b[0m\u001b[0;34m,\u001b[0m \u001b[0mQ\u001b[0m\u001b[0;34m)\u001b[0m\u001b[0;34m\u001b[0m\u001b[0;34m\u001b[0m\u001b[0m\n\u001b[1;32m    233\u001b[0m         \u001b[0;32melif\u001b[0m \u001b[0mpower_iteration_normalizer\u001b[0m \u001b[0;34m==\u001b[0m \u001b[0;34m'LU'\u001b[0m\u001b[0;34m:\u001b[0m\u001b[0;34m\u001b[0m\u001b[0;34m\u001b[0m\u001b[0m\n\u001b[0;32m--> 234\u001b[0;31m             \u001b[0mQ\u001b[0m\u001b[0;34m,\u001b[0m \u001b[0m_\u001b[0m \u001b[0;34m=\u001b[0m \u001b[0mlinalg\u001b[0m\u001b[0;34m.\u001b[0m\u001b[0mlu\u001b[0m\u001b[0;34m(\u001b[0m\u001b[0msafe_sparse_dot\u001b[0m\u001b[0;34m(\u001b[0m\u001b[0mA\u001b[0m\u001b[0;34m,\u001b[0m \u001b[0mQ\u001b[0m\u001b[0;34m)\u001b[0m\u001b[0;34m,\u001b[0m \u001b[0mpermute_l\u001b[0m\u001b[0;34m=\u001b[0m\u001b[0;32mTrue\u001b[0m\u001b[0;34m)\u001b[0m\u001b[0;34m\u001b[0m\u001b[0;34m\u001b[0m\u001b[0m\n\u001b[0m\u001b[1;32m    235\u001b[0m             \u001b[0mQ\u001b[0m\u001b[0;34m,\u001b[0m \u001b[0m_\u001b[0m \u001b[0;34m=\u001b[0m \u001b[0mlinalg\u001b[0m\u001b[0;34m.\u001b[0m\u001b[0mlu\u001b[0m\u001b[0;34m(\u001b[0m\u001b[0msafe_sparse_dot\u001b[0m\u001b[0;34m(\u001b[0m\u001b[0mA\u001b[0m\u001b[0;34m.\u001b[0m\u001b[0mT\u001b[0m\u001b[0;34m,\u001b[0m \u001b[0mQ\u001b[0m\u001b[0;34m)\u001b[0m\u001b[0;34m,\u001b[0m \u001b[0mpermute_l\u001b[0m\u001b[0;34m=\u001b[0m\u001b[0;32mTrue\u001b[0m\u001b[0;34m)\u001b[0m\u001b[0;34m\u001b[0m\u001b[0;34m\u001b[0m\u001b[0m\n\u001b[1;32m    236\u001b[0m         \u001b[0;32melif\u001b[0m \u001b[0mpower_iteration_normalizer\u001b[0m \u001b[0;34m==\u001b[0m \u001b[0;34m'QR'\u001b[0m\u001b[0;34m:\u001b[0m\u001b[0;34m\u001b[0m\u001b[0;34m\u001b[0m\u001b[0m\n",
      "\u001b[0;32m/Library/Frameworks/Python.framework/Versions/3.8/lib/python3.8/site-packages/scipy/linalg/decomp_lu.py\u001b[0m in \u001b[0;36mlu\u001b[0;34m(a, permute_l, overwrite_a, check_finite)\u001b[0m\n\u001b[1;32m    206\u001b[0m     \"\"\"\n\u001b[1;32m    207\u001b[0m     \u001b[0;32mif\u001b[0m \u001b[0mcheck_finite\u001b[0m\u001b[0;34m:\u001b[0m\u001b[0;34m\u001b[0m\u001b[0;34m\u001b[0m\u001b[0m\n\u001b[0;32m--> 208\u001b[0;31m         \u001b[0ma1\u001b[0m \u001b[0;34m=\u001b[0m \u001b[0masarray_chkfinite\u001b[0m\u001b[0;34m(\u001b[0m\u001b[0ma\u001b[0m\u001b[0;34m)\u001b[0m\u001b[0;34m\u001b[0m\u001b[0;34m\u001b[0m\u001b[0m\n\u001b[0m\u001b[1;32m    209\u001b[0m     \u001b[0;32melse\u001b[0m\u001b[0;34m:\u001b[0m\u001b[0;34m\u001b[0m\u001b[0;34m\u001b[0m\u001b[0m\n\u001b[1;32m    210\u001b[0m         \u001b[0ma1\u001b[0m \u001b[0;34m=\u001b[0m \u001b[0masarray\u001b[0m\u001b[0;34m(\u001b[0m\u001b[0ma\u001b[0m\u001b[0;34m)\u001b[0m\u001b[0;34m\u001b[0m\u001b[0;34m\u001b[0m\u001b[0m\n",
      "\u001b[0;32m/Library/Frameworks/Python.framework/Versions/3.8/lib/python3.8/site-packages/numpy/lib/function_base.py\u001b[0m in \u001b[0;36masarray_chkfinite\u001b[0;34m(a, dtype, order)\u001b[0m\n\u001b[1;32m    496\u001b[0m     \u001b[0ma\u001b[0m \u001b[0;34m=\u001b[0m \u001b[0masarray\u001b[0m\u001b[0;34m(\u001b[0m\u001b[0ma\u001b[0m\u001b[0;34m,\u001b[0m \u001b[0mdtype\u001b[0m\u001b[0;34m=\u001b[0m\u001b[0mdtype\u001b[0m\u001b[0;34m,\u001b[0m \u001b[0morder\u001b[0m\u001b[0;34m=\u001b[0m\u001b[0morder\u001b[0m\u001b[0;34m)\u001b[0m\u001b[0;34m\u001b[0m\u001b[0;34m\u001b[0m\u001b[0m\n\u001b[1;32m    497\u001b[0m     \u001b[0;32mif\u001b[0m \u001b[0ma\u001b[0m\u001b[0;34m.\u001b[0m\u001b[0mdtype\u001b[0m\u001b[0;34m.\u001b[0m\u001b[0mchar\u001b[0m \u001b[0;32min\u001b[0m \u001b[0mtypecodes\u001b[0m\u001b[0;34m[\u001b[0m\u001b[0;34m'AllFloat'\u001b[0m\u001b[0;34m]\u001b[0m \u001b[0;32mand\u001b[0m \u001b[0;32mnot\u001b[0m \u001b[0mnp\u001b[0m\u001b[0;34m.\u001b[0m\u001b[0misfinite\u001b[0m\u001b[0;34m(\u001b[0m\u001b[0ma\u001b[0m\u001b[0;34m)\u001b[0m\u001b[0;34m.\u001b[0m\u001b[0mall\u001b[0m\u001b[0;34m(\u001b[0m\u001b[0;34m)\u001b[0m\u001b[0;34m:\u001b[0m\u001b[0;34m\u001b[0m\u001b[0;34m\u001b[0m\u001b[0m\n\u001b[0;32m--> 498\u001b[0;31m         raise ValueError(\n\u001b[0m\u001b[1;32m    499\u001b[0m             \"array must not contain infs or NaNs\")\n\u001b[1;32m    500\u001b[0m     \u001b[0;32mreturn\u001b[0m \u001b[0ma\u001b[0m\u001b[0;34m\u001b[0m\u001b[0;34m\u001b[0m\u001b[0m\n",
      "\u001b[0;31mValueError\u001b[0m: array must not contain infs or NaNs"
     ]
    }
   ],
   "source": [
    "death_clustering = SpectralCoclustering(n_clusters=6, random_state=0)\n",
    "death_clustering.fit(obitos)"
   ]
  },
  {
   "cell_type": "code",
   "execution_count": 9,
   "metadata": {},
   "outputs": [
    {
     "name": "stdout",
     "output_type": "stream",
     "text": [
      "Cluster: 1 -> (1994)\n",
      "Atributos:  ALMIRANTE TAMANDARÉ DO SUL, ALTO ALEGRE, AMETISTA DO SUL, ANTÔNIO PRADO, ARARICÁ, BOA VISTA DAS MISSÕES, BOA VISTA DO CADEADO, BOM JESUS, BOM PRINCÍPIO, BOM RETIRO DO SUL, BOQUEIRÃO DO LEÃO, BOSSOROCA, BROCHIER, CAIÇARA, CAMARGO, CAMPINA DAS MISSÕES, CANGUÇU, CAPÃO DO CIPÓ, CAPELA DE SANTANA, CATUÍPE, CERRO GRANDE, CHARRUA, CHIAPETTA, CRUZ ALTA, CRUZEIRO DO SUL, DAVID CANABARRO, DOM FELICIANO, DOM PEDRITO, EREBANGO, ERECHIM, FARROUPILHA, FAZENDA VILANOVA, FLORIANO PEIXOTO, FREDERICO WESTPHALEN, GAURAMA, HORIZONTINA, HULHA NEGRA, IBIAÇÁ, IMIGRANTE, INHACORÁ, IRAÍ, ITACURUBI, ITATI, LAJEADO, LAJEADO DO BUGRE, LINHA NOVA, MARCELINO RAMOS, MARIANO MORO, MARQUES DE SOUZA, MATO QUEIMADO, MINAS DO LEÃO, MONTAURI, MORRINHOS DO SUL, MOSTARDAS, MUITOS CAPÕES, NOVA ALVORADA, NOVA BOA VISTA, NOVA BRÉSCIA, NOVA RAMADA, NOVO TIRADENTES, NOVO XINGU, PALMEIRA DAS MISSÕES, PANTANO GRANDE, PAROBÉ, PASSA SETE, PASSO FUNDO, PAVERAMA, PICADA CAFÉ, PINHAL, PINHEIRINHO DO VALE, PINTO BANDEIRA, POÇO DAS ANTAS, PORTÃO, PORTO VERA CRUZ, RONDINHA, ROSÁRIO DO SUL, SAGRADA FAMÍLIA, SALTO DO JACUÍ, SALVADOR DO SUL, SANTA BÁRBARA DO SUL, SANTA CECÍLIA DO SUL, SANTA CLARA DO SUL, SANTA MARIA DO HERVAL, SANTA MARGARIDA DO SUL, SANTANA DA BOA VISTA, SANTA VITÓRIA DO PALMAR, SANTO AUGUSTO, SÃO BORJA, SÃO FRANCISCO DE PAULA, SÃO JOÃO DA URTIGA, SÃO JOÃO DO POLÊSINE, SÃO JOSÉ DO HERVAL, SÃO JOSÉ DO INHACORÁ, SÃO JOSÉ DO OURO, SÃO JOSÉ DOS AUSENTES, SÃO LOURENÇO DO SUL, SÃO MARCOS, SÃO SEBASTIÃO DO CAÍ, SÃO VALÉRIO DO SUL, SÃO VICENTE DO SUL, SEBERI, SEDE NOVA, SENADOR SALGADO FILHO, \n",
      "\n",
      "Cluster: 2 -> (11)\n",
      "Atributos:  ALVORADA, ARROIO DO PADRE, BENTO GONÇALVES, CAMBARÁ DO SUL, CAMPOS BORGES, CANUDOS DO VALE, CAXIAS DO SUL, CENTENÁRIO, CHARQUEADAS, CIRÍACO, COTIPORÃ, FAXINALZINHO, GRAMADO, JABOTICABA, LAGOA BONITA DO SUL, LAGOA DOS TRÊS CANTOS, LINDOLFO COLLOR, NOVA SANTA RITA, PAULO BENTO, PIRAPÓ, PUTINGA, SALDANHA MARINHO, SÃO JERÔNIMO, \n",
      "\n",
      "Cluster: 3 -> (1003)\n",
      "Atributos:  ALEGRETE, ALPESTRE, BAGÉ, BARÃO, BOA VISTA DO SUL, BUTIÁ, CACHOEIRINHA, CAPÃO DO LEÃO, COLORADO, CONDOR, CRISSIUMAL, CRISTAL, CRUZALTENSE, DOUTOR RICARDO, ENCRUZILHADA DO SUL, HERVAL, FORQUETINHA, GRAMADO XAVIER, GRAVATAÍ, GUAPORÉ, HERVEIRAS, ILÓPOLIS, ITATIBA DO SUL, NÃO-ME-TOQUE, NOVA BASSANO, NOVA ESPERANÇA DO SUL, NOVA PÁDUA, NOVO HAMBURGO, NOVO MACHADO, PELOTAS, PLANALTO, PORTO LUCENA, PORTO XAVIER, POUSO NOVO, PROGRESSO, QUATRO IRMÃOS, QUINZE DE NOVEMBRO, ROLANTE, SANTIAGO, SANTO ANTÔNIO DO PALMA, SANTO ANTÔNIO DO PLANALTO, SÃO NICOLAU, \n",
      "\n",
      "Cluster: 4 -> (2422)\n",
      "Atributos:  ÁGUA SANTA, ALEGRIA, ANDRÉ DA ROCHA, ARROIO DO MEIO, ARROIO DO SAL, ARROIO DOS RATOS, ARVOREZINHA, AUGUSTO PESTANA, BARRA DO GUARITA, BARRA DO RIO AZUL, BARRA FUNDA, BARROS CASSAL, CACIQUE DOBLE, CAIBATÉ, CAMAQUÃ, CAMPESTRE DA SERRA, CÂNDIDO GODÓI, CAPITÃO, CARAÁ, CARLOS GOMES, CERRO LARGO, CIDREIRA, COQUEIROS DO SUL, CORONEL BICACO, CRISTAL DO SUL, ELDORADO DO SUL, ENCANTADO, ENTRE RIOS DO SUL, ERNESTINA, ERVAL GRANDE, ERVAL SECO, ESTAÇÃO, ESTEIO, FONTOURA XAVIER, GENTIL, GUABIJU, GUARANI DAS MISSÕES, HUMAITÁ, IBARAMA, IBIRAPUITÃ, IBIRUBÁ, IGREJINHA, ITAQUI, JAGUARÃO, JÓIA, LAGOÃO, LAGOA VERMELHA, MAÇAMBARÁ, MARIANA PIMENTEL, MAXIMILIANO DE ALMEIDA, MIRAGUAÍ, MORRO REUTER, NOVA ARAÇÁ, NOVA PRATA, NOVA ROMA DO SUL, NOVO BARREIRO, OSÓRIO, PEJUÇARA, PINHAL GRANDE, PIRATINI, QUARAÍ, RELVADO, RESTINGA SECA, RIO PARDO, ROLADOR, RONDA ALTA, SANTANA DO LIVRAMENTO, SANTA ROSA, SANTA TEREZA, SANTO ANTÔNIO DA PATRULHA, SANTO CRISTO, SANTO EXPEDITO DO SUL, SÃO DOMINGOS DO SUL, SÃO FRANCISCO DE ASSIS, SÃO GABRIEL, SÃO JORGE, SÃO JOSÉ DAS MISSÕES, SÃO JOSÉ DO HORTÊNCIO, SÃO JOSÉ DO NORTE, SÃO JOSÉ DO SUL, SÃO LEOPOLDO, SÃO LUIZ GONZAGA, SÃO MARTINHO, SÃO MIGUEL DAS MISSÕES, SÃO PAULO DAS MISSÕES, SÃO PEDRO DA SERRA, SÃO PEDRO DAS MISSÕES, SÃO PEDRO DO BUTIÁ, SÃO PEDRO DO SUL, SÃO SEPÉ, SÃO VALENTIM, SÃO VALENTIM DO SUL, SÃO VENDELINO, SAPIRANGA, SAPUCAIA DO SUL, SARANDI, SEGREDO, SELBACH, SENTINELA DO SUL, SERAFINA CORRÊA, SÉRIO, SERTÃO SANTANA, \n",
      "\n",
      "Cluster: 5 -> (0)\n",
      "Atributos:  ACEGUÁ, AMARAL FERRADOR, ARAMBARÉ, ARROIO DO TIGRE, ÁUREA, BALNEÁRIO PINHAL, BARÃO DE COTEGIPE, BARÃO DO TRIUNFO, BOM PROGRESSO, BOZANO, BRAGA, CAÇAPAVA DO SUL, CACEQUI, CAMPINAS DO SUL, CAMPO BOM, CANDELÁRIA, CANDIOTA, CAPÃO BONITO DO SUL, CAPÃO DA CANOA, CASCA, CERRITO, CERRO GRANDE DO SUL, CHAPADA, CHUÍ, CHUVISCA, COLINAS, CONSTANTINA, CORONEL BARROS, CORONEL PILAR, DILERMANDO DE AGUIAR, DOIS IRMÃOS, DOIS IRMÃOS DAS MISSÕES, DOIS LAJEADOS, ENGENHO VELHO, ESMERALDA, ESPERANÇA DO SUL, ESPUMOSO, ESTRELA VELHA, FAXINAL DO SOTURNO, FELIZ, FLORES DA CUNHA, FORMIGUEIRO, FORTALEZA DOS VALOS, GARIBALDI, GETÚLIO VARGAS, GIRUÁ, GLORINHA, GRAMADO DOS LOUREIROS, HARMONIA, IBIRAIARAS, IPÊ, IPIRANGA DO SUL, ITAPUCA, JACUIZINHO, JARI, LAVRAS DO SUL, MAMPITUBA, MAQUINÉ, MARATÁ, MARAU, MATO LEITÃO, MONTE ALEGRE DOS CAMPOS, MORMAÇO, MULITERNO, NOVO CABRAIS, PALMARES DO SUL, PALMITINHO, PANAMBI, PARAÍ, PARAÍSO DO SUL, PARECI NOVO, PASSO DO SOBRADO, PEDRAS ALTAS, PEDRO OSÓRIO, PINHAL DA SERRA, PONTE PRETA, PROTÁSIO ALVES, QUEVEDOS, REDENTORA, RIO GRANDE, ROQUE GONZALES, SANANDUVA, SANTA CRUZ DO SUL, SANTO ÂNGELO, SANTO ANTÔNIO DAS MISSÕES, \n",
      "\n",
      "Cluster: 6 -> (22)\n",
      "Atributos:  AGUDO, AJURICABA, ALECRIM, ALTO FELIZ, ANTA GORDA, ARATIBA, ARROIO GRANDE, BARRACÃO, BARRA DO QUARAÍ, BARRA DO RIBEIRO, BENJAMIN CONSTANT DO SUL, BOA VISTA DO BURICÁ, BOA VISTA DO INCRA, CACHOEIRA DO SUL, CAMPO NOVO, CANELA, CANOAS, CAPIVARI DO SUL, CARAZINHO, CARLOS BARBOSA, CASEIROS, COQUEIRO BAIXO, COXILHA, DERRUBADAS, DEZESSEIS DE NOVEMBRO, DOM PEDRO DE ALCÂNTARA, DONA FRANCISCA, DOUTOR MAURÍCIO CARDOSO, ENTRE-IJUÍS, ESTÂNCIA VELHA, ESTRELA, EUGÊNIO DE CASTRO, FAGUNDES VARELA, GENERAL CÂMARA, GUAÍBA, IJUÍ, IMBÉ, INDEPENDÊNCIA, ITAARA, IVORÁ, IVOTI, JACUTINGA, JAGUARI, JAQUIRANA, JÚLIO DE CASTILHOS, LIBERATO SALZANO, MACHADINHO, MANOEL VIANA, MATA, MATO CASTELHANO, MONTE BELO DO SUL, MONTENEGRO, MORRO REDONDO, MUÇUM, NICOLAU VERGUEIRO, NONOAI, NOVA CANDELÁRIA, NOVA HARTZ, NOVA PALMA, NOVA PETRÓPOLIS, PAIM FILHO, PINHEIRO MACHADO, PONTÃO, PORTO ALEGRE, PORTO MAUÁ, PRESIDENTE LUCENA, RIO DOS ÍNDIOS, RIOZINHO, ROCA SALES, RODEIO BONITO, SALVADOR DAS MISSÕES, SANTA MARIA, SÃO MARTINHO DA SERRA, SERTÃO, \n",
      "\n"
     ]
    }
   ],
   "source": [
    "for i in range(len(death_clustering.rows_)):\n",
    "    num_objects = death_clustering.get_shape(i)[0]\n",
    "    print(f'Cluster: {i+1} -> ({death_clustering.get_shape(i)[0]})')\n",
    "    print(\"Atributos: \", end=' ')\n",
    "    for e in death_clustering.get_indices(i)[1]:\n",
    "        print(document_names[int(e)], end=', ')\n",
    "    print('\\n')"
   ]
  },
  {
   "cell_type": "markdown",
   "metadata": {},
   "source": [
    "# Recuperados"
   ]
  },
  {
   "cell_type": "code",
   "execution_count": 10,
   "metadata": {},
   "outputs": [],
   "source": [
    "recovered = pd.read_csv('input_datasets/no_death[2].csv', header=None, sep=',')"
   ]
  },
  {
   "cell_type": "code",
   "execution_count": 11,
   "metadata": {
    "scrolled": true
   },
   "outputs": [
    {
     "name": "stdout",
     "output_type": "stream",
     "text": [
      "Cluster: 1 -> (54510)\n",
      "Atributos:  ACEGUÁ, AGUDO, ALVORADA, CACEQUI, CACHOEIRINHA, CAPÃO DO CIPÓ, DONA FRANCISCA, FAXINAL DO SOTURNO, GLORINHA, GRAVATAÍ, ITAARA, IVORÁ, JAGUARI, JARI, JÚLIO DE CASTILHOS, NOVA ESPERANÇA DO SUL, NOVA PALMA, PARAÍSO DO SUL, PINHAL GRANDE, PORTO ALEGRE, QUEVEDOS, RESTINGA SECA, SANTA MARIA, SANTIAGO, SÃO FRANCISCO DE ASSIS, SÃO JOÃO DO POLÊSINE, SÃO PEDRO DO SUL, SÃO SEPÉ, SILVEIRA MARTINS, TOROPI, UNISTALDA, VIAMÃO, VILA NOVA DO SUL, SANTA MARIA - R01 R02, PORTO ALEGRE - R10, RT-PCR, Março, Setembro, Outubro, EM ACOMPANHAMENTO, NAO INFORMADO, PARDA, PRETA, SexM, DRespiratoria_S, DCromossomica_S, \n",
      "\n",
      "Cluster: 2 -> (39051)\n",
      "Atributos:  BOZANO, CANGUÇU, CANOAS, CHUÍ, CRISSIUMAL, CRISTAL, HERVAL, MARATÁ, ROSÁRIO DO SUL, SANTA VITÓRIA DO PALMAR, TURUÇU, Adulto, Julho, Agosto, RECUPERADO, BRANCA, Hosp_N, Hosp_SRAG_N, Febre_S, Tosse_S, Garganta_S, Gestante_N, Presidiario_N, Asma_N, DRespiratoria_N, DNeurologica_N, Diabetes_N, Imunodef_N, DRenal_N, DHepatica_N, Obesidade_N, Outras_Comorbidades_N, DCromossomica_N, DHematologica_N, Sindrome_down_N, \n",
      "\n",
      "Cluster: 3 -> (16666)\n",
      "Atributos:  ARROIO DO PADRE, DILERMANDO DE AGUIAR, DOM PEDRO DE ALCÂNTARA, ESMERALDA, EUGÊNIO DE CASTRO, IPIRANGA DO SUL, MATA, MORRO REDONDO, NICOLAU VERGUEIRO, PINTO BANDEIRA, PIRAPÓ, SANTO ANTÔNIO DAS MISSÕES, SÃO NICOLAU, SÃO VALÉRIO DO SUL, SÃO VICENTE DO SUL, SENTINELA DO SUL, TUNAS, UBIRETAMA, VITÓRIA DAS MISSÕES, Idoso_1, Idoso_2, Clínico-Imagem, Abril, OBITO, OBITO OUTRAS CAUSAS, Hosp_S, Hosp_SRAG_S, Dispneia_S, Asma_S, DNeurologica_S, Diabetes_S, Imunodef_S, DRenal_S, DHepatica_S, DCardiaca_S, Obesidade_S, Outras_Comorbidades_S, DHematologica_S, Sindrome_down_S, \n",
      "\n",
      "Cluster: 4 -> (72453)\n",
      "Atributos:  AJURICABA, ALEGRETE, ALMIRANTE TAMANDARÉ DO SUL, ALTO ALEGRE, ANDRÉ DA ROCHA, ARATIBA, ARVOREZINHA, AUGUSTO PESTANA, ÁUREA, BARÃO DE COTEGIPE, BARRA DO RIO AZUL, BOA VISTA DO CADEADO, BOA VISTA DO INCRA, BUTIÁ, CACIQUE DOBLE, CAIBATÉ, CAMPINAS DO SUL, CAMPO NOVO, CAMPOS BORGES, CAPÃO BONITO DO SUL, CARLOS GOMES, CHARQUEADAS, CHIAPETTA, CIDREIRA, CIRÍACO, CONDOR, COXILHA, DAVID CANABARRO, ENTRE-IJUÍS, ENTRE RIOS DO SUL, ERECHIM, ESPUMOSO, FAXINALZINHO, FLORIANO PEIXOTO, FONTOURA XAVIER, GETÚLIO VARGAS, HERVEIRAS, HUMAITÁ, IBIAÇÁ, IBIRAIARAS, IJUÍ, ITATI, ITATIBA DO SUL, JACUIZINHO, JACUTINGA, JÓIA, LAGOÃO, LAGOA DOS TRÊS CANTOS, MAMPITUBA, MARCELINO RAMOS, MARIANA PIMENTEL, MAXIMILIANO DE ALMEIDA, MULITERNO, NONOAI, NOVA ALVORADA, OSÓRIO, PAIM FILHO, PANAMBI, PASSO FUNDO, PAULO BENTO, PONTE PRETA, PORTO XAVIER, QUARAÍ, RIO DOS ÍNDIOS, ROLADOR, SALTO DO JACUÍ, SANTA CECÍLIA DO SUL, SANTA MARGARIDA DO SUL, SANTANA DO LIVRAMENTO, SANTO ANTÔNIO DO PALMA, SANTO ANTÔNIO DO PLANALTO, SANTO AUGUSTO, SÃO DOMINGOS DO SUL, SÃO GABRIEL, SÃO MARTINHO, SEDE NOVA, SETE DE SETEMBRO, SEVERIANO DE ALMEIDA, TAPEJARA, TAPES, TUPANCIRETÃ, URUGUAIANA, VICTOR GRAEFF, VILA LÂNGARO, VILA MARIA, PASSO FUNDO - R17 R18 R19, IJUI - R13, URUGUAIANA - R03, ERECHIM - R16, Bebê, Criança, Jovem, TESTE RÁPIDO, Junho, AMARELA, SexF, Febre_N, Tosse_N, Garganta_N, Dispneia_N, Presidiario_S, DCardiaca_N, \n",
      "\n",
      "Cluster: 5 -> (11089)\n",
      "Atributos:  ALTO FELIZ, ANTA GORDA, ANTÔNIO PRADO, ARAMBARÉ, ARROIO DO MEIO, ARROIO DOS RATOS, ARROIO DO TIGRE, BARÃO DO TRIUNFO, BARRACÃO, BARRA DO RIBEIRO, BARROS CASSAL, BENTO GONÇALVES, BOA VISTA DO SUL, BOM JESUS, BOM PRINCÍPIO, BOM RETIRO DO SUL, BOQUEIRÃO DO LEÃO, CAÇAPAVA DO SUL, CACHOEIRA DO SUL, CAMAQUÃ, CAMARGO, CAMPESTRE DA SERRA, CANDELÁRIA, CANELA, CANUDOS DO VALE, CAPITÃO, CARAZINHO, CARLOS BARBOSA, CASCA, CASEIROS, CAXIAS DO SUL, CERRO GRANDE DO SUL, CHUVISCA, COLINAS, COLORADO, COQUEIRO BAIXO, COQUEIROS DO SUL, CORONEL PILAR, COTIPORÃ, CRUZ ALTA, CRUZALTENSE, CRUZEIRO DO SUL, DOIS LAJEADOS, DOM FELICIANO, DOUTOR RICARDO, ELDORADO DO SUL, ENCANTADO, ENCRUZILHADA DO SUL, ERNESTINA, ERVAL GRANDE, ESTAÇÃO, ESTRELA, ESTRELA VELHA, FAGUNDES VARELA, FARROUPILHA, FAZENDA VILANOVA, FELIZ, FLORES DA CUNHA, FORMIGUEIRO, FORQUETINHA, FORTALEZA DOS VALOS, GARIBALDI, GAURAMA, GENERAL CÂMARA, GENTIL, GRAMADO, GRAMADO XAVIER, GUABIJU, GUAÍBA, GUAPORÉ, IBARAMA, IBIRAPUITÃ, IBIRUBÁ, ILÓPOLIS, IMIGRANTE, IPÊ, ITACURUBI, ITAPUCA, JAQUIRANA, LAGOA BONITA DO SUL, LAGOA VERMELHA, LAJEADO, LINHA NOVA, MACHADINHO, MARAU, MARIANO MORO, MARQUES DE SOUZA, MATO CASTELHANO, MATO LEITÃO, MINAS DO LEÃO, MONTAURI, MONTE ALEGRE DOS CAMPOS, MONTE BELO DO SUL, MORMAÇO, MUÇUM, MUITOS CAPÕES, NÃO-ME-TOQUE, NOVA ARAÇÁ, NOVA BASSANO, NOVA BRÉSCIA, NOVA PÁDUA, NOVA PETRÓPOLIS, NOVA PRATA, NOVA ROMA DO SUL, NOVO CABRAIS, PANTANO GRANDE, PARAÍ, PASSA SETE, PASSO DO SOBRADO, PAVERAMA, PEDRAS ALTAS, PICADA CAFÉ, PINHAL DA SERRA, POÇO DAS ANTAS, PONTÃO, POUSO NOVO, PROGRESSO, PROTÁSIO ALVES, PUTINGA, QUATRO IRMÃOS, QUINZE DE NOVEMBRO, RELVADO, RIO PARDO, ROCA SALES, SALDANHA MARINHO, SANANDUVA, SANTA BÁRBARA DO SUL, SANTA CLARA DO SUL, SANTA CRUZ DO SUL, SANTA TEREZA, SANTO EXPEDITO DO SUL, SÃO JERÔNIMO, SÃO JOÃO DA URTIGA, SÃO JORGE, SÃO JOSÉ DO HERVAL, SÃO JOSÉ DO OURO, SÃO JOSÉ DOS AUSENTES, SÃO MARCOS, SÃO MARTINHO DA SERRA, SÃO VALENTIM, SÃO VALENTIM DO SUL, SÃO VENDELINO, SEGREDO, SELBACH, SERAFINA CORRÊA, SÉRIO, SERTÃO, SERTÃO SANTANA, SINIMBU, SOBRADINHO, SOLEDADE, TAPERA, TAQUARI, TEUTÔNIA, TIO HUGO, TRAVESSEIRO, TRÊS ARROIOS, TUPANCI DO SUL, VACARIA, VALE VERDE, VALE DO SOL, VALE REAL, VANINI, VENÂNCIO AIRES, VERA CRUZ, VERANÓPOLIS, VESPASIANO CORREA, VIADUTOS, VILA FLORES, VISTA ALEGRE DO PRATA, WESTFALIA, CAXIAS DO SUL - R23 R24 R25 R26, LAJEADO - R29 R30, GUAIBA - R09, CACHOEIRA DO SUL - R27, CRUZ ALTA - R12, SANTA CRUZ DO SUL - R28, Clínico, Clínico Epidemiológico, Maio, \n",
      "\n",
      "Cluster: 6 -> (31925)\n",
      "Atributos:  ÁGUA SANTA, ALECRIM, ALEGRIA, ALPESTRE, AMARAL FERRADOR, AMETISTA DO SUL, ARARICÁ, ARROIO DO SAL, ARROIO GRANDE, BAGÉ, BALNEÁRIO PINHAL, BARÃO, BARRA DO GUARITA, BARRA DO QUARAÍ, BARRA FUNDA, BENJAMIN CONSTANT DO SUL, BOA VISTA DAS MISSÕES, BOA VISTA DO BURICÁ, BOM PROGRESSO, BOSSOROCA, BRAGA, BROCHIER, CAIÇARA, CAMBARÁ DO SUL, CAMPINA DAS MISSÕES, CAMPO BOM, CÂNDIDO GODÓI, CANDIOTA, CAPÃO DA CANOA, CAPÃO DO LEÃO, CAPIVARI DO SUL, CAPELA DE SANTANA, CARAÁ, CATUÍPE, CENTENÁRIO, CERRITO, CERRO GRANDE, CERRO LARGO, CHAPADA, CHARRUA, CONSTANTINA, CORONEL BARROS, CORONEL BICACO, CRISTAL DO SUL, DERRUBADAS, DEZESSEIS DE NOVEMBRO, DOIS IRMÃOS, DOIS IRMÃOS DAS MISSÕES, DOM PEDRITO, DOUTOR MAURÍCIO CARDOSO, ENGENHO VELHO, EREBANGO, ERVAL SECO, ESPERANÇA DO SUL, ESTÂNCIA VELHA, ESTEIO, FREDERICO WESTPHALEN, GIRUÁ, GRAMADO DOS LOUREIROS, GUARANI DAS MISSÕES, HARMONIA, HORIZONTINA, HULHA NEGRA, IGREJINHA, IMBÉ, INDEPENDÊNCIA, INHACORÁ, IRAÍ, ITAQUI, IVOTI, JABOTICABA, JAGUARÃO, LAJEADO DO BUGRE, LAVRAS DO SUL, LIBERATO SALZANO, LINDOLFO COLLOR, MAÇAMBARÁ, MANOEL VIANA, MAQUINÉ, MATO QUEIMADO, MIRAGUAÍ, MONTENEGRO, MORRINHOS DO SUL, MORRO REUTER, MOSTARDAS, NOVA BOA VISTA, NOVA CANDELÁRIA, NOVA HARTZ, NOVA RAMADA, NOVA SANTA RITA, NOVO HAMBURGO, NOVO MACHADO, NOVO TIRADENTES, NOVO XINGU, NOVO BARREIRO, PALMARES DO SUL, PALMEIRA DAS MISSÕES, PALMITINHO, PARECI NOVO, PAROBÉ, PEDRO OSÓRIO, PEJUÇARA, PELOTAS, PINHAL, PINHEIRINHO DO VALE, PINHEIRO MACHADO, PIRATINI, PLANALTO, PORTÃO, PORTO LUCENA, PORTO MAUÁ, PORTO VERA CRUZ, PRESIDENTE LUCENA, REDENTORA, RIO GRANDE, RIOZINHO, RODEIO BONITO, ROLANTE, RONDA ALTA, RONDINHA, ROQUE GONZALES, SAGRADA FAMÍLIA, SALVADOR DAS MISSÕES, SALVADOR DO SUL, SANTA MARIA DO HERVAL, SANTANA DA BOA VISTA, SANTA ROSA, SANTO ÂNGELO, SANTO ANTÔNIO DA PATRULHA, SANTO CRISTO, SÃO BORJA, SÃO FRANCISCO DE PAULA, SÃO JOSÉ DAS MISSÕES, SÃO JOSÉ DO HORTÊNCIO, SÃO JOSÉ DO INHACORÁ, SÃO JOSÉ DO NORTE, SÃO JOSÉ DO SUL, SÃO LEOPOLDO, SÃO LOURENÇO DO SUL, SÃO LUIZ GONZAGA, SÃO MIGUEL DAS MISSÕES, SÃO PAULO DAS MISSÕES, SÃO PEDRO DA SERRA, SÃO PEDRO DAS MISSÕES, SÃO PEDRO DO BUTIÁ, SÃO SEBASTIÃO DO CAÍ, SAPIRANGA, SAPUCAIA DO SUL, SARANDI, SEBERI, SENADOR SALGADO FILHO, TABAÍ, TAQUARA, TAQUARUÇU DO SUL, TAVARES, TENENTE PORTELA, TERRA DE AREIA, TIRADENTES DO SUL, TORRES, TRAMANDAÍ, TRÊS CACHOEIRAS, TRÊS COROAS, TRÊS DE MAIO, TRÊS FORQUILHAS, TRÊS PALMEIRAS, TRÊS PASSOS, TRINDADE DO SUL, TRIUNFO, TUCUNDUVA, TUPANDI, TUPARENDI, UNIÃO DA SERRA, VICENTE DUTRA, VISTA ALEGRE, VISTA GAÚCHA, XANGRI-LÁ, BAGE - R22, SANTA ROSA - R14, PALMEIRA DAS MISSOES - R15 R20, PELOTAS - R21, NOVO HAMBURGO - R07, CAPAO DA CANOA - R04 R05, CANOAS - R08, SANTO ANGELO - R11, TAQUARA - R06, Outros Testes, INDIGENA, Prof_Saude_S, Prof_Saude_N, Gestante_S, \n",
      "\n"
     ]
    }
   ],
   "source": [
    "recovered_clustering = SpectralCoclustering(n_clusters=6, random_state=0)\n",
    "recovered_clustering.fit(data)\n",
    "for i in range(len(recovered_clustering.rows_)):\n",
    "    num_objects = recovered_clustering.get_shape(i)[0]\n",
    "    print(f'Cluster: {i+1} -> ({recovered_clustering.get_shape(i)[0]})')\n",
    "    print(\"Atributos: \", end=' ')\n",
    "    for e in recovered_clustering.get_indices(i)[1]:\n",
    "        print(document_names[int(e)], end=', ')\n",
    "    print('\\n')"
   ]
  },
  {
   "cell_type": "markdown",
   "metadata": {},
   "source": [
    "# Sintomáticos"
   ]
  },
  {
   "cell_type": "code",
   "execution_count": 12,
   "metadata": {},
   "outputs": [],
   "source": [
    "sin = pd.read_csv('input_datasets/sintomatico[1].csv', header=None, sep=',')"
   ]
  },
  {
   "cell_type": "code",
   "execution_count": 13,
   "metadata": {},
   "outputs": [
    {
     "name": "stdout",
     "output_type": "stream",
     "text": [
      "Cluster: 1 -> (54510)\n",
      "Atributos:  ACEGUÁ, AGUDO, ALVORADA, CACEQUI, CACHOEIRINHA, CAPÃO DO CIPÓ, DONA FRANCISCA, FAXINAL DO SOTURNO, GLORINHA, GRAVATAÍ, ITAARA, IVORÁ, JAGUARI, JARI, JÚLIO DE CASTILHOS, NOVA ESPERANÇA DO SUL, NOVA PALMA, PARAÍSO DO SUL, PINHAL GRANDE, PORTO ALEGRE, QUEVEDOS, RESTINGA SECA, SANTA MARIA, SANTIAGO, SÃO FRANCISCO DE ASSIS, SÃO JOÃO DO POLÊSINE, SÃO PEDRO DO SUL, SÃO SEPÉ, SILVEIRA MARTINS, TOROPI, UNISTALDA, VIAMÃO, VILA NOVA DO SUL, SANTA MARIA - R01 R02, PORTO ALEGRE - R10, RT-PCR, Março, Setembro, Outubro, EM ACOMPANHAMENTO, NAO INFORMADO, PARDA, PRETA, SexM, DRespiratoria_S, DCromossomica_S, \n",
      "\n",
      "Cluster: 2 -> (39051)\n",
      "Atributos:  BOZANO, CANGUÇU, CANOAS, CHUÍ, CRISSIUMAL, CRISTAL, HERVAL, MARATÁ, ROSÁRIO DO SUL, SANTA VITÓRIA DO PALMAR, TURUÇU, Adulto, Julho, Agosto, RECUPERADO, BRANCA, Hosp_N, Hosp_SRAG_N, Febre_S, Tosse_S, Garganta_S, Gestante_N, Presidiario_N, Asma_N, DRespiratoria_N, DNeurologica_N, Diabetes_N, Imunodef_N, DRenal_N, DHepatica_N, Obesidade_N, Outras_Comorbidades_N, DCromossomica_N, DHematologica_N, Sindrome_down_N, \n",
      "\n",
      "Cluster: 3 -> (16666)\n",
      "Atributos:  ARROIO DO PADRE, DILERMANDO DE AGUIAR, DOM PEDRO DE ALCÂNTARA, ESMERALDA, EUGÊNIO DE CASTRO, IPIRANGA DO SUL, MATA, MORRO REDONDO, NICOLAU VERGUEIRO, PINTO BANDEIRA, PIRAPÓ, SANTO ANTÔNIO DAS MISSÕES, SÃO NICOLAU, SÃO VALÉRIO DO SUL, SÃO VICENTE DO SUL, SENTINELA DO SUL, TUNAS, UBIRETAMA, VITÓRIA DAS MISSÕES, Idoso_1, Idoso_2, Clínico-Imagem, Abril, OBITO, OBITO OUTRAS CAUSAS, Hosp_S, Hosp_SRAG_S, Dispneia_S, Asma_S, DNeurologica_S, Diabetes_S, Imunodef_S, DRenal_S, DHepatica_S, DCardiaca_S, Obesidade_S, Outras_Comorbidades_S, DHematologica_S, Sindrome_down_S, \n",
      "\n",
      "Cluster: 4 -> (72453)\n",
      "Atributos:  AJURICABA, ALEGRETE, ALMIRANTE TAMANDARÉ DO SUL, ALTO ALEGRE, ANDRÉ DA ROCHA, ARATIBA, ARVOREZINHA, AUGUSTO PESTANA, ÁUREA, BARÃO DE COTEGIPE, BARRA DO RIO AZUL, BOA VISTA DO CADEADO, BOA VISTA DO INCRA, BUTIÁ, CACIQUE DOBLE, CAIBATÉ, CAMPINAS DO SUL, CAMPO NOVO, CAMPOS BORGES, CAPÃO BONITO DO SUL, CARLOS GOMES, CHARQUEADAS, CHIAPETTA, CIDREIRA, CIRÍACO, CONDOR, COXILHA, DAVID CANABARRO, ENTRE-IJUÍS, ENTRE RIOS DO SUL, ERECHIM, ESPUMOSO, FAXINALZINHO, FLORIANO PEIXOTO, FONTOURA XAVIER, GETÚLIO VARGAS, HERVEIRAS, HUMAITÁ, IBIAÇÁ, IBIRAIARAS, IJUÍ, ITATI, ITATIBA DO SUL, JACUIZINHO, JACUTINGA, JÓIA, LAGOÃO, LAGOA DOS TRÊS CANTOS, MAMPITUBA, MARCELINO RAMOS, MARIANA PIMENTEL, MAXIMILIANO DE ALMEIDA, MULITERNO, NONOAI, NOVA ALVORADA, OSÓRIO, PAIM FILHO, PANAMBI, PASSO FUNDO, PAULO BENTO, PONTE PRETA, PORTO XAVIER, QUARAÍ, RIO DOS ÍNDIOS, ROLADOR, SALTO DO JACUÍ, SANTA CECÍLIA DO SUL, SANTA MARGARIDA DO SUL, SANTANA DO LIVRAMENTO, SANTO ANTÔNIO DO PALMA, SANTO ANTÔNIO DO PLANALTO, SANTO AUGUSTO, SÃO DOMINGOS DO SUL, SÃO GABRIEL, SÃO MARTINHO, SEDE NOVA, SETE DE SETEMBRO, SEVERIANO DE ALMEIDA, TAPEJARA, TAPES, TUPANCIRETÃ, URUGUAIANA, VICTOR GRAEFF, VILA LÂNGARO, VILA MARIA, PASSO FUNDO - R17 R18 R19, IJUI - R13, URUGUAIANA - R03, ERECHIM - R16, Bebê, Criança, Jovem, TESTE RÁPIDO, Junho, AMARELA, SexF, Febre_N, Tosse_N, Garganta_N, Dispneia_N, Presidiario_S, DCardiaca_N, \n",
      "\n",
      "Cluster: 5 -> (11089)\n",
      "Atributos:  ALTO FELIZ, ANTA GORDA, ANTÔNIO PRADO, ARAMBARÉ, ARROIO DO MEIO, ARROIO DOS RATOS, ARROIO DO TIGRE, BARÃO DO TRIUNFO, BARRACÃO, BARRA DO RIBEIRO, BARROS CASSAL, BENTO GONÇALVES, BOA VISTA DO SUL, BOM JESUS, BOM PRINCÍPIO, BOM RETIRO DO SUL, BOQUEIRÃO DO LEÃO, CAÇAPAVA DO SUL, CACHOEIRA DO SUL, CAMAQUÃ, CAMARGO, CAMPESTRE DA SERRA, CANDELÁRIA, CANELA, CANUDOS DO VALE, CAPITÃO, CARAZINHO, CARLOS BARBOSA, CASCA, CASEIROS, CAXIAS DO SUL, CERRO GRANDE DO SUL, CHUVISCA, COLINAS, COLORADO, COQUEIRO BAIXO, COQUEIROS DO SUL, CORONEL PILAR, COTIPORÃ, CRUZ ALTA, CRUZALTENSE, CRUZEIRO DO SUL, DOIS LAJEADOS, DOM FELICIANO, DOUTOR RICARDO, ELDORADO DO SUL, ENCANTADO, ENCRUZILHADA DO SUL, ERNESTINA, ERVAL GRANDE, ESTAÇÃO, ESTRELA, ESTRELA VELHA, FAGUNDES VARELA, FARROUPILHA, FAZENDA VILANOVA, FELIZ, FLORES DA CUNHA, FORMIGUEIRO, FORQUETINHA, FORTALEZA DOS VALOS, GARIBALDI, GAURAMA, GENERAL CÂMARA, GENTIL, GRAMADO, GRAMADO XAVIER, GUABIJU, GUAÍBA, GUAPORÉ, IBARAMA, IBIRAPUITÃ, IBIRUBÁ, ILÓPOLIS, IMIGRANTE, IPÊ, ITACURUBI, ITAPUCA, JAQUIRANA, LAGOA BONITA DO SUL, LAGOA VERMELHA, LAJEADO, LINHA NOVA, MACHADINHO, MARAU, MARIANO MORO, MARQUES DE SOUZA, MATO CASTELHANO, MATO LEITÃO, MINAS DO LEÃO, MONTAURI, MONTE ALEGRE DOS CAMPOS, MONTE BELO DO SUL, MORMAÇO, MUÇUM, MUITOS CAPÕES, NÃO-ME-TOQUE, NOVA ARAÇÁ, NOVA BASSANO, NOVA BRÉSCIA, NOVA PÁDUA, NOVA PETRÓPOLIS, NOVA PRATA, NOVA ROMA DO SUL, NOVO CABRAIS, PANTANO GRANDE, PARAÍ, PASSA SETE, PASSO DO SOBRADO, PAVERAMA, PEDRAS ALTAS, PICADA CAFÉ, PINHAL DA SERRA, POÇO DAS ANTAS, PONTÃO, POUSO NOVO, PROGRESSO, PROTÁSIO ALVES, PUTINGA, QUATRO IRMÃOS, QUINZE DE NOVEMBRO, RELVADO, RIO PARDO, ROCA SALES, SALDANHA MARINHO, SANANDUVA, SANTA BÁRBARA DO SUL, SANTA CLARA DO SUL, SANTA CRUZ DO SUL, SANTA TEREZA, SANTO EXPEDITO DO SUL, SÃO JERÔNIMO, SÃO JOÃO DA URTIGA, SÃO JORGE, SÃO JOSÉ DO HERVAL, SÃO JOSÉ DO OURO, SÃO JOSÉ DOS AUSENTES, SÃO MARCOS, SÃO MARTINHO DA SERRA, SÃO VALENTIM, SÃO VALENTIM DO SUL, SÃO VENDELINO, SEGREDO, SELBACH, SERAFINA CORRÊA, SÉRIO, SERTÃO, SERTÃO SANTANA, SINIMBU, SOBRADINHO, SOLEDADE, TAPERA, TAQUARI, TEUTÔNIA, TIO HUGO, TRAVESSEIRO, TRÊS ARROIOS, TUPANCI DO SUL, VACARIA, VALE VERDE, VALE DO SOL, VALE REAL, VANINI, VENÂNCIO AIRES, VERA CRUZ, VERANÓPOLIS, VESPASIANO CORREA, VIADUTOS, VILA FLORES, VISTA ALEGRE DO PRATA, WESTFALIA, CAXIAS DO SUL - R23 R24 R25 R26, LAJEADO - R29 R30, GUAIBA - R09, CACHOEIRA DO SUL - R27, CRUZ ALTA - R12, SANTA CRUZ DO SUL - R28, Clínico, Clínico Epidemiológico, Maio, \n",
      "\n",
      "Cluster: 6 -> (31925)\n",
      "Atributos:  ÁGUA SANTA, ALECRIM, ALEGRIA, ALPESTRE, AMARAL FERRADOR, AMETISTA DO SUL, ARARICÁ, ARROIO DO SAL, ARROIO GRANDE, BAGÉ, BALNEÁRIO PINHAL, BARÃO, BARRA DO GUARITA, BARRA DO QUARAÍ, BARRA FUNDA, BENJAMIN CONSTANT DO SUL, BOA VISTA DAS MISSÕES, BOA VISTA DO BURICÁ, BOM PROGRESSO, BOSSOROCA, BRAGA, BROCHIER, CAIÇARA, CAMBARÁ DO SUL, CAMPINA DAS MISSÕES, CAMPO BOM, CÂNDIDO GODÓI, CANDIOTA, CAPÃO DA CANOA, CAPÃO DO LEÃO, CAPIVARI DO SUL, CAPELA DE SANTANA, CARAÁ, CATUÍPE, CENTENÁRIO, CERRITO, CERRO GRANDE, CERRO LARGO, CHAPADA, CHARRUA, CONSTANTINA, CORONEL BARROS, CORONEL BICACO, CRISTAL DO SUL, DERRUBADAS, DEZESSEIS DE NOVEMBRO, DOIS IRMÃOS, DOIS IRMÃOS DAS MISSÕES, DOM PEDRITO, DOUTOR MAURÍCIO CARDOSO, ENGENHO VELHO, EREBANGO, ERVAL SECO, ESPERANÇA DO SUL, ESTÂNCIA VELHA, ESTEIO, FREDERICO WESTPHALEN, GIRUÁ, GRAMADO DOS LOUREIROS, GUARANI DAS MISSÕES, HARMONIA, HORIZONTINA, HULHA NEGRA, IGREJINHA, IMBÉ, INDEPENDÊNCIA, INHACORÁ, IRAÍ, ITAQUI, IVOTI, JABOTICABA, JAGUARÃO, LAJEADO DO BUGRE, LAVRAS DO SUL, LIBERATO SALZANO, LINDOLFO COLLOR, MAÇAMBARÁ, MANOEL VIANA, MAQUINÉ, MATO QUEIMADO, MIRAGUAÍ, MONTENEGRO, MORRINHOS DO SUL, MORRO REUTER, MOSTARDAS, NOVA BOA VISTA, NOVA CANDELÁRIA, NOVA HARTZ, NOVA RAMADA, NOVA SANTA RITA, NOVO HAMBURGO, NOVO MACHADO, NOVO TIRADENTES, NOVO XINGU, NOVO BARREIRO, PALMARES DO SUL, PALMEIRA DAS MISSÕES, PALMITINHO, PARECI NOVO, PAROBÉ, PEDRO OSÓRIO, PEJUÇARA, PELOTAS, PINHAL, PINHEIRINHO DO VALE, PINHEIRO MACHADO, PIRATINI, PLANALTO, PORTÃO, PORTO LUCENA, PORTO MAUÁ, PORTO VERA CRUZ, PRESIDENTE LUCENA, REDENTORA, RIO GRANDE, RIOZINHO, RODEIO BONITO, ROLANTE, RONDA ALTA, RONDINHA, ROQUE GONZALES, SAGRADA FAMÍLIA, SALVADOR DAS MISSÕES, SALVADOR DO SUL, SANTA MARIA DO HERVAL, SANTANA DA BOA VISTA, SANTA ROSA, SANTO ÂNGELO, SANTO ANTÔNIO DA PATRULHA, SANTO CRISTO, SÃO BORJA, SÃO FRANCISCO DE PAULA, SÃO JOSÉ DAS MISSÕES, SÃO JOSÉ DO HORTÊNCIO, SÃO JOSÉ DO INHACORÁ, SÃO JOSÉ DO NORTE, SÃO JOSÉ DO SUL, SÃO LEOPOLDO, SÃO LOURENÇO DO SUL, SÃO LUIZ GONZAGA, SÃO MIGUEL DAS MISSÕES, SÃO PAULO DAS MISSÕES, SÃO PEDRO DA SERRA, SÃO PEDRO DAS MISSÕES, SÃO PEDRO DO BUTIÁ, SÃO SEBASTIÃO DO CAÍ, SAPIRANGA, SAPUCAIA DO SUL, SARANDI, SEBERI, SENADOR SALGADO FILHO, TABAÍ, TAQUARA, TAQUARUÇU DO SUL, TAVARES, TENENTE PORTELA, TERRA DE AREIA, TIRADENTES DO SUL, TORRES, TRAMANDAÍ, TRÊS CACHOEIRAS, TRÊS COROAS, TRÊS DE MAIO, TRÊS FORQUILHAS, TRÊS PALMEIRAS, TRÊS PASSOS, TRINDADE DO SUL, TRIUNFO, TUCUNDUVA, TUPANDI, TUPARENDI, UNIÃO DA SERRA, VICENTE DUTRA, VISTA ALEGRE, VISTA GAÚCHA, XANGRI-LÁ, BAGE - R22, SANTA ROSA - R14, PALMEIRA DAS MISSOES - R15 R20, PELOTAS - R21, NOVO HAMBURGO - R07, CAPAO DA CANOA - R04 R05, CANOAS - R08, SANTO ANGELO - R11, TAQUARA - R06, Outros Testes, INDIGENA, Prof_Saude_S, Prof_Saude_N, Gestante_S, \n",
      "\n"
     ]
    }
   ],
   "source": [
    "sin_clustering = SpectralCoclustering(n_clusters=6, random_state=0)\n",
    "sin_clustering.fit(data)\n",
    "for i in range(len(sin_clustering.rows_)):\n",
    "    num_objects = sin_clustering.get_shape(i)[0]\n",
    "    print(f'Cluster: {i+1} -> ({sin_clustering.get_shape(i)[0]})')\n",
    "    print(\"Atributos: \", end=' ')\n",
    "    for e in sin_clustering.get_indices(i)[1]:\n",
    "        print(document_names[int(e)], end=', ')\n",
    "    print('\\n')"
   ]
  },
  {
   "cell_type": "markdown",
   "metadata": {},
   "source": [
    "# Assintomáticos"
   ]
  },
  {
   "cell_type": "code",
   "execution_count": 14,
   "metadata": {},
   "outputs": [],
   "source": [
    "assin = pd.read_csv('input_datasets/assintomatico[2].csv', header=None, sep=',')"
   ]
  },
  {
   "cell_type": "code",
   "execution_count": 15,
   "metadata": {},
   "outputs": [
    {
     "name": "stdout",
     "output_type": "stream",
     "text": [
      "Cluster: 1 -> (54510)\n",
      "Atributos:  ACEGUÁ, AGUDO, ALVORADA, CACEQUI, CACHOEIRINHA, CAPÃO DO CIPÓ, DONA FRANCISCA, FAXINAL DO SOTURNO, GLORINHA, GRAVATAÍ, ITAARA, IVORÁ, JAGUARI, JARI, JÚLIO DE CASTILHOS, NOVA ESPERANÇA DO SUL, NOVA PALMA, PARAÍSO DO SUL, PINHAL GRANDE, PORTO ALEGRE, QUEVEDOS, RESTINGA SECA, SANTA MARIA, SANTIAGO, SÃO FRANCISCO DE ASSIS, SÃO JOÃO DO POLÊSINE, SÃO PEDRO DO SUL, SÃO SEPÉ, SILVEIRA MARTINS, TOROPI, UNISTALDA, VIAMÃO, VILA NOVA DO SUL, SANTA MARIA - R01 R02, PORTO ALEGRE - R10, RT-PCR, Março, Setembro, Outubro, EM ACOMPANHAMENTO, NAO INFORMADO, PARDA, PRETA, SexM, DRespiratoria_S, DCromossomica_S, \n",
      "\n",
      "Cluster: 2 -> (39051)\n",
      "Atributos:  BOZANO, CANGUÇU, CANOAS, CHUÍ, CRISSIUMAL, CRISTAL, HERVAL, MARATÁ, ROSÁRIO DO SUL, SANTA VITÓRIA DO PALMAR, TURUÇU, Adulto, Julho, Agosto, RECUPERADO, BRANCA, Hosp_N, Hosp_SRAG_N, Febre_S, Tosse_S, Garganta_S, Gestante_N, Presidiario_N, Asma_N, DRespiratoria_N, DNeurologica_N, Diabetes_N, Imunodef_N, DRenal_N, DHepatica_N, Obesidade_N, Outras_Comorbidades_N, DCromossomica_N, DHematologica_N, Sindrome_down_N, \n",
      "\n",
      "Cluster: 3 -> (16666)\n",
      "Atributos:  ARROIO DO PADRE, DILERMANDO DE AGUIAR, DOM PEDRO DE ALCÂNTARA, ESMERALDA, EUGÊNIO DE CASTRO, IPIRANGA DO SUL, MATA, MORRO REDONDO, NICOLAU VERGUEIRO, PINTO BANDEIRA, PIRAPÓ, SANTO ANTÔNIO DAS MISSÕES, SÃO NICOLAU, SÃO VALÉRIO DO SUL, SÃO VICENTE DO SUL, SENTINELA DO SUL, TUNAS, UBIRETAMA, VITÓRIA DAS MISSÕES, Idoso_1, Idoso_2, Clínico-Imagem, Abril, OBITO, OBITO OUTRAS CAUSAS, Hosp_S, Hosp_SRAG_S, Dispneia_S, Asma_S, DNeurologica_S, Diabetes_S, Imunodef_S, DRenal_S, DHepatica_S, DCardiaca_S, Obesidade_S, Outras_Comorbidades_S, DHematologica_S, Sindrome_down_S, \n",
      "\n",
      "Cluster: 4 -> (72453)\n",
      "Atributos:  AJURICABA, ALEGRETE, ALMIRANTE TAMANDARÉ DO SUL, ALTO ALEGRE, ANDRÉ DA ROCHA, ARATIBA, ARVOREZINHA, AUGUSTO PESTANA, ÁUREA, BARÃO DE COTEGIPE, BARRA DO RIO AZUL, BOA VISTA DO CADEADO, BOA VISTA DO INCRA, BUTIÁ, CACIQUE DOBLE, CAIBATÉ, CAMPINAS DO SUL, CAMPO NOVO, CAMPOS BORGES, CAPÃO BONITO DO SUL, CARLOS GOMES, CHARQUEADAS, CHIAPETTA, CIDREIRA, CIRÍACO, CONDOR, COXILHA, DAVID CANABARRO, ENTRE-IJUÍS, ENTRE RIOS DO SUL, ERECHIM, ESPUMOSO, FAXINALZINHO, FLORIANO PEIXOTO, FONTOURA XAVIER, GETÚLIO VARGAS, HERVEIRAS, HUMAITÁ, IBIAÇÁ, IBIRAIARAS, IJUÍ, ITATI, ITATIBA DO SUL, JACUIZINHO, JACUTINGA, JÓIA, LAGOÃO, LAGOA DOS TRÊS CANTOS, MAMPITUBA, MARCELINO RAMOS, MARIANA PIMENTEL, MAXIMILIANO DE ALMEIDA, MULITERNO, NONOAI, NOVA ALVORADA, OSÓRIO, PAIM FILHO, PANAMBI, PASSO FUNDO, PAULO BENTO, PONTE PRETA, PORTO XAVIER, QUARAÍ, RIO DOS ÍNDIOS, ROLADOR, SALTO DO JACUÍ, SANTA CECÍLIA DO SUL, SANTA MARGARIDA DO SUL, SANTANA DO LIVRAMENTO, SANTO ANTÔNIO DO PALMA, SANTO ANTÔNIO DO PLANALTO, SANTO AUGUSTO, SÃO DOMINGOS DO SUL, SÃO GABRIEL, SÃO MARTINHO, SEDE NOVA, SETE DE SETEMBRO, SEVERIANO DE ALMEIDA, TAPEJARA, TAPES, TUPANCIRETÃ, URUGUAIANA, VICTOR GRAEFF, VILA LÂNGARO, VILA MARIA, PASSO FUNDO - R17 R18 R19, IJUI - R13, URUGUAIANA - R03, ERECHIM - R16, Bebê, Criança, Jovem, TESTE RÁPIDO, Junho, AMARELA, SexF, Febre_N, Tosse_N, Garganta_N, Dispneia_N, Presidiario_S, DCardiaca_N, \n",
      "\n",
      "Cluster: 5 -> (11089)\n",
      "Atributos:  ALTO FELIZ, ANTA GORDA, ANTÔNIO PRADO, ARAMBARÉ, ARROIO DO MEIO, ARROIO DOS RATOS, ARROIO DO TIGRE, BARÃO DO TRIUNFO, BARRACÃO, BARRA DO RIBEIRO, BARROS CASSAL, BENTO GONÇALVES, BOA VISTA DO SUL, BOM JESUS, BOM PRINCÍPIO, BOM RETIRO DO SUL, BOQUEIRÃO DO LEÃO, CAÇAPAVA DO SUL, CACHOEIRA DO SUL, CAMAQUÃ, CAMARGO, CAMPESTRE DA SERRA, CANDELÁRIA, CANELA, CANUDOS DO VALE, CAPITÃO, CARAZINHO, CARLOS BARBOSA, CASCA, CASEIROS, CAXIAS DO SUL, CERRO GRANDE DO SUL, CHUVISCA, COLINAS, COLORADO, COQUEIRO BAIXO, COQUEIROS DO SUL, CORONEL PILAR, COTIPORÃ, CRUZ ALTA, CRUZALTENSE, CRUZEIRO DO SUL, DOIS LAJEADOS, DOM FELICIANO, DOUTOR RICARDO, ELDORADO DO SUL, ENCANTADO, ENCRUZILHADA DO SUL, ERNESTINA, ERVAL GRANDE, ESTAÇÃO, ESTRELA, ESTRELA VELHA, FAGUNDES VARELA, FARROUPILHA, FAZENDA VILANOVA, FELIZ, FLORES DA CUNHA, FORMIGUEIRO, FORQUETINHA, FORTALEZA DOS VALOS, GARIBALDI, GAURAMA, GENERAL CÂMARA, GENTIL, GRAMADO, GRAMADO XAVIER, GUABIJU, GUAÍBA, GUAPORÉ, IBARAMA, IBIRAPUITÃ, IBIRUBÁ, ILÓPOLIS, IMIGRANTE, IPÊ, ITACURUBI, ITAPUCA, JAQUIRANA, LAGOA BONITA DO SUL, LAGOA VERMELHA, LAJEADO, LINHA NOVA, MACHADINHO, MARAU, MARIANO MORO, MARQUES DE SOUZA, MATO CASTELHANO, MATO LEITÃO, MINAS DO LEÃO, MONTAURI, MONTE ALEGRE DOS CAMPOS, MONTE BELO DO SUL, MORMAÇO, MUÇUM, MUITOS CAPÕES, NÃO-ME-TOQUE, NOVA ARAÇÁ, NOVA BASSANO, NOVA BRÉSCIA, NOVA PÁDUA, NOVA PETRÓPOLIS, NOVA PRATA, NOVA ROMA DO SUL, NOVO CABRAIS, PANTANO GRANDE, PARAÍ, PASSA SETE, PASSO DO SOBRADO, PAVERAMA, PEDRAS ALTAS, PICADA CAFÉ, PINHAL DA SERRA, POÇO DAS ANTAS, PONTÃO, POUSO NOVO, PROGRESSO, PROTÁSIO ALVES, PUTINGA, QUATRO IRMÃOS, QUINZE DE NOVEMBRO, RELVADO, RIO PARDO, ROCA SALES, SALDANHA MARINHO, SANANDUVA, SANTA BÁRBARA DO SUL, SANTA CLARA DO SUL, SANTA CRUZ DO SUL, SANTA TEREZA, SANTO EXPEDITO DO SUL, SÃO JERÔNIMO, SÃO JOÃO DA URTIGA, SÃO JORGE, SÃO JOSÉ DO HERVAL, SÃO JOSÉ DO OURO, SÃO JOSÉ DOS AUSENTES, SÃO MARCOS, SÃO MARTINHO DA SERRA, SÃO VALENTIM, SÃO VALENTIM DO SUL, SÃO VENDELINO, SEGREDO, SELBACH, SERAFINA CORRÊA, SÉRIO, SERTÃO, SERTÃO SANTANA, SINIMBU, SOBRADINHO, SOLEDADE, TAPERA, TAQUARI, TEUTÔNIA, TIO HUGO, TRAVESSEIRO, TRÊS ARROIOS, TUPANCI DO SUL, VACARIA, VALE VERDE, VALE DO SOL, VALE REAL, VANINI, VENÂNCIO AIRES, VERA CRUZ, VERANÓPOLIS, VESPASIANO CORREA, VIADUTOS, VILA FLORES, VISTA ALEGRE DO PRATA, WESTFALIA, CAXIAS DO SUL - R23 R24 R25 R26, LAJEADO - R29 R30, GUAIBA - R09, CACHOEIRA DO SUL - R27, CRUZ ALTA - R12, SANTA CRUZ DO SUL - R28, Clínico, Clínico Epidemiológico, Maio, \n",
      "\n",
      "Cluster: 6 -> (31925)\n",
      "Atributos:  ÁGUA SANTA, ALECRIM, ALEGRIA, ALPESTRE, AMARAL FERRADOR, AMETISTA DO SUL, ARARICÁ, ARROIO DO SAL, ARROIO GRANDE, BAGÉ, BALNEÁRIO PINHAL, BARÃO, BARRA DO GUARITA, BARRA DO QUARAÍ, BARRA FUNDA, BENJAMIN CONSTANT DO SUL, BOA VISTA DAS MISSÕES, BOA VISTA DO BURICÁ, BOM PROGRESSO, BOSSOROCA, BRAGA, BROCHIER, CAIÇARA, CAMBARÁ DO SUL, CAMPINA DAS MISSÕES, CAMPO BOM, CÂNDIDO GODÓI, CANDIOTA, CAPÃO DA CANOA, CAPÃO DO LEÃO, CAPIVARI DO SUL, CAPELA DE SANTANA, CARAÁ, CATUÍPE, CENTENÁRIO, CERRITO, CERRO GRANDE, CERRO LARGO, CHAPADA, CHARRUA, CONSTANTINA, CORONEL BARROS, CORONEL BICACO, CRISTAL DO SUL, DERRUBADAS, DEZESSEIS DE NOVEMBRO, DOIS IRMÃOS, DOIS IRMÃOS DAS MISSÕES, DOM PEDRITO, DOUTOR MAURÍCIO CARDOSO, ENGENHO VELHO, EREBANGO, ERVAL SECO, ESPERANÇA DO SUL, ESTÂNCIA VELHA, ESTEIO, FREDERICO WESTPHALEN, GIRUÁ, GRAMADO DOS LOUREIROS, GUARANI DAS MISSÕES, HARMONIA, HORIZONTINA, HULHA NEGRA, IGREJINHA, IMBÉ, INDEPENDÊNCIA, INHACORÁ, IRAÍ, ITAQUI, IVOTI, JABOTICABA, JAGUARÃO, LAJEADO DO BUGRE, LAVRAS DO SUL, LIBERATO SALZANO, LINDOLFO COLLOR, MAÇAMBARÁ, MANOEL VIANA, MAQUINÉ, MATO QUEIMADO, MIRAGUAÍ, MONTENEGRO, MORRINHOS DO SUL, MORRO REUTER, MOSTARDAS, NOVA BOA VISTA, NOVA CANDELÁRIA, NOVA HARTZ, NOVA RAMADA, NOVA SANTA RITA, NOVO HAMBURGO, NOVO MACHADO, NOVO TIRADENTES, NOVO XINGU, NOVO BARREIRO, PALMARES DO SUL, PALMEIRA DAS MISSÕES, PALMITINHO, PARECI NOVO, PAROBÉ, PEDRO OSÓRIO, PEJUÇARA, PELOTAS, PINHAL, PINHEIRINHO DO VALE, PINHEIRO MACHADO, PIRATINI, PLANALTO, PORTÃO, PORTO LUCENA, PORTO MAUÁ, PORTO VERA CRUZ, PRESIDENTE LUCENA, REDENTORA, RIO GRANDE, RIOZINHO, RODEIO BONITO, ROLANTE, RONDA ALTA, RONDINHA, ROQUE GONZALES, SAGRADA FAMÍLIA, SALVADOR DAS MISSÕES, SALVADOR DO SUL, SANTA MARIA DO HERVAL, SANTANA DA BOA VISTA, SANTA ROSA, SANTO ÂNGELO, SANTO ANTÔNIO DA PATRULHA, SANTO CRISTO, SÃO BORJA, SÃO FRANCISCO DE PAULA, SÃO JOSÉ DAS MISSÕES, SÃO JOSÉ DO HORTÊNCIO, SÃO JOSÉ DO INHACORÁ, SÃO JOSÉ DO NORTE, SÃO JOSÉ DO SUL, SÃO LEOPOLDO, SÃO LOURENÇO DO SUL, SÃO LUIZ GONZAGA, SÃO MIGUEL DAS MISSÕES, SÃO PAULO DAS MISSÕES, SÃO PEDRO DA SERRA, SÃO PEDRO DAS MISSÕES, SÃO PEDRO DO BUTIÁ, SÃO SEBASTIÃO DO CAÍ, SAPIRANGA, SAPUCAIA DO SUL, SARANDI, SEBERI, SENADOR SALGADO FILHO, TABAÍ, TAQUARA, TAQUARUÇU DO SUL, TAVARES, TENENTE PORTELA, TERRA DE AREIA, TIRADENTES DO SUL, TORRES, TRAMANDAÍ, TRÊS CACHOEIRAS, TRÊS COROAS, TRÊS DE MAIO, TRÊS FORQUILHAS, TRÊS PALMEIRAS, TRÊS PASSOS, TRINDADE DO SUL, TRIUNFO, TUCUNDUVA, TUPANDI, TUPARENDI, UNIÃO DA SERRA, VICENTE DUTRA, VISTA ALEGRE, VISTA GAÚCHA, XANGRI-LÁ, BAGE - R22, SANTA ROSA - R14, PALMEIRA DAS MISSOES - R15 R20, PELOTAS - R21, NOVO HAMBURGO - R07, CAPAO DA CANOA - R04 R05, CANOAS - R08, SANTO ANGELO - R11, TAQUARA - R06, Outros Testes, INDIGENA, Prof_Saude_S, Prof_Saude_N, Gestante_S, \n",
      "\n"
     ]
    }
   ],
   "source": [
    "assin_clustering = SpectralCoclustering(n_clusters=6, random_state=0)\n",
    "assin_clustering.fit(data)\n",
    "for i in range(len(assin_clustering.rows_)):\n",
    "    num_objects = assin_clustering.get_shape(i)[0]\n",
    "    print(f'Cluster: {i+1} -> ({assin_clustering.get_shape(i)[0]})')\n",
    "    print(\"Atributos: \", end=' ')\n",
    "    for e in assin_clustering.get_indices(i)[1]:\n",
    "        print(document_names[int(e)], end=', ')\n",
    "    print('\\n')"
   ]
  },
  {
   "cell_type": "code",
   "execution_count": null,
   "metadata": {},
   "outputs": [],
   "source": []
  }
 ],
 "metadata": {
  "kernelspec": {
   "display_name": "Python 3.8.1 64-bit",
   "language": "python",
   "name": "python38164bit1a47b14ccaa04f8588568034af662766"
  },
  "language_info": {
   "codemirror_mode": {
    "name": "ipython",
    "version": 3
   },
   "file_extension": ".py",
   "mimetype": "text/x-python",
   "name": "python",
   "nbconvert_exporter": "python",
   "pygments_lexer": "ipython3",
   "version": "3.8.1"
  }
 },
 "nbformat": 4,
 "nbformat_minor": 4
}
