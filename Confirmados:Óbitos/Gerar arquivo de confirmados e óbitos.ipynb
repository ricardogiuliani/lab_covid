{
 "cells": [
  {
   "cell_type": "code",
   "execution_count": 4,
   "metadata": {},
   "outputs": [],
   "source": [
    "import csv\n",
    "from datetime import date\n",
    "import os\n",
    "'''\n",
    "    Baixar o dataset no Ministério da Saúde https://covid.saude.gov.br/ e convertê-lo para CSV \n",
    "    e salvá-lo como covid.csv \n",
    "'''\n",
    "today = date.today()\n",
    "\n",
    "lista = list()\n",
    "c = 0\n",
    "'''\n",
    "    Abre o arquivo covid.csv, lê e adiciona apenas os registros referentes a municípios na lista\n",
    "'''\n",
    "with open('covid.csv', 'r') as csv_file:\n",
    "    csv_reader = csv.reader(csv_file, delimiter=\";\")\n",
    "    for lines in csv_reader:\n",
    "        if lines[4] in (None, \"\"):\n",
    "            continue\n",
    "        else:\n",
    "            lista.append(lines)\n",
    "''' \n",
    "    Arruma o formato da data para o padrão usado no BD\n",
    "'''\n",
    "# for l in lista:\n",
    "#     if c > 0:\n",
    "#         s = l[7].split('/')\n",
    "#         a = s[2]\n",
    "#         m = s[1]\n",
    "#         d = s[0]\n",
    "#         if int(d) < 10:\n",
    "#             d = str(f'0{d}')\n",
    "#         if int(m) < 10:\n",
    "#             m = str(f'0{m}')\n",
    "#         data = [a, m, d]\n",
    "#         nv_data = '-'.join(data)\n",
    "#         l[7] = nv_data\n",
    "#     c += 1\n",
    "\n",
    "'''\n",
    "    Cria dois arquivos CSV com dados Confirmados e os Óbitos\n",
    "'''\n",
    "with open(f'{today}-confimed_cases.csv', mode='w', newline='') as confirmed:\n",
    "    file = csv.writer(confirmed)  # delimiter=';', escapechar=' ', quoting=csv.QUOTE_NONE\n",
    "    for i in lista:\n",
    "        file.writerow([i[4], i[7], i[8], i[11]])\n",
    "with open(f'{today}-deaths.csv', mode='w', newline='') as death:\n",
    "    file = csv.writer(death)  # delimiter=';', escapechar=' ', quoting=csv.QUOTE_NONE\n",
    "    for i in lista:\n",
    "        file.writerow([i[4], i[7], i[8], i[13]])\n",
    "\n",
    "        \n",
    "if os.path.exists(\"covid.csv\"):\n",
    "  os.remove(\"covid.csv\")\n",
    "else:\n",
    "  print(\"The file does not exist\")"
   ]
  },
  {
   "cell_type": "code",
   "execution_count": null,
   "metadata": {},
   "outputs": [],
   "source": []
  }
 ],
 "metadata": {
  "kernelspec": {
   "display_name": "Python 3.8.1 64-bit",
   "language": "python",
   "name": "python38164bit1a47b14ccaa04f8588568034af662766"
  },
  "language_info": {
   "codemirror_mode": {
    "name": "ipython",
    "version": 3
   },
   "file_extension": ".py",
   "mimetype": "text/x-python",
   "name": "python",
   "nbconvert_exporter": "python",
   "pygments_lexer": "ipython3",
   "version": "3.8.1"
  }
 },
 "nbformat": 4,
 "nbformat_minor": 4
}
